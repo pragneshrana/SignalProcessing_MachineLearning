{
  "nbformat": 4,
  "nbformat_minor": 0,
  "metadata": {
    "colab": {
      "name": "LSTM_Human_Activity_Dataset",
      "provenance": [],
      "collapsed_sections": [],
      "authorship_tag": "ABX9TyPJa+S9eD4qS79iZqtjT4iO",
      "include_colab_link": true
    },
    "kernelspec": {
      "name": "python3",
      "display_name": "Python 3"
    }
  },
  "cells": [
    {
      "cell_type": "markdown",
      "metadata": {
        "id": "view-in-github",
        "colab_type": "text"
      },
      "source": [
        "<a href=\"https://colab.research.google.com/github/pragneshrana/SignalProcessing_MachineLearning/blob/main/LSTM_Human_Activity_Dataset.ipynb\" target=\"_parent\"><img src=\"https://colab.research.google.com/assets/colab-badge.svg\" alt=\"Open In Colab\"/></a>"
      ]
    },
    {
      "cell_type": "markdown",
      "metadata": {
        "id": "wBvZzQ3cDdvQ"
      },
      "source": [
        "\n",
        "# Signal Processing and Machine Learning\n",
        "---\n",
        "\n"
      ]
    },
    {
      "cell_type": "markdown",
      "metadata": {
        "id": "NNnDkIQwZKQm"
      },
      "source": [
        "### What is Signal?\n",
        "- Signal is just a fucntion form to represent the information\n",
        "- It combines physical simulation, mathematics and information\n",
        "\n",
        "### What is signal processing ?\n",
        "- It convert signals into another form\n",
        "- Information exraction and interpretation \n",
        "    - Speech recognition\n",
        "    - Computer vision\n",
        "\n",
        "#### Examples:\n",
        " - Audio Recording : analong pressure wave is converted into one-dimentional array\n",
        " - Photos : Analog scene of light is samples using CCD array and stored as a two-dimentional array\n",
        " - Text : Collection of char which further signes with 16 bit number\n",
        " - Ratings : movies, books are stores using 0-5\n",
        " "
      ]
    },
    {
      "cell_type": "markdown",
      "metadata": {
        "id": "atOmy31YZNcA"
      },
      "source": [
        "Process: \n",
        "\n",
        "Model : Voices -> Feature Extrcation -> Pitch / MMCC -> Model Training \n",
        "\n",
        "Unknown Voice : Feature Extraction -> Pitch / MMCC -> Prediction using Model -> Speaker\n"
      ]
    },
    {
      "cell_type": "markdown",
      "metadata": {
        "id": "a7Bi1Pg0ZRj8"
      },
      "source": [
        "#### In case of human body, \n",
        "- Activity signal -> featre extraction -> Model training -> Activity Inference\n",
        "\n",
        "(Ref : http://web.stanford.edu/class/ee269/Lecture1.pdf)"
      ]
    },
    {
      "cell_type": "markdown",
      "metadata": {
        "id": "yu0Nk2sFZOyq"
      },
      "source": [
        "- Generate the dataset\n",
        "    - Data sourcces\n",
        "    - Simulation\n",
        "    - Labelling and Supervised learning \n",
        "- Preprocess and tranform data\n",
        "    - Pre-Processing\n",
        "    - Transformation\n",
        "    - Feature extraction\n",
        "    - Visulization by time, frquency, and time-frequency domain\n",
        "- Develope Predictive Models\n",
        "    - Refrence Models\n",
        "    - Hardware-Acceleated training \n",
        "    - Analyze and tune hyper-parameter\n",
        "    - Time series models : Visual Inspection of over time\n",
        "    - Frequency domain analysis: Time series domain shows signal's energy distributed over time whereas, frequency domain representation includes information on the phase shift that must be applied to each frequency component in order to recover the original time signal with a combination of all the individual frequency components (FFT o DFT)\n",
        "    - **LSTM for human Activity recognition (HAR)**\n",
        "        - sensor based HAR\n",
        "            - wearables for humanbody\n",
        "        - External Device\n",
        "        - Sensory output data -> input data segmentation -> LSTM based model -> combine with per time step prediction \n",
        "        - Ref : https://www.mdpi.com/1424-8220/17/11/2556/htm\n",
        "             - They have used three models, \n",
        "                 - Unidirectional LSTM\n",
        "                 - Bidirectional LSTM\n",
        "                 - Cascade Bidorectional LSTM\n",
        "- Accelerate and Deploy\n",
        "    - Apps\n",
        "    - Enterprise Systems\n",
        "    - Embedded Devices and Hardware\n",
        "    \n",
        "     "
      ]
    },
    {
      "cell_type": "markdown",
      "metadata": {
        "id": "BOCexdocZc_H"
      },
      "source": [
        "For the sake of example, Human Activity dataset is used and LSTM model is applied to predict human activity.\n"
      ]
    },
    {
      "cell_type": "markdown",
      "metadata": {
        "id": "OzIWPZmhZeTK"
      },
      "source": [
        "About this Dataset\n",
        "\n",
        "The Human Activity Recognition database was built from the recordings of 30 study participants performing activities of daily living (ADL) while carrying a waist-mounted smartphone with embedded inertial sensors. The objective is to classify activities into one of the six activities performed."
      ]
    },
    {
      "cell_type": "code",
      "metadata": {
        "id": "VAtGcAlrCxMv"
      },
      "source": [
        "import numpy as np\n",
        "import pandas as pd\n",
        "import os\n",
        "import tensorflow as tf\n",
        "from tensorflow import keras\n",
        "from tensorflow.keras import layers\n",
        "from keras.utils import to_categorical"
      ],
      "execution_count": 1,
      "outputs": []
    },
    {
      "cell_type": "code",
      "metadata": {
        "id": "I1Zsdl55DUq_"
      },
      "source": [
        "train = pd.read_csv('https://raw.githubusercontent.com/pragneshrana/SignalProcessing_MachineLearning/main/data/train.csv')\n",
        "test = pd.read_csv('https://raw.githubusercontent.com/pragneshrana/SignalProcessing_MachineLearning/main/data/test.csv')"
      ],
      "execution_count": 2,
      "outputs": []
    },
    {
      "cell_type": "code",
      "metadata": {
        "id": "EPI9vOFBZpN3",
        "colab": {
          "base_uri": "https://localhost:8080/"
        },
        "outputId": "d9babc40-0876-4c3c-c96f-2023d94104ce"
      },
      "source": [
        "train.columns\n"
      ],
      "execution_count": 3,
      "outputs": [
        {
          "output_type": "execute_result",
          "data": {
            "text/plain": [
              "Index(['tBodyAcc-mean()-X', 'tBodyAcc-mean()-Y', 'tBodyAcc-mean()-Z',\n",
              "       'tBodyAcc-std()-X', 'tBodyAcc-std()-Y', 'tBodyAcc-std()-Z',\n",
              "       'tBodyAcc-mad()-X', 'tBodyAcc-mad()-Y', 'tBodyAcc-mad()-Z',\n",
              "       'tBodyAcc-max()-X',\n",
              "       ...\n",
              "       'fBodyBodyGyroJerkMag-kurtosis()', 'angle(tBodyAccMean,gravity)',\n",
              "       'angle(tBodyAccJerkMean),gravityMean)',\n",
              "       'angle(tBodyGyroMean,gravityMean)',\n",
              "       'angle(tBodyGyroJerkMean,gravityMean)', 'angle(X,gravityMean)',\n",
              "       'angle(Y,gravityMean)', 'angle(Z,gravityMean)', 'subject', 'Activity'],\n",
              "      dtype='object', length=563)"
            ]
          },
          "metadata": {
            "tags": []
          },
          "execution_count": 3
        }
      ]
    },
    {
      "cell_type": "code",
      "metadata": {
        "id": "ugMyAsgpZs6t",
        "colab": {
          "base_uri": "https://localhost:8080/"
        },
        "outputId": "3dc163d1-1eea-4493-e494-b5f45f39e5e8"
      },
      "source": [
        "train.shape"
      ],
      "execution_count": 4,
      "outputs": [
        {
          "output_type": "execute_result",
          "data": {
            "text/plain": [
              "(7352, 563)"
            ]
          },
          "metadata": {
            "tags": []
          },
          "execution_count": 4
        }
      ]
    },
    {
      "cell_type": "code",
      "metadata": {
        "id": "En-erTwBZxcg",
        "colab": {
          "base_uri": "https://localhost:8080/",
          "height": 291
        },
        "outputId": "d734cb12-71f8-408e-ba9e-34210fdcca4c"
      },
      "source": [
        "train.head()"
      ],
      "execution_count": 5,
      "outputs": [
        {
          "output_type": "execute_result",
          "data": {
            "text/html": [
              "<div>\n",
              "<style scoped>\n",
              "    .dataframe tbody tr th:only-of-type {\n",
              "        vertical-align: middle;\n",
              "    }\n",
              "\n",
              "    .dataframe tbody tr th {\n",
              "        vertical-align: top;\n",
              "    }\n",
              "\n",
              "    .dataframe thead th {\n",
              "        text-align: right;\n",
              "    }\n",
              "</style>\n",
              "<table border=\"1\" class=\"dataframe\">\n",
              "  <thead>\n",
              "    <tr style=\"text-align: right;\">\n",
              "      <th></th>\n",
              "      <th>tBodyAcc-mean()-X</th>\n",
              "      <th>tBodyAcc-mean()-Y</th>\n",
              "      <th>tBodyAcc-mean()-Z</th>\n",
              "      <th>tBodyAcc-std()-X</th>\n",
              "      <th>tBodyAcc-std()-Y</th>\n",
              "      <th>tBodyAcc-std()-Z</th>\n",
              "      <th>tBodyAcc-mad()-X</th>\n",
              "      <th>tBodyAcc-mad()-Y</th>\n",
              "      <th>tBodyAcc-mad()-Z</th>\n",
              "      <th>tBodyAcc-max()-X</th>\n",
              "      <th>tBodyAcc-max()-Y</th>\n",
              "      <th>tBodyAcc-max()-Z</th>\n",
              "      <th>tBodyAcc-min()-X</th>\n",
              "      <th>tBodyAcc-min()-Y</th>\n",
              "      <th>tBodyAcc-min()-Z</th>\n",
              "      <th>tBodyAcc-sma()</th>\n",
              "      <th>tBodyAcc-energy()-X</th>\n",
              "      <th>tBodyAcc-energy()-Y</th>\n",
              "      <th>tBodyAcc-energy()-Z</th>\n",
              "      <th>tBodyAcc-iqr()-X</th>\n",
              "      <th>tBodyAcc-iqr()-Y</th>\n",
              "      <th>tBodyAcc-iqr()-Z</th>\n",
              "      <th>tBodyAcc-entropy()-X</th>\n",
              "      <th>tBodyAcc-entropy()-Y</th>\n",
              "      <th>tBodyAcc-entropy()-Z</th>\n",
              "      <th>tBodyAcc-arCoeff()-X,1</th>\n",
              "      <th>tBodyAcc-arCoeff()-X,2</th>\n",
              "      <th>tBodyAcc-arCoeff()-X,3</th>\n",
              "      <th>tBodyAcc-arCoeff()-X,4</th>\n",
              "      <th>tBodyAcc-arCoeff()-Y,1</th>\n",
              "      <th>tBodyAcc-arCoeff()-Y,2</th>\n",
              "      <th>tBodyAcc-arCoeff()-Y,3</th>\n",
              "      <th>tBodyAcc-arCoeff()-Y,4</th>\n",
              "      <th>tBodyAcc-arCoeff()-Z,1</th>\n",
              "      <th>tBodyAcc-arCoeff()-Z,2</th>\n",
              "      <th>tBodyAcc-arCoeff()-Z,3</th>\n",
              "      <th>tBodyAcc-arCoeff()-Z,4</th>\n",
              "      <th>tBodyAcc-correlation()-X,Y</th>\n",
              "      <th>tBodyAcc-correlation()-X,Z</th>\n",
              "      <th>tBodyAcc-correlation()-Y,Z</th>\n",
              "      <th>...</th>\n",
              "      <th>fBodyBodyAccJerkMag-entropy()</th>\n",
              "      <th>fBodyBodyAccJerkMag-maxInds</th>\n",
              "      <th>fBodyBodyAccJerkMag-meanFreq()</th>\n",
              "      <th>fBodyBodyAccJerkMag-skewness()</th>\n",
              "      <th>fBodyBodyAccJerkMag-kurtosis()</th>\n",
              "      <th>fBodyBodyGyroMag-mean()</th>\n",
              "      <th>fBodyBodyGyroMag-std()</th>\n",
              "      <th>fBodyBodyGyroMag-mad()</th>\n",
              "      <th>fBodyBodyGyroMag-max()</th>\n",
              "      <th>fBodyBodyGyroMag-min()</th>\n",
              "      <th>fBodyBodyGyroMag-sma()</th>\n",
              "      <th>fBodyBodyGyroMag-energy()</th>\n",
              "      <th>fBodyBodyGyroMag-iqr()</th>\n",
              "      <th>fBodyBodyGyroMag-entropy()</th>\n",
              "      <th>fBodyBodyGyroMag-maxInds</th>\n",
              "      <th>fBodyBodyGyroMag-meanFreq()</th>\n",
              "      <th>fBodyBodyGyroMag-skewness()</th>\n",
              "      <th>fBodyBodyGyroMag-kurtosis()</th>\n",
              "      <th>fBodyBodyGyroJerkMag-mean()</th>\n",
              "      <th>fBodyBodyGyroJerkMag-std()</th>\n",
              "      <th>fBodyBodyGyroJerkMag-mad()</th>\n",
              "      <th>fBodyBodyGyroJerkMag-max()</th>\n",
              "      <th>fBodyBodyGyroJerkMag-min()</th>\n",
              "      <th>fBodyBodyGyroJerkMag-sma()</th>\n",
              "      <th>fBodyBodyGyroJerkMag-energy()</th>\n",
              "      <th>fBodyBodyGyroJerkMag-iqr()</th>\n",
              "      <th>fBodyBodyGyroJerkMag-entropy()</th>\n",
              "      <th>fBodyBodyGyroJerkMag-maxInds</th>\n",
              "      <th>fBodyBodyGyroJerkMag-meanFreq()</th>\n",
              "      <th>fBodyBodyGyroJerkMag-skewness()</th>\n",
              "      <th>fBodyBodyGyroJerkMag-kurtosis()</th>\n",
              "      <th>angle(tBodyAccMean,gravity)</th>\n",
              "      <th>angle(tBodyAccJerkMean),gravityMean)</th>\n",
              "      <th>angle(tBodyGyroMean,gravityMean)</th>\n",
              "      <th>angle(tBodyGyroJerkMean,gravityMean)</th>\n",
              "      <th>angle(X,gravityMean)</th>\n",
              "      <th>angle(Y,gravityMean)</th>\n",
              "      <th>angle(Z,gravityMean)</th>\n",
              "      <th>subject</th>\n",
              "      <th>Activity</th>\n",
              "    </tr>\n",
              "  </thead>\n",
              "  <tbody>\n",
              "    <tr>\n",
              "      <th>0</th>\n",
              "      <td>0.288585</td>\n",
              "      <td>-0.020294</td>\n",
              "      <td>-0.132905</td>\n",
              "      <td>-0.995279</td>\n",
              "      <td>-0.983111</td>\n",
              "      <td>-0.913526</td>\n",
              "      <td>-0.995112</td>\n",
              "      <td>-0.983185</td>\n",
              "      <td>-0.923527</td>\n",
              "      <td>-0.934724</td>\n",
              "      <td>-0.567378</td>\n",
              "      <td>-0.744413</td>\n",
              "      <td>0.852947</td>\n",
              "      <td>0.685845</td>\n",
              "      <td>0.814263</td>\n",
              "      <td>-0.965523</td>\n",
              "      <td>-0.999945</td>\n",
              "      <td>-0.999863</td>\n",
              "      <td>-0.994612</td>\n",
              "      <td>-0.994231</td>\n",
              "      <td>-0.987614</td>\n",
              "      <td>-0.943220</td>\n",
              "      <td>-0.407747</td>\n",
              "      <td>-0.679338</td>\n",
              "      <td>-0.602122</td>\n",
              "      <td>0.929294</td>\n",
              "      <td>-0.853011</td>\n",
              "      <td>0.359910</td>\n",
              "      <td>-0.058526</td>\n",
              "      <td>0.256892</td>\n",
              "      <td>-0.224848</td>\n",
              "      <td>0.264106</td>\n",
              "      <td>-0.095246</td>\n",
              "      <td>0.278851</td>\n",
              "      <td>-0.465085</td>\n",
              "      <td>0.491936</td>\n",
              "      <td>-0.190884</td>\n",
              "      <td>0.376314</td>\n",
              "      <td>0.435129</td>\n",
              "      <td>0.660790</td>\n",
              "      <td>...</td>\n",
              "      <td>-1.0</td>\n",
              "      <td>-0.936508</td>\n",
              "      <td>0.346989</td>\n",
              "      <td>-0.516080</td>\n",
              "      <td>-0.802760</td>\n",
              "      <td>-0.980135</td>\n",
              "      <td>-0.961309</td>\n",
              "      <td>-0.973653</td>\n",
              "      <td>-0.952264</td>\n",
              "      <td>-0.989498</td>\n",
              "      <td>-0.980135</td>\n",
              "      <td>-0.999240</td>\n",
              "      <td>-0.992656</td>\n",
              "      <td>-0.701291</td>\n",
              "      <td>-1.000000</td>\n",
              "      <td>-0.128989</td>\n",
              "      <td>0.586156</td>\n",
              "      <td>0.374605</td>\n",
              "      <td>-0.991990</td>\n",
              "      <td>-0.990697</td>\n",
              "      <td>-0.989941</td>\n",
              "      <td>-0.992448</td>\n",
              "      <td>-0.991048</td>\n",
              "      <td>-0.991990</td>\n",
              "      <td>-0.999937</td>\n",
              "      <td>-0.990458</td>\n",
              "      <td>-0.871306</td>\n",
              "      <td>-1.000000</td>\n",
              "      <td>-0.074323</td>\n",
              "      <td>-0.298676</td>\n",
              "      <td>-0.710304</td>\n",
              "      <td>-0.112754</td>\n",
              "      <td>0.030400</td>\n",
              "      <td>-0.464761</td>\n",
              "      <td>-0.018446</td>\n",
              "      <td>-0.841247</td>\n",
              "      <td>0.179941</td>\n",
              "      <td>-0.058627</td>\n",
              "      <td>1</td>\n",
              "      <td>STANDING</td>\n",
              "    </tr>\n",
              "    <tr>\n",
              "      <th>1</th>\n",
              "      <td>0.278419</td>\n",
              "      <td>-0.016411</td>\n",
              "      <td>-0.123520</td>\n",
              "      <td>-0.998245</td>\n",
              "      <td>-0.975300</td>\n",
              "      <td>-0.960322</td>\n",
              "      <td>-0.998807</td>\n",
              "      <td>-0.974914</td>\n",
              "      <td>-0.957686</td>\n",
              "      <td>-0.943068</td>\n",
              "      <td>-0.557851</td>\n",
              "      <td>-0.818409</td>\n",
              "      <td>0.849308</td>\n",
              "      <td>0.685845</td>\n",
              "      <td>0.822637</td>\n",
              "      <td>-0.981930</td>\n",
              "      <td>-0.999991</td>\n",
              "      <td>-0.999788</td>\n",
              "      <td>-0.998405</td>\n",
              "      <td>-0.999150</td>\n",
              "      <td>-0.977866</td>\n",
              "      <td>-0.948225</td>\n",
              "      <td>-0.714892</td>\n",
              "      <td>-0.500930</td>\n",
              "      <td>-0.570979</td>\n",
              "      <td>0.611627</td>\n",
              "      <td>-0.329549</td>\n",
              "      <td>0.284213</td>\n",
              "      <td>0.284595</td>\n",
              "      <td>0.115705</td>\n",
              "      <td>-0.090963</td>\n",
              "      <td>0.294310</td>\n",
              "      <td>-0.281211</td>\n",
              "      <td>0.085988</td>\n",
              "      <td>-0.022153</td>\n",
              "      <td>-0.016657</td>\n",
              "      <td>-0.220643</td>\n",
              "      <td>-0.013429</td>\n",
              "      <td>-0.072692</td>\n",
              "      <td>0.579382</td>\n",
              "      <td>...</td>\n",
              "      <td>-1.0</td>\n",
              "      <td>-0.841270</td>\n",
              "      <td>0.532061</td>\n",
              "      <td>-0.624871</td>\n",
              "      <td>-0.900160</td>\n",
              "      <td>-0.988296</td>\n",
              "      <td>-0.983322</td>\n",
              "      <td>-0.982659</td>\n",
              "      <td>-0.986321</td>\n",
              "      <td>-0.991829</td>\n",
              "      <td>-0.988296</td>\n",
              "      <td>-0.999811</td>\n",
              "      <td>-0.993979</td>\n",
              "      <td>-0.720683</td>\n",
              "      <td>-0.948718</td>\n",
              "      <td>-0.271958</td>\n",
              "      <td>-0.336310</td>\n",
              "      <td>-0.720015</td>\n",
              "      <td>-0.995854</td>\n",
              "      <td>-0.996399</td>\n",
              "      <td>-0.995442</td>\n",
              "      <td>-0.996866</td>\n",
              "      <td>-0.994440</td>\n",
              "      <td>-0.995854</td>\n",
              "      <td>-0.999981</td>\n",
              "      <td>-0.994544</td>\n",
              "      <td>-1.000000</td>\n",
              "      <td>-1.000000</td>\n",
              "      <td>0.158075</td>\n",
              "      <td>-0.595051</td>\n",
              "      <td>-0.861499</td>\n",
              "      <td>0.053477</td>\n",
              "      <td>-0.007435</td>\n",
              "      <td>-0.732626</td>\n",
              "      <td>0.703511</td>\n",
              "      <td>-0.844788</td>\n",
              "      <td>0.180289</td>\n",
              "      <td>-0.054317</td>\n",
              "      <td>1</td>\n",
              "      <td>STANDING</td>\n",
              "    </tr>\n",
              "    <tr>\n",
              "      <th>2</th>\n",
              "      <td>0.279653</td>\n",
              "      <td>-0.019467</td>\n",
              "      <td>-0.113462</td>\n",
              "      <td>-0.995380</td>\n",
              "      <td>-0.967187</td>\n",
              "      <td>-0.978944</td>\n",
              "      <td>-0.996520</td>\n",
              "      <td>-0.963668</td>\n",
              "      <td>-0.977469</td>\n",
              "      <td>-0.938692</td>\n",
              "      <td>-0.557851</td>\n",
              "      <td>-0.818409</td>\n",
              "      <td>0.843609</td>\n",
              "      <td>0.682401</td>\n",
              "      <td>0.839344</td>\n",
              "      <td>-0.983478</td>\n",
              "      <td>-0.999969</td>\n",
              "      <td>-0.999660</td>\n",
              "      <td>-0.999470</td>\n",
              "      <td>-0.997130</td>\n",
              "      <td>-0.964810</td>\n",
              "      <td>-0.974675</td>\n",
              "      <td>-0.592235</td>\n",
              "      <td>-0.485821</td>\n",
              "      <td>-0.570979</td>\n",
              "      <td>0.273025</td>\n",
              "      <td>-0.086309</td>\n",
              "      <td>0.337202</td>\n",
              "      <td>-0.164739</td>\n",
              "      <td>0.017150</td>\n",
              "      <td>-0.074507</td>\n",
              "      <td>0.342256</td>\n",
              "      <td>-0.332564</td>\n",
              "      <td>0.239281</td>\n",
              "      <td>-0.136204</td>\n",
              "      <td>0.173863</td>\n",
              "      <td>-0.299493</td>\n",
              "      <td>-0.124698</td>\n",
              "      <td>-0.181105</td>\n",
              "      <td>0.608900</td>\n",
              "      <td>...</td>\n",
              "      <td>-1.0</td>\n",
              "      <td>-0.904762</td>\n",
              "      <td>0.660795</td>\n",
              "      <td>-0.724697</td>\n",
              "      <td>-0.928539</td>\n",
              "      <td>-0.989255</td>\n",
              "      <td>-0.986028</td>\n",
              "      <td>-0.984274</td>\n",
              "      <td>-0.990979</td>\n",
              "      <td>-0.995703</td>\n",
              "      <td>-0.989255</td>\n",
              "      <td>-0.999854</td>\n",
              "      <td>-0.993238</td>\n",
              "      <td>-0.736521</td>\n",
              "      <td>-0.794872</td>\n",
              "      <td>-0.212728</td>\n",
              "      <td>-0.535352</td>\n",
              "      <td>-0.871914</td>\n",
              "      <td>-0.995031</td>\n",
              "      <td>-0.995127</td>\n",
              "      <td>-0.994640</td>\n",
              "      <td>-0.996060</td>\n",
              "      <td>-0.995866</td>\n",
              "      <td>-0.995031</td>\n",
              "      <td>-0.999973</td>\n",
              "      <td>-0.993755</td>\n",
              "      <td>-1.000000</td>\n",
              "      <td>-0.555556</td>\n",
              "      <td>0.414503</td>\n",
              "      <td>-0.390748</td>\n",
              "      <td>-0.760104</td>\n",
              "      <td>-0.118559</td>\n",
              "      <td>0.177899</td>\n",
              "      <td>0.100699</td>\n",
              "      <td>0.808529</td>\n",
              "      <td>-0.848933</td>\n",
              "      <td>0.180637</td>\n",
              "      <td>-0.049118</td>\n",
              "      <td>1</td>\n",
              "      <td>STANDING</td>\n",
              "    </tr>\n",
              "    <tr>\n",
              "      <th>3</th>\n",
              "      <td>0.279174</td>\n",
              "      <td>-0.026201</td>\n",
              "      <td>-0.123283</td>\n",
              "      <td>-0.996091</td>\n",
              "      <td>-0.983403</td>\n",
              "      <td>-0.990675</td>\n",
              "      <td>-0.997099</td>\n",
              "      <td>-0.982750</td>\n",
              "      <td>-0.989302</td>\n",
              "      <td>-0.938692</td>\n",
              "      <td>-0.576159</td>\n",
              "      <td>-0.829711</td>\n",
              "      <td>0.843609</td>\n",
              "      <td>0.682401</td>\n",
              "      <td>0.837869</td>\n",
              "      <td>-0.986093</td>\n",
              "      <td>-0.999976</td>\n",
              "      <td>-0.999736</td>\n",
              "      <td>-0.999504</td>\n",
              "      <td>-0.997180</td>\n",
              "      <td>-0.983799</td>\n",
              "      <td>-0.986007</td>\n",
              "      <td>-0.627446</td>\n",
              "      <td>-0.850930</td>\n",
              "      <td>-0.911872</td>\n",
              "      <td>0.061436</td>\n",
              "      <td>0.074840</td>\n",
              "      <td>0.198204</td>\n",
              "      <td>-0.264307</td>\n",
              "      <td>0.072545</td>\n",
              "      <td>-0.155320</td>\n",
              "      <td>0.323154</td>\n",
              "      <td>-0.170813</td>\n",
              "      <td>0.294938</td>\n",
              "      <td>-0.306081</td>\n",
              "      <td>0.482148</td>\n",
              "      <td>-0.470129</td>\n",
              "      <td>-0.305693</td>\n",
              "      <td>-0.362654</td>\n",
              "      <td>0.507459</td>\n",
              "      <td>...</td>\n",
              "      <td>-1.0</td>\n",
              "      <td>1.000000</td>\n",
              "      <td>0.678921</td>\n",
              "      <td>-0.701131</td>\n",
              "      <td>-0.909639</td>\n",
              "      <td>-0.989413</td>\n",
              "      <td>-0.987836</td>\n",
              "      <td>-0.986850</td>\n",
              "      <td>-0.986749</td>\n",
              "      <td>-0.996199</td>\n",
              "      <td>-0.989413</td>\n",
              "      <td>-0.999876</td>\n",
              "      <td>-0.989136</td>\n",
              "      <td>-0.720891</td>\n",
              "      <td>-1.000000</td>\n",
              "      <td>-0.035684</td>\n",
              "      <td>-0.230091</td>\n",
              "      <td>-0.511217</td>\n",
              "      <td>-0.995221</td>\n",
              "      <td>-0.995237</td>\n",
              "      <td>-0.995722</td>\n",
              "      <td>-0.995273</td>\n",
              "      <td>-0.995732</td>\n",
              "      <td>-0.995221</td>\n",
              "      <td>-0.999974</td>\n",
              "      <td>-0.995226</td>\n",
              "      <td>-0.955696</td>\n",
              "      <td>-0.936508</td>\n",
              "      <td>0.404573</td>\n",
              "      <td>-0.117290</td>\n",
              "      <td>-0.482845</td>\n",
              "      <td>-0.036788</td>\n",
              "      <td>-0.012892</td>\n",
              "      <td>0.640011</td>\n",
              "      <td>-0.485366</td>\n",
              "      <td>-0.848649</td>\n",
              "      <td>0.181935</td>\n",
              "      <td>-0.047663</td>\n",
              "      <td>1</td>\n",
              "      <td>STANDING</td>\n",
              "    </tr>\n",
              "    <tr>\n",
              "      <th>4</th>\n",
              "      <td>0.276629</td>\n",
              "      <td>-0.016570</td>\n",
              "      <td>-0.115362</td>\n",
              "      <td>-0.998139</td>\n",
              "      <td>-0.980817</td>\n",
              "      <td>-0.990482</td>\n",
              "      <td>-0.998321</td>\n",
              "      <td>-0.979672</td>\n",
              "      <td>-0.990441</td>\n",
              "      <td>-0.942469</td>\n",
              "      <td>-0.569174</td>\n",
              "      <td>-0.824705</td>\n",
              "      <td>0.849095</td>\n",
              "      <td>0.683250</td>\n",
              "      <td>0.837869</td>\n",
              "      <td>-0.992653</td>\n",
              "      <td>-0.999991</td>\n",
              "      <td>-0.999856</td>\n",
              "      <td>-0.999757</td>\n",
              "      <td>-0.998004</td>\n",
              "      <td>-0.981232</td>\n",
              "      <td>-0.991325</td>\n",
              "      <td>-0.786553</td>\n",
              "      <td>-0.559477</td>\n",
              "      <td>-0.761434</td>\n",
              "      <td>0.313276</td>\n",
              "      <td>-0.131208</td>\n",
              "      <td>0.191161</td>\n",
              "      <td>0.086904</td>\n",
              "      <td>0.257615</td>\n",
              "      <td>-0.272505</td>\n",
              "      <td>0.434728</td>\n",
              "      <td>-0.315375</td>\n",
              "      <td>0.439744</td>\n",
              "      <td>-0.269069</td>\n",
              "      <td>0.179414</td>\n",
              "      <td>-0.088952</td>\n",
              "      <td>-0.155804</td>\n",
              "      <td>-0.189763</td>\n",
              "      <td>0.599213</td>\n",
              "      <td>...</td>\n",
              "      <td>-1.0</td>\n",
              "      <td>-1.000000</td>\n",
              "      <td>0.559058</td>\n",
              "      <td>-0.528901</td>\n",
              "      <td>-0.858933</td>\n",
              "      <td>-0.991433</td>\n",
              "      <td>-0.989059</td>\n",
              "      <td>-0.987744</td>\n",
              "      <td>-0.991462</td>\n",
              "      <td>-0.998353</td>\n",
              "      <td>-0.991433</td>\n",
              "      <td>-0.999902</td>\n",
              "      <td>-0.989321</td>\n",
              "      <td>-0.763372</td>\n",
              "      <td>-0.897436</td>\n",
              "      <td>-0.273582</td>\n",
              "      <td>-0.510282</td>\n",
              "      <td>-0.830702</td>\n",
              "      <td>-0.995093</td>\n",
              "      <td>-0.995465</td>\n",
              "      <td>-0.995279</td>\n",
              "      <td>-0.995609</td>\n",
              "      <td>-0.997418</td>\n",
              "      <td>-0.995093</td>\n",
              "      <td>-0.999974</td>\n",
              "      <td>-0.995487</td>\n",
              "      <td>-1.000000</td>\n",
              "      <td>-0.936508</td>\n",
              "      <td>0.087753</td>\n",
              "      <td>-0.351471</td>\n",
              "      <td>-0.699205</td>\n",
              "      <td>0.123320</td>\n",
              "      <td>0.122542</td>\n",
              "      <td>0.693578</td>\n",
              "      <td>-0.615971</td>\n",
              "      <td>-0.847865</td>\n",
              "      <td>0.185151</td>\n",
              "      <td>-0.043892</td>\n",
              "      <td>1</td>\n",
              "      <td>STANDING</td>\n",
              "    </tr>\n",
              "  </tbody>\n",
              "</table>\n",
              "<p>5 rows × 563 columns</p>\n",
              "</div>"
            ],
            "text/plain": [
              "   tBodyAcc-mean()-X  tBodyAcc-mean()-Y  ...  subject  Activity\n",
              "0           0.288585          -0.020294  ...        1  STANDING\n",
              "1           0.278419          -0.016411  ...        1  STANDING\n",
              "2           0.279653          -0.019467  ...        1  STANDING\n",
              "3           0.279174          -0.026201  ...        1  STANDING\n",
              "4           0.276629          -0.016570  ...        1  STANDING\n",
              "\n",
              "[5 rows x 563 columns]"
            ]
          },
          "metadata": {
            "tags": []
          },
          "execution_count": 5
        }
      ]
    },
    {
      "cell_type": "code",
      "metadata": {
        "id": "h0H8cTnYZyL0",
        "colab": {
          "base_uri": "https://localhost:8080/",
          "height": 291
        },
        "outputId": "f30fbe40-9e60-4d41-e1f8-39384ed26ca4"
      },
      "source": [
        "test.head()"
      ],
      "execution_count": 6,
      "outputs": [
        {
          "output_type": "execute_result",
          "data": {
            "text/html": [
              "<div>\n",
              "<style scoped>\n",
              "    .dataframe tbody tr th:only-of-type {\n",
              "        vertical-align: middle;\n",
              "    }\n",
              "\n",
              "    .dataframe tbody tr th {\n",
              "        vertical-align: top;\n",
              "    }\n",
              "\n",
              "    .dataframe thead th {\n",
              "        text-align: right;\n",
              "    }\n",
              "</style>\n",
              "<table border=\"1\" class=\"dataframe\">\n",
              "  <thead>\n",
              "    <tr style=\"text-align: right;\">\n",
              "      <th></th>\n",
              "      <th>tBodyAcc-mean()-X</th>\n",
              "      <th>tBodyAcc-mean()-Y</th>\n",
              "      <th>tBodyAcc-mean()-Z</th>\n",
              "      <th>tBodyAcc-std()-X</th>\n",
              "      <th>tBodyAcc-std()-Y</th>\n",
              "      <th>tBodyAcc-std()-Z</th>\n",
              "      <th>tBodyAcc-mad()-X</th>\n",
              "      <th>tBodyAcc-mad()-Y</th>\n",
              "      <th>tBodyAcc-mad()-Z</th>\n",
              "      <th>tBodyAcc-max()-X</th>\n",
              "      <th>tBodyAcc-max()-Y</th>\n",
              "      <th>tBodyAcc-max()-Z</th>\n",
              "      <th>tBodyAcc-min()-X</th>\n",
              "      <th>tBodyAcc-min()-Y</th>\n",
              "      <th>tBodyAcc-min()-Z</th>\n",
              "      <th>tBodyAcc-sma()</th>\n",
              "      <th>tBodyAcc-energy()-X</th>\n",
              "      <th>tBodyAcc-energy()-Y</th>\n",
              "      <th>tBodyAcc-energy()-Z</th>\n",
              "      <th>tBodyAcc-iqr()-X</th>\n",
              "      <th>tBodyAcc-iqr()-Y</th>\n",
              "      <th>tBodyAcc-iqr()-Z</th>\n",
              "      <th>tBodyAcc-entropy()-X</th>\n",
              "      <th>tBodyAcc-entropy()-Y</th>\n",
              "      <th>tBodyAcc-entropy()-Z</th>\n",
              "      <th>tBodyAcc-arCoeff()-X,1</th>\n",
              "      <th>tBodyAcc-arCoeff()-X,2</th>\n",
              "      <th>tBodyAcc-arCoeff()-X,3</th>\n",
              "      <th>tBodyAcc-arCoeff()-X,4</th>\n",
              "      <th>tBodyAcc-arCoeff()-Y,1</th>\n",
              "      <th>tBodyAcc-arCoeff()-Y,2</th>\n",
              "      <th>tBodyAcc-arCoeff()-Y,3</th>\n",
              "      <th>tBodyAcc-arCoeff()-Y,4</th>\n",
              "      <th>tBodyAcc-arCoeff()-Z,1</th>\n",
              "      <th>tBodyAcc-arCoeff()-Z,2</th>\n",
              "      <th>tBodyAcc-arCoeff()-Z,3</th>\n",
              "      <th>tBodyAcc-arCoeff()-Z,4</th>\n",
              "      <th>tBodyAcc-correlation()-X,Y</th>\n",
              "      <th>tBodyAcc-correlation()-X,Z</th>\n",
              "      <th>tBodyAcc-correlation()-Y,Z</th>\n",
              "      <th>...</th>\n",
              "      <th>fBodyBodyAccJerkMag-entropy()</th>\n",
              "      <th>fBodyBodyAccJerkMag-maxInds</th>\n",
              "      <th>fBodyBodyAccJerkMag-meanFreq()</th>\n",
              "      <th>fBodyBodyAccJerkMag-skewness()</th>\n",
              "      <th>fBodyBodyAccJerkMag-kurtosis()</th>\n",
              "      <th>fBodyBodyGyroMag-mean()</th>\n",
              "      <th>fBodyBodyGyroMag-std()</th>\n",
              "      <th>fBodyBodyGyroMag-mad()</th>\n",
              "      <th>fBodyBodyGyroMag-max()</th>\n",
              "      <th>fBodyBodyGyroMag-min()</th>\n",
              "      <th>fBodyBodyGyroMag-sma()</th>\n",
              "      <th>fBodyBodyGyroMag-energy()</th>\n",
              "      <th>fBodyBodyGyroMag-iqr()</th>\n",
              "      <th>fBodyBodyGyroMag-entropy()</th>\n",
              "      <th>fBodyBodyGyroMag-maxInds</th>\n",
              "      <th>fBodyBodyGyroMag-meanFreq()</th>\n",
              "      <th>fBodyBodyGyroMag-skewness()</th>\n",
              "      <th>fBodyBodyGyroMag-kurtosis()</th>\n",
              "      <th>fBodyBodyGyroJerkMag-mean()</th>\n",
              "      <th>fBodyBodyGyroJerkMag-std()</th>\n",
              "      <th>fBodyBodyGyroJerkMag-mad()</th>\n",
              "      <th>fBodyBodyGyroJerkMag-max()</th>\n",
              "      <th>fBodyBodyGyroJerkMag-min()</th>\n",
              "      <th>fBodyBodyGyroJerkMag-sma()</th>\n",
              "      <th>fBodyBodyGyroJerkMag-energy()</th>\n",
              "      <th>fBodyBodyGyroJerkMag-iqr()</th>\n",
              "      <th>fBodyBodyGyroJerkMag-entropy()</th>\n",
              "      <th>fBodyBodyGyroJerkMag-maxInds</th>\n",
              "      <th>fBodyBodyGyroJerkMag-meanFreq()</th>\n",
              "      <th>fBodyBodyGyroJerkMag-skewness()</th>\n",
              "      <th>fBodyBodyGyroJerkMag-kurtosis()</th>\n",
              "      <th>angle(tBodyAccMean,gravity)</th>\n",
              "      <th>angle(tBodyAccJerkMean),gravityMean)</th>\n",
              "      <th>angle(tBodyGyroMean,gravityMean)</th>\n",
              "      <th>angle(tBodyGyroJerkMean,gravityMean)</th>\n",
              "      <th>angle(X,gravityMean)</th>\n",
              "      <th>angle(Y,gravityMean)</th>\n",
              "      <th>angle(Z,gravityMean)</th>\n",
              "      <th>subject</th>\n",
              "      <th>Activity</th>\n",
              "    </tr>\n",
              "  </thead>\n",
              "  <tbody>\n",
              "    <tr>\n",
              "      <th>0</th>\n",
              "      <td>0.257178</td>\n",
              "      <td>-0.023285</td>\n",
              "      <td>-0.014654</td>\n",
              "      <td>-0.938404</td>\n",
              "      <td>-0.920091</td>\n",
              "      <td>-0.667683</td>\n",
              "      <td>-0.952501</td>\n",
              "      <td>-0.925249</td>\n",
              "      <td>-0.674302</td>\n",
              "      <td>-0.894088</td>\n",
              "      <td>-0.554577</td>\n",
              "      <td>-0.466223</td>\n",
              "      <td>0.717208</td>\n",
              "      <td>0.635502</td>\n",
              "      <td>0.789497</td>\n",
              "      <td>-0.877764</td>\n",
              "      <td>-0.997766</td>\n",
              "      <td>-0.998414</td>\n",
              "      <td>-0.934345</td>\n",
              "      <td>-0.975669</td>\n",
              "      <td>-0.949824</td>\n",
              "      <td>-0.830478</td>\n",
              "      <td>-0.168084</td>\n",
              "      <td>-0.378996</td>\n",
              "      <td>0.246217</td>\n",
              "      <td>0.521204</td>\n",
              "      <td>-0.487793</td>\n",
              "      <td>0.482280</td>\n",
              "      <td>-0.045462</td>\n",
              "      <td>0.211955</td>\n",
              "      <td>-0.134894</td>\n",
              "      <td>0.130858</td>\n",
              "      <td>-0.014176</td>\n",
              "      <td>-0.105971</td>\n",
              "      <td>0.073544</td>\n",
              "      <td>-0.171516</td>\n",
              "      <td>0.040063</td>\n",
              "      <td>0.076989</td>\n",
              "      <td>-0.490546</td>\n",
              "      <td>-0.709003</td>\n",
              "      <td>...</td>\n",
              "      <td>-0.484619</td>\n",
              "      <td>-1.000000</td>\n",
              "      <td>-0.035356</td>\n",
              "      <td>-0.254248</td>\n",
              "      <td>-0.700326</td>\n",
              "      <td>-0.770610</td>\n",
              "      <td>-0.797113</td>\n",
              "      <td>-0.764485</td>\n",
              "      <td>-0.820188</td>\n",
              "      <td>-0.937959</td>\n",
              "      <td>-0.770610</td>\n",
              "      <td>-0.970958</td>\n",
              "      <td>-0.798387</td>\n",
              "      <td>0.179435</td>\n",
              "      <td>-1.000000</td>\n",
              "      <td>-0.047391</td>\n",
              "      <td>-0.467849</td>\n",
              "      <td>-0.761326</td>\n",
              "      <td>-0.890165</td>\n",
              "      <td>-0.907308</td>\n",
              "      <td>-0.895301</td>\n",
              "      <td>-0.917883</td>\n",
              "      <td>-0.909829</td>\n",
              "      <td>-0.890165</td>\n",
              "      <td>-0.994105</td>\n",
              "      <td>-0.898022</td>\n",
              "      <td>-0.234815</td>\n",
              "      <td>-1.000000</td>\n",
              "      <td>0.071645</td>\n",
              "      <td>-0.330370</td>\n",
              "      <td>-0.705974</td>\n",
              "      <td>0.006462</td>\n",
              "      <td>0.162920</td>\n",
              "      <td>-0.825886</td>\n",
              "      <td>0.271151</td>\n",
              "      <td>-0.720009</td>\n",
              "      <td>0.276801</td>\n",
              "      <td>-0.057978</td>\n",
              "      <td>2</td>\n",
              "      <td>STANDING</td>\n",
              "    </tr>\n",
              "    <tr>\n",
              "      <th>1</th>\n",
              "      <td>0.286027</td>\n",
              "      <td>-0.013163</td>\n",
              "      <td>-0.119083</td>\n",
              "      <td>-0.975415</td>\n",
              "      <td>-0.967458</td>\n",
              "      <td>-0.944958</td>\n",
              "      <td>-0.986799</td>\n",
              "      <td>-0.968401</td>\n",
              "      <td>-0.945823</td>\n",
              "      <td>-0.894088</td>\n",
              "      <td>-0.554577</td>\n",
              "      <td>-0.806013</td>\n",
              "      <td>0.768031</td>\n",
              "      <td>0.683698</td>\n",
              "      <td>0.796706</td>\n",
              "      <td>-0.969097</td>\n",
              "      <td>-0.999580</td>\n",
              "      <td>-0.999646</td>\n",
              "      <td>-0.997720</td>\n",
              "      <td>-0.994006</td>\n",
              "      <td>-0.973637</td>\n",
              "      <td>-0.950720</td>\n",
              "      <td>-0.302437</td>\n",
              "      <td>-0.348243</td>\n",
              "      <td>-0.404785</td>\n",
              "      <td>0.507492</td>\n",
              "      <td>-0.156495</td>\n",
              "      <td>0.040674</td>\n",
              "      <td>0.272991</td>\n",
              "      <td>0.197566</td>\n",
              "      <td>-0.194556</td>\n",
              "      <td>0.411411</td>\n",
              "      <td>-0.340466</td>\n",
              "      <td>0.077555</td>\n",
              "      <td>-0.084024</td>\n",
              "      <td>0.035305</td>\n",
              "      <td>-0.010083</td>\n",
              "      <td>-0.104983</td>\n",
              "      <td>-0.429134</td>\n",
              "      <td>0.399177</td>\n",
              "      <td>...</td>\n",
              "      <td>-0.723642</td>\n",
              "      <td>-1.000000</td>\n",
              "      <td>-0.491213</td>\n",
              "      <td>-0.215404</td>\n",
              "      <td>-0.666004</td>\n",
              "      <td>-0.924461</td>\n",
              "      <td>-0.916774</td>\n",
              "      <td>-0.919383</td>\n",
              "      <td>-0.917983</td>\n",
              "      <td>-0.991121</td>\n",
              "      <td>-0.924461</td>\n",
              "      <td>-0.995727</td>\n",
              "      <td>-0.933127</td>\n",
              "      <td>-0.218860</td>\n",
              "      <td>-1.000000</td>\n",
              "      <td>-0.031474</td>\n",
              "      <td>-0.090655</td>\n",
              "      <td>-0.461801</td>\n",
              "      <td>-0.951977</td>\n",
              "      <td>-0.938212</td>\n",
              "      <td>-0.938008</td>\n",
              "      <td>-0.949922</td>\n",
              "      <td>-0.986902</td>\n",
              "      <td>-0.951977</td>\n",
              "      <td>-0.998272</td>\n",
              "      <td>-0.951255</td>\n",
              "      <td>-0.431053</td>\n",
              "      <td>-1.000000</td>\n",
              "      <td>-0.401189</td>\n",
              "      <td>-0.121845</td>\n",
              "      <td>-0.594944</td>\n",
              "      <td>-0.083495</td>\n",
              "      <td>0.017500</td>\n",
              "      <td>-0.434375</td>\n",
              "      <td>0.920593</td>\n",
              "      <td>-0.698091</td>\n",
              "      <td>0.281343</td>\n",
              "      <td>-0.083898</td>\n",
              "      <td>2</td>\n",
              "      <td>STANDING</td>\n",
              "    </tr>\n",
              "    <tr>\n",
              "      <th>2</th>\n",
              "      <td>0.275485</td>\n",
              "      <td>-0.026050</td>\n",
              "      <td>-0.118152</td>\n",
              "      <td>-0.993819</td>\n",
              "      <td>-0.969926</td>\n",
              "      <td>-0.962748</td>\n",
              "      <td>-0.994403</td>\n",
              "      <td>-0.970735</td>\n",
              "      <td>-0.963483</td>\n",
              "      <td>-0.939260</td>\n",
              "      <td>-0.568512</td>\n",
              "      <td>-0.799116</td>\n",
              "      <td>0.848305</td>\n",
              "      <td>0.667864</td>\n",
              "      <td>0.822442</td>\n",
              "      <td>-0.976782</td>\n",
              "      <td>-0.999954</td>\n",
              "      <td>-0.999570</td>\n",
              "      <td>-0.998720</td>\n",
              "      <td>-0.993456</td>\n",
              "      <td>-0.974266</td>\n",
              "      <td>-0.964976</td>\n",
              "      <td>-0.617916</td>\n",
              "      <td>-0.695490</td>\n",
              "      <td>-0.536693</td>\n",
              "      <td>0.242147</td>\n",
              "      <td>-0.114997</td>\n",
              "      <td>0.032703</td>\n",
              "      <td>0.192385</td>\n",
              "      <td>-0.011945</td>\n",
              "      <td>-0.063363</td>\n",
              "      <td>0.470819</td>\n",
              "      <td>-0.507395</td>\n",
              "      <td>0.188536</td>\n",
              "      <td>-0.231575</td>\n",
              "      <td>0.632120</td>\n",
              "      <td>-0.550708</td>\n",
              "      <td>0.305653</td>\n",
              "      <td>-0.323848</td>\n",
              "      <td>0.279786</td>\n",
              "      <td>...</td>\n",
              "      <td>-0.898000</td>\n",
              "      <td>-1.000000</td>\n",
              "      <td>0.140729</td>\n",
              "      <td>-0.206062</td>\n",
              "      <td>-0.639809</td>\n",
              "      <td>-0.975209</td>\n",
              "      <td>-0.973998</td>\n",
              "      <td>-0.967097</td>\n",
              "      <td>-0.982849</td>\n",
              "      <td>-0.997663</td>\n",
              "      <td>-0.975209</td>\n",
              "      <td>-0.999504</td>\n",
              "      <td>-0.968260</td>\n",
              "      <td>-0.561266</td>\n",
              "      <td>-0.897436</td>\n",
              "      <td>-0.168805</td>\n",
              "      <td>-0.662317</td>\n",
              "      <td>-0.925364</td>\n",
              "      <td>-0.985689</td>\n",
              "      <td>-0.983273</td>\n",
              "      <td>-0.983422</td>\n",
              "      <td>-0.986857</td>\n",
              "      <td>-0.989609</td>\n",
              "      <td>-0.985689</td>\n",
              "      <td>-0.999831</td>\n",
              "      <td>-0.986148</td>\n",
              "      <td>-0.809976</td>\n",
              "      <td>-0.936508</td>\n",
              "      <td>0.062891</td>\n",
              "      <td>-0.190422</td>\n",
              "      <td>-0.640736</td>\n",
              "      <td>-0.034956</td>\n",
              "      <td>0.202302</td>\n",
              "      <td>0.064103</td>\n",
              "      <td>0.145068</td>\n",
              "      <td>-0.702771</td>\n",
              "      <td>0.280083</td>\n",
              "      <td>-0.079346</td>\n",
              "      <td>2</td>\n",
              "      <td>STANDING</td>\n",
              "    </tr>\n",
              "    <tr>\n",
              "      <th>3</th>\n",
              "      <td>0.270298</td>\n",
              "      <td>-0.032614</td>\n",
              "      <td>-0.117520</td>\n",
              "      <td>-0.994743</td>\n",
              "      <td>-0.973268</td>\n",
              "      <td>-0.967091</td>\n",
              "      <td>-0.995274</td>\n",
              "      <td>-0.974471</td>\n",
              "      <td>-0.968897</td>\n",
              "      <td>-0.938610</td>\n",
              "      <td>-0.568512</td>\n",
              "      <td>-0.799116</td>\n",
              "      <td>0.848305</td>\n",
              "      <td>0.667864</td>\n",
              "      <td>0.822442</td>\n",
              "      <td>-0.974418</td>\n",
              "      <td>-0.999953</td>\n",
              "      <td>-0.999330</td>\n",
              "      <td>-0.998933</td>\n",
              "      <td>-0.995236</td>\n",
              "      <td>-0.978739</td>\n",
              "      <td>-0.969982</td>\n",
              "      <td>-0.749578</td>\n",
              "      <td>-0.899226</td>\n",
              "      <td>-0.553813</td>\n",
              "      <td>0.174684</td>\n",
              "      <td>-0.051332</td>\n",
              "      <td>0.034200</td>\n",
              "      <td>0.153639</td>\n",
              "      <td>0.030767</td>\n",
              "      <td>-0.129277</td>\n",
              "      <td>0.446100</td>\n",
              "      <td>-0.419496</td>\n",
              "      <td>0.271493</td>\n",
              "      <td>-0.225769</td>\n",
              "      <td>0.416376</td>\n",
              "      <td>-0.286445</td>\n",
              "      <td>-0.063792</td>\n",
              "      <td>-0.167111</td>\n",
              "      <td>0.544916</td>\n",
              "      <td>...</td>\n",
              "      <td>-1.000000</td>\n",
              "      <td>-0.968254</td>\n",
              "      <td>0.148649</td>\n",
              "      <td>-0.619905</td>\n",
              "      <td>-0.887178</td>\n",
              "      <td>-0.976297</td>\n",
              "      <td>-0.971248</td>\n",
              "      <td>-0.966029</td>\n",
              "      <td>-0.974878</td>\n",
              "      <td>-0.996129</td>\n",
              "      <td>-0.976297</td>\n",
              "      <td>-0.999458</td>\n",
              "      <td>-0.975174</td>\n",
              "      <td>-0.566733</td>\n",
              "      <td>-0.948718</td>\n",
              "      <td>-0.285636</td>\n",
              "      <td>-0.446478</td>\n",
              "      <td>-0.756855</td>\n",
              "      <td>-0.985562</td>\n",
              "      <td>-0.985843</td>\n",
              "      <td>-0.984217</td>\n",
              "      <td>-0.988566</td>\n",
              "      <td>-0.992021</td>\n",
              "      <td>-0.985562</td>\n",
              "      <td>-0.999850</td>\n",
              "      <td>-0.984015</td>\n",
              "      <td>-0.849081</td>\n",
              "      <td>-0.936508</td>\n",
              "      <td>0.116695</td>\n",
              "      <td>-0.344418</td>\n",
              "      <td>-0.736124</td>\n",
              "      <td>-0.017067</td>\n",
              "      <td>0.154438</td>\n",
              "      <td>0.340134</td>\n",
              "      <td>0.296407</td>\n",
              "      <td>-0.698954</td>\n",
              "      <td>0.284114</td>\n",
              "      <td>-0.077108</td>\n",
              "      <td>2</td>\n",
              "      <td>STANDING</td>\n",
              "    </tr>\n",
              "    <tr>\n",
              "      <th>4</th>\n",
              "      <td>0.274833</td>\n",
              "      <td>-0.027848</td>\n",
              "      <td>-0.129527</td>\n",
              "      <td>-0.993852</td>\n",
              "      <td>-0.967445</td>\n",
              "      <td>-0.978295</td>\n",
              "      <td>-0.994111</td>\n",
              "      <td>-0.965953</td>\n",
              "      <td>-0.977346</td>\n",
              "      <td>-0.938610</td>\n",
              "      <td>-0.560831</td>\n",
              "      <td>-0.825894</td>\n",
              "      <td>0.849179</td>\n",
              "      <td>0.670700</td>\n",
              "      <td>0.829897</td>\n",
              "      <td>-0.975283</td>\n",
              "      <td>-0.999954</td>\n",
              "      <td>-0.999467</td>\n",
              "      <td>-0.998823</td>\n",
              "      <td>-0.993498</td>\n",
              "      <td>-0.967032</td>\n",
              "      <td>-0.976257</td>\n",
              "      <td>-0.590576</td>\n",
              "      <td>-0.740206</td>\n",
              "      <td>-0.799419</td>\n",
              "      <td>0.115570</td>\n",
              "      <td>-0.028923</td>\n",
              "      <td>-0.032804</td>\n",
              "      <td>0.294340</td>\n",
              "      <td>0.000630</td>\n",
              "      <td>-0.045272</td>\n",
              "      <td>0.168419</td>\n",
              "      <td>-0.068156</td>\n",
              "      <td>0.074384</td>\n",
              "      <td>0.027138</td>\n",
              "      <td>-0.145931</td>\n",
              "      <td>-0.050197</td>\n",
              "      <td>0.235151</td>\n",
              "      <td>0.290487</td>\n",
              "      <td>0.457718</td>\n",
              "      <td>...</td>\n",
              "      <td>-1.000000</td>\n",
              "      <td>-0.809524</td>\n",
              "      <td>0.422249</td>\n",
              "      <td>-0.543096</td>\n",
              "      <td>-0.831313</td>\n",
              "      <td>-0.977007</td>\n",
              "      <td>-0.969619</td>\n",
              "      <td>-0.968915</td>\n",
              "      <td>-0.973746</td>\n",
              "      <td>-0.996970</td>\n",
              "      <td>-0.977007</td>\n",
              "      <td>-0.999429</td>\n",
              "      <td>-0.976111</td>\n",
              "      <td>-0.555564</td>\n",
              "      <td>-1.000000</td>\n",
              "      <td>-0.349061</td>\n",
              "      <td>-0.319763</td>\n",
              "      <td>-0.691739</td>\n",
              "      <td>-0.990498</td>\n",
              "      <td>-0.990572</td>\n",
              "      <td>-0.988406</td>\n",
              "      <td>-0.992653</td>\n",
              "      <td>-0.992505</td>\n",
              "      <td>-0.990498</td>\n",
              "      <td>-0.999925</td>\n",
              "      <td>-0.986376</td>\n",
              "      <td>-0.895847</td>\n",
              "      <td>-0.936508</td>\n",
              "      <td>-0.121711</td>\n",
              "      <td>-0.534685</td>\n",
              "      <td>-0.846595</td>\n",
              "      <td>-0.002223</td>\n",
              "      <td>-0.040046</td>\n",
              "      <td>0.736715</td>\n",
              "      <td>-0.118545</td>\n",
              "      <td>-0.692245</td>\n",
              "      <td>0.290722</td>\n",
              "      <td>-0.073857</td>\n",
              "      <td>2</td>\n",
              "      <td>STANDING</td>\n",
              "    </tr>\n",
              "  </tbody>\n",
              "</table>\n",
              "<p>5 rows × 563 columns</p>\n",
              "</div>"
            ],
            "text/plain": [
              "   tBodyAcc-mean()-X  tBodyAcc-mean()-Y  ...  subject  Activity\n",
              "0           0.257178          -0.023285  ...        2  STANDING\n",
              "1           0.286027          -0.013163  ...        2  STANDING\n",
              "2           0.275485          -0.026050  ...        2  STANDING\n",
              "3           0.270298          -0.032614  ...        2  STANDING\n",
              "4           0.274833          -0.027848  ...        2  STANDING\n",
              "\n",
              "[5 rows x 563 columns]"
            ]
          },
          "metadata": {
            "tags": []
          },
          "execution_count": 6
        }
      ]
    },
    {
      "cell_type": "code",
      "metadata": {
        "id": "EJzrQKs2Z1EH",
        "colab": {
          "base_uri": "https://localhost:8080/"
        },
        "outputId": "58b146fe-c68f-45e0-ddd6-23775c0aaa87"
      },
      "source": [
        "test.shape\n"
      ],
      "execution_count": 7,
      "outputs": [
        {
          "output_type": "execute_result",
          "data": {
            "text/plain": [
              "(2947, 563)"
            ]
          },
          "metadata": {
            "tags": []
          },
          "execution_count": 7
        }
      ]
    },
    {
      "cell_type": "code",
      "metadata": {
        "id": "SS3K2T-sZ3Bn",
        "colab": {
          "base_uri": "https://localhost:8080/"
        },
        "outputId": "25c87016-781a-4931-d149-bd9184949980"
      },
      "source": [
        "X_train_raw = train.iloc[:,:-2]\n",
        "Y_train_raw = train.iloc[:,-1]\n",
        "\n",
        "print(X_train_raw.shape)\n",
        "print(Y_train_raw.shape)\n"
      ],
      "execution_count": 8,
      "outputs": [
        {
          "output_type": "stream",
          "text": [
            "(7352, 561)\n",
            "(7352,)\n"
          ],
          "name": "stdout"
        }
      ]
    },
    {
      "cell_type": "code",
      "metadata": {
        "id": "pB-NrCgdZ4wx",
        "colab": {
          "base_uri": "https://localhost:8080/"
        },
        "outputId": "f8e5e082-c7cb-4da7-9abd-d013de3b2016"
      },
      "source": [
        "X_test_raw = test.iloc[:,:-2]\n",
        "Y_test_raw = test.iloc[:,-1]\n",
        "print(X_test_raw.shape)\n",
        "print(Y_test_raw.shape)"
      ],
      "execution_count": 9,
      "outputs": [
        {
          "output_type": "stream",
          "text": [
            "(2947, 561)\n",
            "(2947,)\n"
          ],
          "name": "stdout"
        }
      ]
    },
    {
      "cell_type": "code",
      "metadata": {
        "colab": {
          "base_uri": "https://localhost:8080/"
        },
        "id": "nOdtlRkWVw3e",
        "outputId": "20f2fad5-b5e6-42a2-88a1-fc148c64460c"
      },
      "source": [
        " from sklearn.preprocessing import LabelBinarizer\n",
        " encoder = LabelBinarizer()\n",
        " Y_train = encoder.fit_transform(Y_train_raw)\n",
        " Y_test = encoder.fit_transform(Y_test_raw)\n",
        " # inverse transform -- predictions_test = le.inverse_transform(prediction_test)\n",
        "print(Y_train.shape)\n",
        "print(Y_test.shape)"
      ],
      "execution_count": 10,
      "outputs": [
        {
          "output_type": "stream",
          "text": [
            "(7352, 6)\n",
            "(2947, 6)\n"
          ],
          "name": "stdout"
        }
      ]
    },
    {
      "cell_type": "code",
      "metadata": {
        "id": "u0Lb611PZ6w2"
      },
      "source": [
        "TRAIN_LEN = len(X_train_raw)  \n",
        "TEST_LEN = len(X_test_raw)  \n",
        "NUM_STEPS = X_train_raw.shape[0] \n",
        "NUM_FEATURES = X_train_raw.shape[1]\n",
        "NUM_HIDDEN = 32\n",
        "NUM_CLASSES = 6\n",
        "LR = 0.0025\n",
        "LAMBDA = 0.0020\n",
        "NUM_ITERS = 100  \n",
        "BATCH_SIZE = 400"
      ],
      "execution_count": 11,
      "outputs": []
    },
    {
      "cell_type": "markdown",
      "metadata": {
        "id": "23Yyl2CP-VGw"
      },
      "source": [
        "Basics of LSTM:\n",
        "\n",
        "input dimention :\n",
        "  - batch_size, timesteps, input_dim\n"
      ]
    },
    {
      "cell_type": "markdown",
      "metadata": {
        "id": "TvHZyHqB-_ht"
      },
      "source": [
        "![manyTo.png](data:image/png;base64,iVBORw0KGgoAAAANSUhEUgAAAscAAAJJCAIAAADJLg3RAAAAA3NCSVQICAjb4U/gAAAAGXRFWHRTb2Z0d2FyZQBnbm9tZS1zY3JlZW5zaG907wO/PgAAIABJREFUeJzs3Wd8VFXeB/BzbpneJ5PeQ0ISQhJ6byJYQBAs6Nq7rj677rqu66666qPrPrur66q71pW1gaLCAtI7hN4CpNIS0nubydR773leJNJEpAxOgr/vhxdkmLnzn5Ph3t8999xzKGOMAAAAAFw0LtQFAAAAwGUCqQIAAACCA6kCAAAAggOpAgAAAIIDqQIAAACCA6kCAAAAggOpAgAAAIIDqQIAAACCA6kCAAAAggOpAgAAAIIDqQIAAACCA6kCAAAAggOpAgAAAIIDqQIAAACCA6kCAAAAggOpAgAAAIIDqQIAAACCA6kCAAAAggOpAgAAAIIDqQIAAACCA6kCAAAAggOpAgAAAIIDqQIAAACCA6kCAAAAggOpAgAAAIIDqQIAAACCA6kCAAAAggOpAgAAAIIDqQIAAACCA6kCAAAAggOpAgAAAIIDqQIAAACCA6kCAAAAggOpAgAAAIIDqQIAAACCQwh1AQAAAOdBYUxRWKir6IkEPvQ9BUgVAADQm/j88rG6jsY2T6gL6VnUKn5oRmSoq0CqAACAXsXrkwqONh+p6bCadAx9FoQQQrz+gM/vR6oAAAA4P4wwX0AyG7W56bEyLoUQQgk5VtNaXFYb6kIIQaoAAIDeSKtWOax6pApCCGGkur491EV0Q6oAAIDehxHCGMEVEEJIj2qF0I8XBQAAgMsDUgUAAAAEB1IFAAAABAdSBQAAAAQHUgUAAAAEB1IFAAAABAdSBQAAAAQHUgUAAAAEB1IFAAAABAdSBQAAAAQHUgUAAAAEB1IFAAAABAdSBQAAAAQHUgUAAMAlxBgLuJtLVv3j51PSR+b2uf2h3y7dUanwNNR1XRJIFQAAAJeQ4mnY9P7/PPrku6qcWx79n/sSnXlvvvDAe0sO+MhlGCyEUBcAAABw+VJcNVve/NuH+698dt7Td+aoFdZx/TUfvfS77SuWXz0iI9HMh7q+IEOqAAAAIMTbWLx29usraq57+MUZWeaAzIgiNRSvX7Byu63f5GlXDFILF9K7L/kbdyxYIqfcdcusbN4teRkRzRk3P/XORLcQobsM+ypwBQQAAIBQrcESFqHZsmXdur0dPCGEKLK3/GBBVXWTxuTg+ROHS6Y0L/nTtEmZhv4JxuzEk/7E68a9s4OeEhWY3FpdeMCjGT8ikfmcLqfL2e72BnT2uOSkGI1AGWM/8se81NBXAQAAP3mMMaq1JmcMnuBZvnttReO4dDMJdJZXHD1MtMmJSeGnjq0UY/pNvGZWokvmuJMfVyRdopURRk4aMKF0NB2R/QGutXjJu+9/8J+dB2tMyWNmPPDraeNzwvUaetn1ViBVAADATx4ljBGNKbnvgKmr5+QXHalLGxLVfqykqq7Jnj0j3qanRPk2KzDKmQbd9KsRt55hsCULMLdfOZEVGFEUpSbgbVn5zn8S44bc8+efGTr3bfp6+VuPVda98Ks7r7GoLrdcgVQBAABACSNMZY1OH5IVkVeSX+Dsry4rzK91WsYNGGBWMyIf74CgjMnOhvqOTq/MTrvcwThLZKRRfcp2eV6rUJO37/V//Nu4SEFWWM7AflbhxcUrlx6cNHpogunH+4g/CqQKAACArljB2aJS+2SmbzpSUF9uO3ywUrYPykqyc4qinNwxwdo3vv/wG59vbvLyp1wBkXzW36xccf9g5aTHeIN1gFa/e8j4nBgh4JEZIZzKFB6dqN9Y1tbuZcSEvgoAAIDLDqWEMbUlIrZPpvrowbwtcnUDi5t4ZZSVKT5y6tUOIbb/1dNoRqdySqggiqRLtp0YfskIoYQ3OdKi9TvKD9V2Sqk8Rwhjkt/rcUsqtUq83G4rJUgVAAAA3SjhVZbo+Ixw9bqt39SExw6eODJVK5EAPflKB6OcKee6hwfPoJSQ02/hkJjHr3z7dEYY5bVRQ28fvvDV1d8su+K2kQkqKrWU7S0qPSRmTIiLNHKnDu28DCBVAAAAdKGEE2zR8TEWYdnWmoRrx/SPVsmyckqoIJQQIgeYHDjzTaEnnkwJY4xw5sSxv7ml4E/zP325Y0+GXSXXVRS61ElTbpyRaFEzplxmwzWRKgAAAI7jNAa7PSYtMs3cf3A/E2HKhfcldPdlCKbkax55MX7zwuVL1xe6NHE5114/bWZOioMnyg9uotdBqgAAACCEMEUOeDudruaqxjYxIXVcbpKFKYxcRGfC8X4LrSVmyHWPDb/+MUoIU5gsKwpjhF5m/RSEIFUAAAB0CXQ2Fq6bv6Owss7JMicPjNbxysVkilMxRZFO9E1cjoGCEIIZuwEAAAhhhFIm+9pqS6ua5b7DpkwYnMFzl9lIyh8D+ioAAAAIYUxtjh992x8H+XmNwahVi/Q7d3jAD0KqAAAAoIQQyglao0N76oNwXnAFBAAAAIIDqQIAAACCA6kCAAAAggOpAgAAAIIDqQIAAACCA6kCAAAAggOpAgAAAIIDqQIAAACCA6kCAAAAggNzawIAQO8jy4ovIMnyZbiY+PmjCuspk4sjVQAAQO9TVt3c2uFhIV2qQ5YCHMdTLtS9/oy4PP4eMrs4UgUAAPQmPM+lJ9gi7XoupKuJ87ywbfPG5ubGMeOv1OsNJHT5pqufQi3yoSrgZEgVAADQazDG9BoxI8HGQr32VyAQ+PLfW9atW3fDNSMzM5JDG3G6WoMxRkNaBkGqAACA3oXnqE4jhroKsn7b5m1bNpeWFH/8nw+feeaZyMjI0NbDesbQilBfDQIAADhnlNKQn44TQlwu14oVK45VVEiStGTJkqKiIkmSQltSD2kZpAoAAIDzwBgrKytbs2ZNc3MzIaSqqmr+/PkulyvUdfUISBUAAADnQZKkBQsWHDlyRFGUrh/Xrl178ODBQCAQ6tJCD6kCAADgPOTn569YsaKlpeX4I6WlpUuXLnW5XD1kcEMIIVUAAACch9mzZ+/bt48QwnEcz/OEEEVR3n333fr6+lCXFnq4BwQAAOBcbdiwYevWrR6PZ+rUqRzHiaIYFRX1xRdf1NXVzZ079/e//71arQ51jaGEvgoAAIBzIklSXl5eRETE559//vnnnw8ZMkSj0fzmN7/Zu3fvQw899MUXX+AiCPoqAAAAfhhjrK2tbebMmY899pjJZKKUMsa6MkR0dPTbb7+9b9+++vp6i8XSdVnkpwmpAgAA4JzY7fawsLDv643Izc0lPWY2qlBBqgAAAPhhx+eY+u5kUyc/0hOmogohjKsAAACA4ECqAAAAgOBAqgAAAIDgQKoAAACA4ECqAAAAgOBAqgAAAIDgQKoAAACA4ECqAAAAgOBAqgAAAIDgQKoAAACA4ECqAAAAgOBAqgAAAIDgQKoAAACA4ECqAAAAgOBAqgAAAIDgQKoAAACA4ECqAAAAgOBAqgAAAIDgQKoAAACA4ECqAAAAgOAQQl0AAPQIjc7aypbDbr/rx3gzSgghhJ304xn//uP4vnenhDEWbU5ICe93wdv2S779VVs9fjel9CLL/GFdxYe2Mc+OEsIII0q0OTHeniryqgvbjNPbXt5c2u5uDm513+t7mlEUhVpXeVugMb8mrypQzNglbuuz/68hRM1rhiRNuLQ1nAOkCgAghBC/7C2py5eYrOLVPepIFBKUEIXJTm9bQPZdTKpQmFzRcqjJ1WjSWtGqXTo8zbIiRVkSLjhVSEqgsuVwVWuZSWtnoctNHEfThifEZkV0sBZPa0cIf7+UEI/fJck+pAoA6Cko4XySJ96eadE5Qrin7iEooV7JfaRhf0DyX8x2GCOyotgMkUmOLMaUYJXXeylMOVi3R1Lkizmzp4RKckCvNqdFDVIUOYjlna8UR3f3UKjRY83F1S0HQ10GIUgVAHAytajTqU1IFZQQSqnAiRd/xKCUqgStTm285D3kvYGiyCKvCsr1IJFX61QmhYUyVfQcIq/+Ma6ynQOkCgA4BSOsh12NDwHW3Q5B2x5jaFVCgvrt+nZTaNWe1Qa4BwQAAACCA6kCAAAAggOpAgAAAIIDqQIAAACCA6kCAAAAggOpAgAAAIIDqQIAAACCA6kCAAAAggOpAgAAAIIDqQIAAACCA6kCAAAAggOpAgAAAIIDq4sBAFw4xpjP5xMEgef5HrJoZG/XtbirJEmEEEEQ0Kq9C1IFAMCFY4wVFBSo1eqYmBiz2cxxHI6CF0+SpMrKypaWlsTERKvVyvN8qCuCc4VUAQBwgRhjlNLKysrZs2cPHDjwqquuyszMNJlMCBYXo6v1GhoaXn311aSkpOuuuy49Pd1ut3McLtn3AvglAQBclCuvvNLtdv/lL3959NFHP/vss6KiIo/Hwxjr6smH88UYEwQhLS1Np9O9+eabDz300Lvvvpufn9/R0SHLMlq1h+Off/75UNcAAKHn9LYfaSy0G6K1KkOoa+kRJNnf7KrVqXR9wrO+7zldZ9UqlUqlUm3durW0tHTp0qWFhYWyLKtUKlEUeZE/3HiA51U2Q+SPWHvPxRhrdFbpVPpYa7JKUJ/lmYIgqNXqtWvXHj16NC8vb+vWrV2PazQahUpVbUckRY40JzCCkEEIIS2d9e3uhmFJE0NdCK6AAAB8j4BPqmqsLWCF5IcOXVFRUeHh4VVVVYqibNiwYePGjdOmTRs/fvzAIQOcPmeYw/jjFNwrSAGlpqK22FOsEXVnf6ZWq01OTq6urg4EAvn5+c8888ygQYOmTpnat39qi9iqNf/AyyEkkCoAAM6A47iOZve2FTsLNBWMKWd/sizLHMfxPK8oCiGEMbZw4cL169dPnTYla1J8eETsj1JyL0AJ8Tj921bu3O4rFHjx7E+WZVmtPtGf4XK5NmzYcODAgVFjR+RenZI5MPMSFwsXAqkCAOAMGGGimo9LiskIz/nBbnafz1dcXHzyIE2HwzFy5MgRI0YYYgNdUQO68CIXlxATqU1SC5qzP9PtdtfV1R3/kVJqsViGDRs+YtQIayzu4+2hkCoAAM6AKcxs118xZfTkfjf/4JOLi4s//fTTruEUZrM5KytrwoQJ9957b1iEffG+jzHA8DhGiM6oHjN5xPCkiTrV2S4MKYpSUlIyb948QoggCFarNT09ffTo0TfddFNS3/hNh5a4A94fq2o4D0gVAABnxgg5l8GAgUBgzpw5Bw8eTEpKysnJGTVq1MSJE7Ozsxlj3oDnR6iztzmn+2O8Xu/q1at37tyZlJTUr1+/ESNGTJw4cdCgQTzPt3taENR6LKQKAICLUlBQsGfPngkTJkyYMGHw4MG5ubmYWeEiybJcXV29c+fOq6++euzYsSNGjMjIyDAajQgTPR9SBQDARXE6nXfffXdubm5cXJxaraaUdh38cOH/gnX1ZkydOjUnJycuLk6n677dA03a8yFVAABcOMbYgAEDtFpt16zSXYc9HPwuBmOM47iEhITExERRFI+nNOgVkCoAAC6KwdA9bxjCRLBQStVq9fEwgYbtRZAqAAAuHA54QXe8SdG2vRGGFAEAAEBwIFUAAABAcCBVAAAAQHAgVQAAAEBwIFUAAABAcCBVAAAAQHAgVQAAAEBwIFUAAABAcCBVAAAAQHAgVQAAAEBwIFUAAABAcCBVAAAAQHAgVQAAAEBwYM1SADgZI4wxwkJdRugFtQnQqscFsxEYYcdXS/8p61FLuyJVAAAhhDDCBF5VULVF4MXQVuL3BTiOCmKI906UUJ/kdhgcF7URSikhZY2FDR2VwSrsQjAmy4qiMF7gOS7ExyC/5HXowy9ulXPGcVxde7nzYEvQyrogAb9ECBNEIeSLtlNCBa5HHNB7RBEAEHIGtWlg3GiXrz20p9QqlWrux19ISuC2O2+VJDmElXSJNMVdzMt5TsiMHhRjTQrt+aQiywf2FZQdLhs7YbQjPCy0p/eMKVHmBJFXXfAW1IK2b2Suwxgd2o4KURSXf7Oyvr5+2owpRpMx5J0malEb4goIIYRQdB8BQNd+IOTnW4QQV4fr2ilTDh8+VFxcbLaYQ11OD2qZi1FbU/v666/n5eX98fk/Tpo0qSd8nAtu2J7zG+l0df7yl48vXbpk/vwFQ4YO5nk+tPX0kJbBaE0AIJTSkO+MCCGMsZWrV+bv29vc0vyPN/6hKEqoK+opLXMxFEXZsXPHvC/nlZSWbNiwoaOjI9QVEXIRDdtDfiOMsY2bNu7ctaOhseH9D96rq6sL+Sl6D2kZpAoA6Cna2to+/vhjp9Pp9/s/++yzqqqqUFfU6zHGamtrV65cWV5e3tLSsmXLlpKSkpAf/3o7xlh7e/uyZcsqKytlWV6wYEFRUZEsh/6CXU+AVAEAPcXWrVsXL17c9feGhob3339fkqTQltTbSZK0d+/eRYsWdf24ffv2pUuXulyu0FZ1GSgoKFizZk1rayshxOl0zp07t7W1FXGNIFUAQA/hdrtfeeWV41c9nE7n8uXLcWJ9MRhj5eXlixYtqqur63rE4/GsWLFi06ZNaNWL4fF4vvrqq8rK7vt6JElau3btgQMHAoEAGhapAgB6hNWrV+fl5R3/UZblQ4cOrVu3Dt0VF8zv9xcVFW3atOnkNty1a9eaNWt6yOiKXmrnzp15eXlOp/P4I8eOHVuxYsXJj/xkIVUAQOg1Nze/9NJLgiCEh4fb7XabzRYZGSlJ0tdff11RURHq6nolxlhTU9PatWuPHTvW1Z42m83hcKjV6vXr12/evBlx7cJ0dHTMnj374MGDdrvdarXabLawsDCNRjN37tySkpKeMMQ4tPjnn38+1DUAwE+aoihffPHFsmXL0tPTb7rpJpVKFRYWNmvWLEJIS0uL0WgcNGgQx+EU6PwEAoH9+/d/9tlnNpvt2muvTU9PN5lMEyZMsNlsTU1Ndrs9IyPDYDCEusxeRlGU9evXL1q0yGg0Tps2zWQyORyOa665xmw219fXcxw3duxYQQj9pFghhFmwACDE3G53cXHx/fffP3ny5CFDhjz55JNlZWVPPvnk9OnT16xZU1FR4XQ6LRZLqMvsZTweT0NDw/Dhw6+55prc3NwNGzasXr363nvvValUGzdubGtra2hoCA+/yDkuf3K8Xu+xY8fGjx8/cuTIUaNGvfHGGyUlJY8++qjH41m9evXGjRtbWlqio6N/yq2KVAEAocQYCwQCTzzxhNls1mq1hBBJkhhjoihmZmampqa6XC5FURhjP+U99flijKlUqmHDhk2ZMkWr1cqyLEmSLMuU0rS0tKSkJKfTKQiCoigcx6FhzxFjTJKkGTNm6HQ6nU7HcZyiKF2XPNLT01NSUmbOnNn17Q11paGEVAEAIWaxWCg9wzy/lFJRFK1Wa0iq6u00Gk1cXBw502SLgiBYrdYztjmcndFoNJlMZ/wnQRCioqLQqkgVABBKx495Zzxjxmn0hTl7u529zeH7oFXPBQZAAQAAQHAgVQAAAEBwIFUAAABAcCBVAAAAQHAgVQAAAEBwIFUAAABAcCBVAAAAQHAgVQAAAEBwIFUAAABAcCBVAAAAQHAgVQAAAEBwIFUAAABAcCBVAAAAQHAgVQAAAEBwIFUAAABAcCBVAAAAQHAgVQAAAEBwIFUAAABAcCBVAAAAQHAIoS4AAHoERZaZIoe6CsKLKo4xgVLGmCIFQl0OoRzH8Re+n1QUhUkSoUGs6ELIkkRkmWOMyLIiSYwpoa2HUo7yPKUX2C5MURRZJoQFt6rzxfECRwhPCCFElgKEhbgeQigviqGuAakCAAghhHibmhr37PI0NoZ2Xy2KQmp7ayRRDs/5VJZCnnKYNSMjYujwC399IFCTt9FVWUEpH8SyzpfCFPWhQ5luV/uaVYfy94T28MeYbMvsZ8/OFTSaC9tCwOVq2p/fcfRoaL+rgsjH1lVrJX/Tsm+8On2IQwUlKoMheeaNIS2CEKQKAOjidzrr8jZpdTq10RjCMiRCrhw8iBAiNzeF9gxfURRndRWTpItJFYoUaNq7J1BXZ45PCOG5NU9IemRkZlSUoiisrTWUDcuIq6aa5wRr3wxyoalC9nmb9+W7Dh2y9+nDlJD1u8iEjMrIpJRKfj/x+0P7dfW2t9dXVyNVAEBPQSkhlEbm5pqiY3pAX27o+V3OCp+P8hc7+IxyXFhaWszQYSE8/vUcTJbLN26gwkUP6aOcOT4+ccxYRQ55h1YPQGn1rl3t9XWhroMQpAoAOM0FX+2+7ASvHSghaFhCCCEsuI1AKVqVhHyAyalwDwgAAAAEB1IFAAAABAdSBQAAAAQHxlVcJhhjfk+HyyNxGoNFpzr3a41KwBNgPC+IAnf5XZ5kst8vEU4UBXoJLmoz2eeWOJUgiPzl13QAABcCfRWXCcY8B5bP+WTewmWFVeczckdpLd9+4ODBJnePGu4TJEyuLSksPFrr8V+KUeLMU52/quhohdN/CTYOANArIVVcJphn/+cv/qtJGxVp0p7P69wHVvx32erdNa7LMVXIznULv1m85WCH55KkipKV7320dtuRNukSbBwAoFfCFZDLgdJ2ZMOKxXua2c0RjtRwG5N8dZUHSypaqKAxRib1TwkXKSWMeZ11FWWltW2UEE14XFJios3bWF54qPaQW1dQWpakszdXtWoiwiOsepFT2g+XFAdMuX2ieX9LeX0d3+iu9Hr18bmDEgy+5rIdxTWMUJXFkdonJUwnKrK/o7nq8NGKTh8n6C3RCcmJDkNorwowprRXlxYcOVzRots6oO/kftE6qa2o9HCL08sYZ7Al9usXp6aK5G06ln/Ur9W0uH265H79zUr90aPHGtuY3qi1WS0Cs4UnWDRcoLOtqqy8tqVDpoaoxKT4WIv32OE9ew81BsIqjlR2hCcbtSrc4AYAgFTR6zHG5PJVL/9zcXFL9advvGP943OjhYLZc2av2NMoqoz27An/88Atw9Oimatpz/pP585fWFSpVjrFpLHX3/3zaZoj+7YUHtpWUdhgTupnTf3sldWJd9z0s0lZYZy/6J2Xbm8ctubV+42Nef/36mthVeG75Y6En73298lk/edv/2n5EQNhYkzq1bPuv/eK/kpb+dqv3vzPkv2dAZUYnjx62m0/v360TR3SnjCmVBzYmF+0+5CzsDouq3+0Vtr9zd+/WFZZ2yLLnFqX+bt/PD8qUeesW/+3G3/vHz+pweeKvevpx83Fn7/35c7qBinCLkRa4jS2Wx9+ZoTDXbhpxdzPvimoaQxI1uxJ02+7ezJZs2rt5rKDnZ1rTGkj+0amxYg8w53zAPBTh1RxORBzH171lfX28W89vei9xKYD7z7yu825Tyxdf5eqqXTtnL+89pd3n/3bMzFVe3fur8+896sX+/oqdi54/aONXy9IfuHxqbft2JGuHjr9jp9l0z1fUI7nu4+MnCBQFU8o5XmhLL+2718/XjUhicieZa/d/+eN8R8vXtGH6yxe+cnT77+RGv+XPp7i9VuKRt/33oNTkj21xYVlxxo6JatKDOFhlnJC9rUPTt/aWdNn8qM3DLX6St9aenTGr94cF9VwpLZzzm9v+ejLKUN+M44Rrok3Dbvv2X9PiGyrKfrgr5+UZz0w55MppHLLnDee+6YySuCV+v1rvpq/UjPx0Y/uHGdp2PbOPz9fuNh+x6wHH21b7ednPnDTrMxYFeaiBAAgSBWXga4jt9LpDSiK2yO3N+75d17DmKnR21atZCTQKERr6jbmlXfebrOnJSa2NGyZn1/WVF9WX+8nLS0uJSArkt8nK7JChO+ZS1CRWcbwIYlmQgjxNm/dVm5OHlG2cWUZZe1NXltzyeYjHYOyo1KSYncu+Xiub3jfaEdMwrBka+iXziOSLxDw+71upiicaMganuSt2blw2YL9cnI707rb6xSFUErDwmL7940kJODqqKqu9w2ZNdJEiOxIyxx1feHGaoV5KwtKjpU2xuQ0569ZxZjf4/PWHq1oaHD6ZSZJPqbImDURAKALUsVlhkmd7irJ5i5aveqgQgiVFSl+1JQ0k9zWcHjd5oUVyuCslMzR49NaGtc0knO9l5SpuO4uDDng8hNXdcGqVccIpUwKWAeO6xdtDIuNmXXHo4Z5iwt2rNzb1KExZ9/x23sGxNt6ztcr0NGwfcvqKt6uDSRNe/yWtva8b5Su7gWq4ama4whRZMnt82pUZoFQQijHa0XRRBgLSG6/1NJaXrx1VQVljPk9pr79U8NNYmWIPxMAQI/Tc3b7EAyM0xiix0f1mfLIU7NSbVRxt1SVlOxvT7R58zcU7G7O+MMbr1wRyTrK1y50txBCCKEcpYrCFMYIx4ucHPBLskKI5Gl2uwInLYbU3cEvamMcycbx9z71syE6Xulsrjywt9SRaJIVpo1I/dnvXtAI7vxvZr/zr5Xrt4/pFzdUCPEZPBUoo0xhhDSVbswr0/zxzedGpIQRb8Ps9maP7bTiRLU+Iiza31zeHMgwMp+rtaamrZHjOZU+0po5YXjOI7+/NsPKS+6jh/a2kjCbVVvNE+JXiIKLHwAA3ZAqLjO8NXbwr2Ys+OqLOYaRA01cU1lB3tHSuFuH97PbIsO0rt2bN2iiVfXleyory0wxbq9f67CZXCWH9+0+mDjYMiBTt6kwP0/dEa1p299c7dV+54ZMrf3qaf1mr/nv/Ahvok6urdi/fXfDzLQRNql2x5bNLm1cuFHb3CpG52bGOIw8IYQFc4Wm88Zr4hystGr/ruKUDLXNaFIO7Nym1FpIe/u+0qqqXJ98yhKSvNEY2z85ZeOaJas1/QVv5bbSEreQrRaNCcOHxTcu37t8kbouSedt3b5viy5jQmRMsiPaoWw7cqi4ZJCjn0mnuQxnEQMAOE/8888/H+oaIAhYoKOukcu5crxDr3VkJLqrSg/Xujs7Ovz6pHFTZ/ZPMOtNBk7pqKtpDnhcstYWZQtPSEpJy8iI1HobO9o8fktiSp/0JLG8qs7V1uL2+e0Oqz5l0OTsZA3x1ru5IdkDwvQqxjhLTKzGU1dY3epua26lhpyJ00b3DVO8HTXlpUerGtpa29pdfGzK0LGjc6xaLpQDDhgpZImAAAAgAElEQVQhVNDxHa0tLR2q6Oz+fcOIr6W1raO9pb3dkJoezYeljh+YyrPOtiaaOnakQ0NEtcZqD5daquqbWlrcrhbiN4eHDx0wIi4s3KzWu2oq6xubW1vclvgBY0cNjbfrDRpWV+tSaYzJCbEGrbq3pwpfa0tT/l5rXJzGZAp1LT2C7Pe3V1VyBkNY7sAL3ogS8Dfu3qVWq0wxsUGsrfdijLUdK+eMRktaX16jubCNSO7OlqJCTpJsySkEI6UJIYQ4a2qc9XUJ104NdSGEMvxKLgOMMdnT1urW2+0iJYQovs6OxlYX5UW1wRpmVBFCCFHcnc62NpdCBZ1RryWyX+G1BoPI3O0dHV6/xmw1atSsraXN4/FxKrVZK3YSlVWn4Zi/1eU1GkwqgWOMEcIUyV3f0KYwymv1dqtZ5AhhLOB1tba2BxTK8RqDwWw0CISEdBQjI4wQJdDZ3t7uoQaHxUB9zpZ2V0BhvGAJs5EWpxJmNVLF62zzaKxWFUc6W2t3rl3ssY3vn6Z3txzbsmF5rZh1z103R2ook/3ujnan26tQtdFsMujVlBAi+1pa2wJEtJjNKpHv7Usytx85XDL730kjRphjYrGnJoT4nM6KrVuEiIj0u++74I0EOl2F775tMhpihgxDqxJCFFku37BeiIpKmDJNZTZf2EY8jQ2Hv5zHez19rpzE5Esxx10vwwip3rWret/esW+9E+pacAXkckEFndWh7dprUcppDNY4g5UQQk7ERk5nsOgNluMv0XX/o85q1x9/ptXusJ3+BLXd0n1KQSlljHCiITrG0PUII6zrHVVaU4T223PcrjcN7VGWEsIIJ+ptjq5PR4jOHKE/sReLsBNCCOG05jBNdxspgabK/evXlhX0CWeugOSPHjptmE1DCCGUVxlsDkN303S3KeXVdkdk9yM/1sfqCeSAt6xg/Zpa7dWjR8WbeCb56iqO7CxzZgwcmGZV/dCrqa++cO6GfS1eWeAYpek33jQwUnX6SirO8s0fbqkaPO76UbFqpiidbQ278w+w6AGj08LOZbAOY1LTsSOHqpTkfonhFi1HpNqyPWv2Hm7xSDQq584JORaO9Lhfmb9jb/6O/Fb1sIFDMh0aQljbsb0rCj3pOdmZMSbxrPVK7pZN2zbkV7t5SmRZ8hGxT86Y67NjT1ncR/ZXHC3YVtYcmzpwaKJdpMTbdHjZjiprSuawtAgNPZf2UDwdlRsXH+lz86RUUZICnsqD+et2HG1Ri9bo5PEDshLN2h4YrOtKN31d7B4/YlR6uJ6jNNB8eM7K0oFXTcqxqX7oMzOfp+3gwX07i8qatdHDBwwcHhcmntYnSXlf/b7PNhbE9Bs/Li1Cw1PF17Fl4/rWyGHXZEWc23dV7qivKTvWaoiOT4q18ERuqTu0eV/hsWY3DeszYVBWX7uxdy00hBm7Lwvdh2/a5ZSxDPQkZ3jdSQ+f6Tnffey0nymh9LtDJ77n7X5klJITRdCzjPDobjSdNfqKmx6ZMi7ZZjJHJmWMv+6GiUMSVN9u6rTn01O3TknoP++P49vkykrzN83bVuqS5Nb6o+vXrCtqcAk898PxiuObyjcvPlzv1pqtYXarXf/dPS9jhIo6X92BjxetOdYpB9yN+euWLdt3jFOpz6GRKefvOFC8ffYnX8xdta+2w88I8bRULFyzqVYSLXZL44ElH22qkHrYr4sRQqig4f0H921esHlfhUdyVxf/d9makqZOThAoY2cJFYwxQnmD0Wqz26xWE+2s37olv859+nMYoaLA6soOzF+/fX+zJ+CsXb9hw66yBpnjOXK27XehilRelv+fTz7512cbKyWBZ4GWyn2fLtvmNITbzKrG8r1frtnXKodyGNUZMcZEUawpzPt44/42vyz7mlb8d/7WKqeKO4fvquIrK9i7dntJm8Gu81Ws25u/t9572heHMUYFHW0/+tXytcWNnRLxlm5c8nlesaDW0HMIrlTy1VUVz50/f/bX64trXTIhPlfd9t3bSurb1WZTe8WulTsK65z+HpeAzwp9FQDdKCfaY7OunZXV/XNP6HHpiRgnqBMzx93S3PafravXxBqsFWvyfeG3TB2aZBJO3pHKgc4jB/fvLClvD3CUEkUW41KyRmQn1dZXJmRdfcvk0X1NAmOyEpAYY6dOTMr0MQPvmtb55txV32yLHq3P/7LQM3b61NHJFk6RTsRDyXWkuHDzgTJX133PlLfF9xuTnaopz9tU2NSg8LxK6Hpu87GD+fXRP79hWk6krizP+fd1axpGPhglBn68NvtBjDFRnzlg/K1e79ytO9eb3HxjWSkfd8PEof0i9ByT2fFTB55U5a9aUdrqk7vamlEaP+PGsSNHXDmcUq+7cfWio21jrp6RHcOfds7IidFJOTPHuT/8ZtuKDZrGMNfuFjZi7PARyXYVYce3zxH/4fw9W49Ud0gSIYQosj8s6/5J2SpX9ebtm+qJSLtORhlTqOjIGHHD1AkRXNuOVUs+XXuk9poRYdoe128Xljz0oSlNf5q3Znm/9MHOL78+Zrj7vqvTLQJjx79JTJEDDTWHtuzeV+flKSVM4S1h8UNyUqhgTk8fnTthsKM275l5h3aGtQyKi+Wlkz4ik0V76i3XTW/+eP7yPUfNiUX/Wl+ZefV1V/W1U+XEF4wxub22ZMXafU0izxFCKKe3ReXmDOpDyvP35JU4Ca9VcRwhhHnb6xvqPBlZEyaM6Fe/46vPt1XX98uIMKpCfT/deUCqACDk9N6I7od6z3/kHw+llBHCiZp+2UPGHpn7zuyP0y2aYdOvyIo00RPHpu6nqtU6i8nMSxylRFEEo1YjCs6a0taDlYteK92m5/reeue4HIfhDB28TLHFZE0fdvi1ZXPyRTH5ynsmZcXziqSc/AaUU2m0FotZxXU9yJl1KoESTu8YkJmYYbZsL6IcI4SQxqYqJTLLoeUVnxye0t+y7D81nSzK8p03DR1KKWOKwunSc4YPr/hqybIF3vCc6VeNzIwwdUeK4x+bEVGjt5iUgHI8Veh5pkiSwhSp7cjOuTs9N/98aKyBV5hy/LBJKWWMKUSIScm5tv/RTzYu+VCIGjd67MDkKA3HTt4+I0Sl1VlMJqFrvIKiBAwajhDCq1NTB+cO9tcu2aoQxjjBHJUxwyHamVf2BXwe0ukTeaHH9VVQShVCE/qPua2k6H8/eW+9r3HQLU+MSLCQ03IsoYKgNprMfjVPKWGMM+q1oqAJT8uMYYKR66wpq5VdisVw+pUiSilTJE1Y6swxWS8tXfDi8lr7hIdnDksXlMBpHTecoDFZLIrAcYQQwmn0Og1PKGeIS8q62qxUHarjFEYIFVQapmLtPpfHG3B5Gv1qGy/yvWtPhFQBAOePcnpr9LCc5LcXfHlk4iN/yIpSkwBjhBAmS5IUUKgoirw2Lrl/TFLWiRdRQcWONXaoYuPSc3ISTQ0H//Xe6l/84toso+rk8+qufaio1qdl9DN9uXKbbsKvR/SxcExhTAp4XS6PxPEatUav0cakZEUl9zv5pTxHSdyg4YRVuKt3cd6uQ4A34OJsarErfHC8RH0ef48b4kcpYYSJ+oh+feLmbyrSmSOzYh1anpLuBpG9Tj+nVYs850gZNi35lJdynMIIkSV38a4FrZkPX5FoZrJ82jW/ru0TlTkzu1/U1p3FTjEhNtGhEylhUsDb6fH6ZUWlNRjUYnRqVmSfU1uVEKILHzIwQm7b8e1WOZVG72CMSd7Ko0UrD5Unj5saL7Ie16yEEEKYaBszfqg4+3/X97njxaEJGhJghBDCGFP8bj9TqdWCYI9IviI86aTMQDmOUkr8rob1K1Z9+fUBXdbE7CQjJ5/eF0MpIVTVJysncd78f9amLhifGaniFMYoC7S3On2EihqtSaM2OpImXZN48gs5jqMkJjMrylZ6oPlofdeDGnNsbkb04h3LXtiy0h8WNmZAv3irpneNVECqAIDzQwlhTOloqdpeVBU5LDeqc//6gv7X94sRqaJI7mMHivIPd6aMHJQVoWpurD5W3+KRKSGEKbzVEZ0cbh576z1jwhITIu1GOfrwg2+sPjgydUC49pQdJ2WMBbyuotICOTJ+iKfsm22FCeOyNVLb4T3b1uyr6OD5qNj0ycOzVJ2NR2uafV0D6CjVW6OSoxxWjUCZfPIRVeBUskeWGWNdeYWjAkdJjxuvSSmhHmdlQXmN1qjztFaUVtbHmxK0AqWc3HR4zzfzy/vdcm1uvMFVdbC43h3onm2FUWrLyU0xU+Zxlq9a77vhxRwTkQNn6H6jlFDZ13ygoKSRGsMMnuqKo83x1jC1dGT/ji3FFU2dLZx96Mwrso2exrKmVk/XdC5MkfXRIzNi1PSU4Ne1eUX21ZQXzFu/1R/Z7/YxybrTr2T1CJQQxVu/fuN+w7gJ4+oKFu48fO+gRBXHGFPaag+v+nJPxPSpY+O1He2NZRVVHQGOUEIYp9VbE+KiHXqRF/Ux8TnXzozMP1i9M784emRumHjaVR6qyL7Sgn1NkanXeuoXbtiTdvWIcD1tLdn+2erSDlES9InTJ4+L4VuLD1a5+O4vq0pvjo2JizWqKGEnNRlrbawsrw0kxg/sZzK43S1NZUcro6P0URZV70kWSBUAcJ4YC7jb8zav2tDoeOD20Z7tixfP/zLG9NCwGKW8cNvSxdsauGRLToAwvtPVVl1X4wxwlBBFEQIqS7zeXVwrZETxIvMzfUSatuGY70zD2phSc2jr7PUlV1x3d3LblncWf/il6g+zhoqC1pY7Kk5qLis5dmj/sbAMlbO6prazqxOCchZqjHaEnb4lQiyGMPWBVk+AEQ0JdLR4O2NteoEQX0jnaPsuyvlb8zYt31DJX3ndz9pKly5ZtNFmmTEqSXVwx6Y9h45u394Ufl2AUeJzNlXWdvi7T5oVSrn0XI4S2VVRuFK4YmG8oAT8Zzy4c4p3X/6Gr/fUpQy/YSI7sGbH9o22yKuyHYLO2j/HwQltaxes2Z5oH6B119bVdQS6roDIAZthGIn5TrGEyP6ag9vfX7lVkzTy9pGDk01iaCe9+z5U8e/KWzCnkN557z1RRQv/+OE7CeZnJqdqvQ2F//1q2b5d0rArAoSp/R5nXX1No4+nhDDGmaycw6rJL21q4sInDB3YN90lNv9jV9WhRm+OQ3X6TV/tFXs+XLUnY9ytV4wtffmjt9/nop66OdHlIpmjRhuEzvy1a5cV9bk7TampqW3lOY4QRjmdRTGFRRPjqbUyVldbVtLJjRk1ZlSSraNyx4dLN9a09UuJQKoAgMuXogSaaguWb63LueG+MUmxTcqogool8/J2p88cZImIz8rqOFIvioRQXh0RnTLcHNM9uI1xap3RpK2r37Swjp9hH5fN7/1qkX7gI0l61XfmYZXlym9mL+0cMeu6gZlCp3ZqddWXyxb2Sb9lcFpmok7rPNLZcLTC6yVhyckjrNHf9ktQUaM3a/jvzsETkZiq2rSsoDY7zmTetPrr+qw7k3RyT+uq4IRA5Za8b3Y1RY6ZPnlophTnqnpr+X/yksPsg2zhiTk2Xd3anQJhikwsMf1GWyXl249JicZMZUZIfU1+W/ZNkZysnPHgTpW28qLV28tIwsBpI3LDZFNj8ddfbt3jiJk4MqVvgqhRa5oKZ3/idkm2tJRhEdHd4zYYY6Je/Z1pcimR22uL/rtgrWnYzBsGpcVZtIT0wH4KQgjpbCqZu/xw6oRbx8ZEa2xTr93655cWrh3xy2t1urCsgQOl6kMqQignmGzRAweY/Er3oFhB1Jp1viN5e1YdFU0ps4axipJKNZcYa9OdNskTpbRx5WeLax2DH+qfmmRMeLCq8NlFn48Y/asRKdlhJouatDetXrDbGdBZ4oYONwW+/a7yosqgV53+XaXUbDBqO5s6mlo8Mabmmso6p6a/qD194G3PhlQBAOfH3VEy529faq6+55ZBCWqORMalTxpZ+Y91q78uTH5wUEJ6WmdLey3HCKW8Tm/W6U+b6Shm6m2jP/ngw/s/a29x9Hnw5psHRWoa9i34qCbmfyYO1KsEQiihtfN/99eVcVP+fv1Ik8gUY8zo8VMP1Mz9fPXu/jNG6TztRY2V5Sb9tUnReoPOYDxl+8d30xwvqFUiTwklxBCdcduo/Lc/eOFdpxRIufLNx3JVTGI96byacnJT8Z6P1h82po+5Y0SaSUVpwui7plc/uXjx0hjbXcMyMgzCTo1ACWGMaAy2aMPpW2DE19jYOa5vjCizACWEsJb6ok0b1tjH/WJcJJEZ87ZWr8jbXa9Ezxo/OMbIc7TP9GuGb/5k0Vcbw/pMGxuvoUe3fLE6bex9aXE2s5E//ST62wxGea1eLVAi+11HCpZ8sn0XPdK4bj6nMCUmpf/D9/58qJ19Z+BBCFFCqua9+YU3ffJNo9L1POEMsbfdduPi/3v31a0DXxkXmZXNateVSYQQyqk1hnDNac2qzR0xsLp+yV8ff7iDRA4fd9Vtk3Lp0XWfVLDB/QenhxsJoby6Y92r738ZSH/02gnxZoESYdiVd00tfPFv89bPuW+SQfY1VOWvUFtuzo7lVfqISP3JW//2u0opx4sqUeApITQqJfeK2rY5c//5znudgqr/zFmTBibaVZScNhK6J0OqAIDzwjSG5Jue+BUfHWsRCGOEUxuzhkx+PnWEymgjlOM47vuHLDDGhMg+Q25/NGai2+vX2vtH2zSUDwuP1DXov32RwhTruEd+lWmLTdHwisIIJzjisn7+4OPt1MD7W/cVb9le05bRb1JqmPa7K810nS4zxkWkD74lnplMOkoY5dQ5Q2f8Jn50u09W2+LSdJwis560j2ZMoYbo9FvvSlAZzdFagTHGqJgw5Lo/JY7RGuwmVdfAwbNugQlDpv6ur8YR+HZ5G63WHBcX7fTJhPCMEVHvGHP1tKFUHWU3EkIUwln6DP/9o8kB0WxhHXt2rfpvif7GKyYMjDJw5AzjI7qb1ZD5q7/E21V+mej7DLvrXyk3y7LCCGWMabX6JEOPihSEEMaYfdK9D06whccY1ZQQRqgpZeQbz8Uxi10iHM+fZX4pxhhvi+p73S1huRPbOokuNtIRbdEyv93YJHGsq/dAkf3a/tNve0FlTnEYeUoYI6Ip5t5Hnr0yYNCLrKJ4+7zdm/sPmTXguzHwxHeV2ONTJ4XFcxqdQBinMqUPm/BAcv9mX0AQbUnRNrOKJ6xnXlw6M6QKADh3jDEiiIbEviaiKN2d8JTT6Mx99BbGGCHSWV/edV+qKjoxOaZrawojlHg6uIQY/Ul7eHVkWlokUxSl+55HXlRHRiY4vE2bty9cVGOaNnrakEir6iy7WUpVOmOknjLGus4IBa01I8VGCCFMUeQed97HGFXpTckGc3fBlBKmcGpzWryFMoUpP1AtY4QQzuyItzBFYV2BiSqSQP1iuEPNWIAQyouayAgt7Z4RqyuHaBNjkpjkytuxKK9JPW7k5JEJ4SqOkO9pnq6ldRKT9UxWGBFM1vjBtlOr6HrzHtS0jBBNbEoSYV3rMhNCCBM0qcl9CVN+aLUKSikjVLSGRdkc0YQQxhTCaGcnZzNp9Hq+KzozRbDGJ9qI0v1Fo5QQagtPtPOq5v3/emGTcv0Vd01KjlTT728XSkWN1qrVEca6/n+JelOK0ZJCut6z+/vQgxr1hyBVAMC56969MUU58QMh5OSp4X9oC4QQopy0fjxj6si+o0S12H31mFJ6hu0TEnA1Htvw6fKvW1T716+1R6fcMH3W9f2j+e99j9OmMWPs2/fsebvob1v15IIpJYSRrmPhD9V7/LfCTvp0ar0lKXO4SiMrx1PC8T538u0tIkzxOau3Ldqw8Ej7atsas053zc0P3zY4WS+cobup+9z626hHjh+ov1NIj3Hiu3TKlB+K8v0vOeXlhHSlsOOfUxHt8Vl2qtOKhH07K2/3F+ukOT+YIqpbNr618JsqbfW+/f9Rq4ZMf+T341O+/z2OT/p/yv8vcvJDvQdSBQAEC1MU3p6acW1CGqcSv3t54vuoTGb7D22ZKVQfkfmLV/51v0J4Sogg6rS6XjWI7WLIciDmhv+9izNoVYSd4yV2XqU22x2EMsLO8mymMiY+/NQrd0ly10z0Wr1Bwx0/7b6MMUaIoHVM+uVtTKM591EL4om1lM7Wqv5OzaSX/r1foULXFTitoUfedXtJIFUAQDDxoiiI4nnNBnEue1vGCCeoTDb7T3WZdkFnMXx7+eKcDk4nlqo569M5XjRaLCcPzjyP9+jVGKGU15j05HyWBzzHZMAYp7OF6U55pGcNObl0kCoAIFhO3uUG96j0EznN+z7HP37Q2+EMm/tptPUpnzLorfrdDf40WpUQrFkKAAAAwdIjUoVUte6DxcXtnQFCSMs3P7cmZue1/Ehv7alY/qc5JT/SmwEAAFzWekCq8O96fMoDb5S1uBglhPCGiNSUxB9rFNa++/ve/Pe2s98LBwAAAOekB4yrkBWeEXX3kkXMNO65HeMpIQpj3CW/DiUropHX/FSudgEAAFxaIe6rcB2e/9tf/HbRseqSf/z8usdf3N3ga9348qirZu5t45SAa//HV8287esDZRv+/Mvbr7rq6oeefn1NYW1jVdEXb/zh9huvnvXgs3PXHXD6FMYIU2RPU8XGr9564o4brp10wyPPvbO1uNobkLtWZu6sKfj8jefuuXHy2Kun3PE/f/rvnip3QHEfW/7EXXcua3U1/OP+6x57buUxD1NkZ2PF8tl/evCGqVdfNevJ//toy5G2rm20lG6Y/dqf//XRN/M/fPWumVOvv+2Rt7/acKzZJTNGGPO3Va2f969f3zfjysmTpt3963e/2d3Q4bv0I3471vz97gnT71ywu/bEvf+MBVwNOz797fW3/3J+UVvQ37L9yLJHrxn50Bsrjy+YSAhRJN+x/Wte+vWdL3y81uk7xxvBexLJ27jvv7fOmvXs0vLj1bvrDy5+78U/vv5FVQe6sgAAzlUoUwVjjFP3GTl0RB+D3pozZvrggREaXm45sn1XfodMiCJ1VO1YvujfTz75xBZnxKj+UQXz/vzrh+557pk/fLy+IaZfjqvgm/974a/L9tUxwnyNB79444WHn/7HHn/YoCEJ1Stev+/Jv67eVyUrTG498MavHn9q9i5t2sSpo/u1bX7/ZyNnflzs1GoSRo+cmKwWddnjpw8fHCcSV23ply/cetcz/6kxp4wcElk49+Vf/OKXK4taFcYCnS3HDmx+/9V//O2LLZqUzBhS8tenH3959tKqDh/ztyx/64XHX5pTLWZMmnhFeNuWp2+78eUlR7yX+mDEjMOnXMdtXfj3txc1eOTuyfIUX83OTx//xWe+5EnjM8xBDzbm2EG58eLc5176qqRT7l57SHFWFyz98JU5u5Tcwdl6dW/r+WGE8IIqLCLywP6Fn25s6YoVTGmqPrpr82av6DCecT4gAAA4kxBfAdHG9r/+XmnDP79qv/LO++8YGK0Xmk+5M02h6tLUaUveuCOd+Jom51pv/eX88pHPfPTB/Q7Ot39s+kvvzttSeHBGtmHvqgXzN1Vd99Q7v7rjiggVcd595W8feer1D9Pjou7UbV/4TbH5+Q9enjGgj4nnn/z59MeeX9hU1UCyM2Y88sDiFz6uuvLe+29PVTytOz9+9aUF7fe89vVLN2fxRK66cdI/X3r50w+/SH32ATORXB1HSPzEp559atrQWOKv+/yvT7y2eumOUQON0VWLVh256pGnH7p5QoJVy0l3Dn3zgyJfC2MyY/wlvZtInzrjL39ZN/2Jv/3flYNeunGQjgu0VG79+8tvOgfd8caTU6yX4B2ZKnzWb55eW3jnH37xp77znh0SppHaK7f89/05K70zf/vYpAw77X33uTNCeL0l6Zp7whZ/OC/v2K3XJ4lMbq4s3VJUZrj+8WwTd85zOQEA/OSFsq+CUkopJQGJMcakwHfOCBkhVG+LvGZSX0IYE9VaR8JQc/iw7KFmgRDKWfXWaGOELDOfu3H/7kJeHzs6J8Ugud1uNx877PphfZvz1pVU1FLRZtc781au3rxtz5HKumaa/eqrr/zhmj6EEMICCmNE9hPC3B0Nq+es5KPG33RNis/tdrt9pui+I8eP9ZbuKqhoYoRwltjB40YOzIohhBFVxPixY1JcdflHa9sUtU3PHdy9ccPmLUVHKhs69Lc9+vvX7hqlFc84lXAwm48RbuCNv/n9zfp3fvfsV/kNHS1ln776v4s9ub9/+4+DDF1PCfq7MkPi+D//7pH4ox8/+fy8yub6wg2fvzp7c/zNjz925zAtIb3v+EsJo4TXWvqMujtVObhmfYnEmK+humT3vraU4cP62gntUWtbAgD0aD1gtOb3o4RTi9kxNkIpYV2zznN6rUrHEUK//UMokd1tLR2umoaWNUs+P5ynJoxwgtDUUNPZXHa0oeHKCdc9UHb01S/nvrziC15tTEkfMv6aqyaOGhRnUZ94Jyb7/XWHjnKdDtfKT/+d55UUQpjkOVZc3Or119a1KuG8QRttskebtd2HGGO4wWw+1tTQLJsnznr4mtc+WPLBX/M+ErSWuIyxE6+afMWojBgLz13qwxEj+oT7fvPn7etuf+Kxl9tn8O8vlh96+5UbUzTk0ky6Qikhgjpm0pPPPHr4F6+/8nvxKCtZy4197JlfXR9xfO2CXqZrjWG1I2H4DWN1c9etKrs5RSgv3lbQmXXPjD5nWBQTAAC+V49OFYQSSq2iePJO/cRQAXZ8TmBKOCo1HitcvahJL3b3vjBFMkXH2vUqooqb/OAro64r2bB22YIFK/dvmLPsP+9NeXXpOw8NUJ36ZpTztdduW/BR8fH3U2TZkTbYZuhqJcooZYQSygghisIUJnKEJ1SXffVj7w6bsWv72hVfL9pYsO61hXO/ue+tz/90g0MjXtLjESWEEaJKuerFl25bcds/nyqMmPTQa/dM6Ct0pa1L856UMLNIseAAACAASURBVEGlG333b+/fct1zb70eNeiGtx77WYaJ71oW6dK86aXVVbTe6hh61ZTP39qxt2iao2RvGc18ekzKSf8OAAA/rMekigseWMgIrzGabYkTZox54A+PDY3Vc5QSpvg8br9MNVrR1XA0v4Gl9MmYfm/O9ff9zlW2+teTZ3z1+n+ffWhAUtcWFEYopxKsKQnRfdKfXvXWDWYVRwhhihzw+/wSUWs1Lfvyvd4KZ1O50z3KpOcpkdoa2ly+6DSHVSM3FpU0mSPiRk65d9x197OOg2899LM/vrcw/5lpV6hF4dLGCkoJY4SFj7t1muPtucSeOjTTKHxnIWPGZFkKBGRepRb5iy6IEsKIWhs59Nqp4RsWOnKz+znEEyv1sq7LWT6vzycrVFBrNCoVz/fsuEEpYYxqTLasUf302/LWrk2sPmjLfWxQFLn8l1j6rq4VGs91UcfLF6VBvI3r28HUP/lW7V4OI1gNyxhalRzfSfWUUeU9IFVwgoqjgdq6ptYOh+5ChhiK+vB+2fG7lhatX7vZPL5/mE4MuBv3bdxYTeInXj2kbfuXT71ZNOPnD00ZnmrV8F5qjY0yRGiMKkII4dU8kapqGtuT9Pro0TfnLPr3Fx+tS5veP1Ivcu6WqkMFRY0kfPgVo7WU+Dva9+04sH1Yyci+YcxVvWrNXmd4zqDMeFXTrtef+9A0dMZt149NCtcrPmoLt9iTLDrlxzkc0UB72aI//eErNmpUeueKf741KfvlSWn2E+GBMUXy1JQWFh1s7zN+TIpNfbaNnRtF8ZVvX/L+B0s1qcmeTV+/s2jQb24e5dDyhBDGZFdTVcmBfaWV9V6J6u3x6f2z0xMitGIPmG/tLCghRG2x/T97Zx1dxdEF8JmV5xp5cfcQEgIhIbi7FKdQWqBIKW2x0lKhpe4UaCleHIq7u2uQCARJiLs+X53vjxcgUOjXhBhlf+e0h+zum7kju/fOvSOhUc3tlu/YWKDy7PFTlLoWXT4NFQgtJSUYhr88JyE9EwgYs4W1mInnrwmEqHK9IS9P0H8AAIR42mTG+RqYrkQbTcbcXJ7jakKuFxwIaaOxvoWooL6tCgQA6dgo1GP/8a2rndi3Rg9QV/0dxkhl4zbdWmYW7TuwOjPJz10rMxWlx19Jtm/1WqvO4pDmHfv53zq8aknaNX93raQkO+msucWoDwa6AQAwh4gIz70H1i4PNPfs1qVxn7eH3f1+38Kf08KCdAq8OOduRmq5d9v+UR0gQACDXGHKjT2b1t10EVsLspKy6OavdGjq72RPNO0Xc3z96V3L8hP93OwZQ86Fq6Ie418NV4nw2o/J85T++p55s/6623vGhilNrk4b/83vy2JCPnvDS4UDAABCLG3KvXNp05Jlx+6q3wmPeX6rAvFcWdqllfPmJJDdv5rVN3Xdt2sXLPDx9HijnY8UA5y16PqJbZv2xcv9ghxJa8KlC9duZQ5/bUhjD9Xze0lqEwgBkihUPgHBzNrV2SEDOwWpX8D1LM8FxDCJnX1JVmZ5fn59y9IgQBxHM4xS9XyHpEKMVChMmRk5iQk1JNeLDUKIslqVMjnEnmM+O4QipbI8Jzs7Ib7mRHuxoc0mqU5X31IAUP9WBQAIuPf9cHrm4q037tzLNbL2zpF9e4rsSQQw0i6gZ9eOIUqAEAIQ4mqdX/POrX3d5BAhBKBU69I4sinv5QAhpvYMHzZW43Xq0PETcUnZFqnO95Xpr3WKDXe3V2AwZtxstfeenaeuJl7OFrt4RX2wdECHMFcAAELOQ77+NHfxnsT4m01atg/zjxz78c8h+7cePpuUkMYpvRr1e6t9hzYRTipxYRqQaB079Wzf0ld96WIcLfcZ/nbfts2DdEoRBC49J05zCD5w5MyFhIRsqVPQ4Fnf9GgZqiSx2tZJiGfzr+358qdtir6zvnq3pSvjN+ONuMlLFswPifx8TKQKAp7WZ1w7sGTJmpNxebh7qxpx5lPF6Tvmzl51z2Hq3JnDOjhkKYquT/lh6bwlvl4fdvZVG3NT4y4l8P6Dp07vbofRd0+uX73jWlx80wD3pvIGrqEhxEVSe7cQ79BAXacWriLwUtkUCCFSqfLo3oOnrPUtSwMCASB1cEQIVXvuM06STi1bAa5FzQr2QoMQkjrqcIm4ehWLEMIlUl1MC/vG4Q3H7d8AgJhI9Dx9tcbkqHdXp02Av1WEzZKAD0+lhw/d0QgBW1eq9JunJlK5aH+/BSF8rAEqZfP3RAqubVmwdDkTPub9N4fYi0Dln6CnpV8nIFPBzWUzJsy/7jxv85+9ApQAcZasCx9OmLj9TtjPu+YMCHXBSu6d2/rrL2dF0Y2D7iYXD535Xg9/5XNlyRiubPx5wkcbvMfP+/PT7moAWGP+8VWzPlh4zn/gp3On9ZeV3zlx8jwM6tcv2gkCPufK9pV/Hde1enVY39bK+rdgnwVCPE+ZjUZj+Y0Tu9cfyBj44cwewdr6fjfrlGe8hgJCzdQW1a5YoUWeRQOpmfr/0j+jCh5e/tt9+JRw91MT+YfKtd167IFnPPxPLfQ0SeoMzpB+cPVPi8+aR333YbcAFQAAQFziGv3e1HG5H83/6eulnt++29zZIaTL+O/6+RoSj6beLHjuPPmc67t+mb9Z2eLN76d0VwMAACAUjtH93nrnXs4fe5euaeT/1itNB7weDhBCAFnKMuOuXM/m7cO8vMVYg16iydHm2yf/2nMpI6+g0DW6b7SPGr5k8Y96/xI1WISaqSWqXbFCizyLBlIzDXsOXYNBrHYNjogN9XZrOJMOWWP2vUy+9Zvvj+wWQQJk604QJ71ajZjx9vBQWXlaVhmSaBx9IkIdMMDUyIQmvjDzPh7aZcqsNwIU8IEhhqmdQ3qMmjqwTYippNBA8wAAAHlT0f2z+7cfSTL4R3doHuRCwvr2iT0TBABAPGcpyUhNy1P5tRrQp72duOGKKyAgINCQqf8IyAsBx1jNZjMgZXKppNa3tvp38JShuMyMydRahRgDFcsjbUdz8JSxqJwSy5UquQSDAHCmi0cOLNmYNOjjqc8XAeFNZUV6RmRvpxLhD8wrhAAAHMeYDHorEqnVChHGG/Pv7d+6/uC18ojur/bv0tRdRdo2LGsYNfcEtkV/PG0uKzdyYrlKIRdjADQYu19AQEDgRaL+IyAvBDgpUaol9S3FY2BipaPT4yYCfOCwkKicakVYTK7RyZ+4BiEAACdEKq2DCgDEs/rcO6f3bT2aWBrWY9iwnjGOEgAAgA03mmCzd3Cx3P5vZRMQEBAQqBoNxqEv8J+ALss+u3PV+gNJHs27dm7iYS3MzM4tMJgpTvCICQgICLwECL4KgRqEKrgXt3fVtot6J9zx2IrEYzzHK528O/fqEx3mL63l09YEBAQEBOodwap4CYCkm29wnz52/lrR/3/4+RCpXWN6jXCCEqmYAAABhOT2jkqpWPCJCQgICLwMCLM1XwJsO+8jVHH0fC3nhHi+cpeCED78T0BAQEDgv41gVQgICAgICAjUDIJnWkBAQEBAQKBmEKwKAQEBAQEBgZpBsCoEBAQEBAQEagbBqhAQEBAQEBCoGQSrQkBAQEBAQKBmwGfPnl3fMggICDRk+LzTBxPk/h4ywFqKTs3++LtkRfdoz9rf1QxxlDU36dp9aOesIGs2aTovcc2iH379admeC6nIwcPHSUPU7QiL5+jSvPSMjAKJvQPOFl3Yvnnn3gR5QICjnKztJdgI0YWpt3PLTIRKUxs7ybDFN3etP3juLh4Qpqv1HXKeBBXduHjXjMsUSjFuufH7L58fKQoNctfKRbW/sB0VXT2bxGqclCKsJpfRI2N2wr4NyxfMXbhm24l7Zbinr5tCTNRoFjWM4KsQEBD4J0zxS15767d0KwAAII7Ov3rpXHIhX/v5ItaaG7/rs9nzkgqpmk2Zzr4wY+zI2ZvuqP2DUOr+mRPGLj6eUccr7Msybmz4dfqKw5kcBgBPFaTfu52UUmatkbOF/w8FV1Yt/PGb3RfzuNr4/FsLz+/auODHvxJuF9O1kPw/Y0nZPfurBfuupFEIAMCW3oo/n5BhsLJ1kLU148iM978/e6+wRk8n4AoS98ycMunrFecsDh6u0vydv0zt/87S+GJTHbyA1UbYW1NAQOCfoM3p6TmFHAAAIFzi2PX3lRFiHWnbVa0280WIo8wFOXl5dM2qWsZwcPFXW3PDFq38opmT0prfZ8/CL1bM+yOm2bcx2robZTG0qSg/rVTDA4gwkWOHkW9HWYDGSQYQqu3DfSljTn5BFrTyNXvkH+JZY1HGpUPbFi9ffyXTMZSvh52QGGt+bm6e2sIAgBAvazbz202c3NNJAWq/u3JUUVZudhBTkxYMa8zb99f6BDxqxpcjWoZ7ijhL9rkVb77/2/w97ReMCJORDdQpIERABAQEngHiS1Iurv7jz0NxGQy0FqZxAeGu2Qd2H9NrmwU4smX51/ft2Vcm9UGZB7dt3XP8SoYe2TnroCHr0tG9u/YdS8wxSlV2WqUEgwAgntIXxJ8/umv33iOXk0opib2dWiIibF96zlh09ezBPZt3HTx97m6uUeHgopVhJffOrPpt1bH4FIOV0RfwnuHeMsQZi7OunT64Y8+B0zdSaFxpb68R4xAAYMw4fmj/jRJOXJp2ftfWbefiM62EykGrJAnsCV1iLb81Z+qXuqFfTxvYTCuXqe20Oq1199otOQG9egep66RW6aL0GzsWr9p7MS49H2GEwtHdruxOwq27RUoPd5XIeOPY8YS0EsqUf/HI7t2Hzt8v49R2WjlbeO30wW3b9l9OLdE6uaplZIUPnDHdiTu6bcvOfWfj8oyki5uzjKgoMWMuv3/95M7tuw8fO3s7qxSJlVotkZsYt2P9X4cu380u5Amp2tnZUSHGrGU5N84d27V779GryeW0WOegERM4hIA1ZOxcs8Pi5MndObVl4/ojl+6ZCK2rs4Z8ioJG+qzELX98uezQHbmzvZzFnEPatW/vLa2LCrXlz5dlJB3cumXn0WuFJpOpDHfxdDRdO3s4nfX11CkkfOq2DctyZc3sjEe3bti651hStlnj4aNEpbcvHdq6ec+Z5AxMrtPZyXEIAEKM1ZCWePHA3l17T11JK6JUGjulTGzrSZy59G7ChQPbdx08eiopvQBItRqllClI3LZ8zc5TN/SMteA+49nEV03igDEmXTi4c/uugxcS8oyEm5uzhAAAAKo8I/HUxtNJUhmRfnjLhoNn44tpqdpOI7d15UqYi5J2bLnkHN2nf/cWno5quVLt5KNJWrl6H2zyVrcQCdlAj1YSfBUCAgLPAlHWkrwyK4d4Q1FRsV2+hTElrlq8MEA7rlcwVZZ/ZePKX8hTKXTyTcxXzmSsXrnpQPvuoXalCck5MrEhftOGnS2Gfzx5VLS3mspLWPPHj6tPpNt5h9iT+l0rNkQOmjhjfC9POxmw5G/69YN5e4tCowLUoOTMjlW/L+gxZ/1Xwdbi3DITzXKG4uLi0gIzTxekX1ry/ewdNwyuwRFK6tS21dtavzp+8rgermJgzDi2c018ucoR4mUyidyctnn16pX93/t8dI8oZ+VjMXVrTvzFNKfhLYPFEAAAICHSeoaGctSVuBSmr0cNT994OjxFl+eV6c0UZzWUF5eV6q361LNHDsbjqmZR7oqyhINbdlxKoTQ6O3sNMGauWbPjyitdJMmJtwmJm6Q8bv3yhQcnbf51VJCDAmMKNnw1/ofN8drwrsEO1kNr162KfHXOgsnBUsCaCi5s+unzP86ogyLc1ZZzh7auJhuNmjwxSmcqNlgsNAf0pcXleorjzTnXF//8xbYrJY6+IRpQvGP5+laj3588op27RsoaM3es+tOz4PKBNXEB7ZpI84+sWTY/evyCue+2VjxZKM5YWsaTPiPfHxbGnV380766qMjHQAxtKDEYrQxn0RtKSgqtrDln9+Y/imJio4OdNUTq1vVzRAmWRWfPg4hAu4LVS/5cv3PMGy0su48ke3iIU26uXb/vwgeffjygiY7V517Ys+yHpdtN6hBfnejk7p37QrtPmDSydZAjZi0+suG3pVsvY47uTkom69CWhfND3vn+0z7epQXlBprjTaVlxcXZBp4HdO6a2WN/3nnPPryjv0K/b8XKTe3HfvvD2AAJoPXp1/fNnX8+MToqp7BYrAEl29evDe4zduq4oSE6aeW+KrYLHvPx56TWyVkttl3BEKIgsIIGvSW2YFU0CEwmU2lpKY7jIpGIJEmRSIRhj3m3/u69w3G89s/1qA4cx+n1epPJJBKJbMUhCOIJOf8uNoZhtiJXu0QURZWUlFgsln9+zNPT01Z11csFIVRcXKzX6//5GW9vbwzDGmDrVAkEMMfA9hPfbL354In+Uz8d7CGSoHLaYjVWxCQQV1pUmpLLzV62uLsPkxu3ZeHsr7b8hYZPmP7DdHeZ6cyaH9cePnotqX2YR+CFTQs3H8vsMubTYd2a2YnZxK2/fLh47a7mQW+0CbUmHVyxIW/43B8GR3qIMZ66e2jitysPXy1r3bHjuPFpt3P39ZswdXiEPSzNOLzx9x3x8JUZi8e1d8csGbsWzVu8cpmTl9fbfUIRx1lNp+NKek+bOa1fywCRNeuv7z/YtnlzVKCnQ7h7ZVcxZyorAxKVQgQhBAgAgBG4ysXKnz+aUfIFcKr1OkUIiHQ+LUaMN1qMifl+Q8a81tWeKL5N07QV53gAAOKs5SnZVO83Xn+9W4yGLVj764w/Vy9sPOqHD4e187fD72z/8NXPl+5P7u8Xq0jf89PHc4/Gfn3g52FBYshkXVr99ph5n/iHrfq4jTnt+qY5J8h+ny6c3IrEUMmtY9t2bE9Iy2kb3XnogObZhRZdt+HDB7RxljLH5y/acdnSc9xngztHaknq2sYfpy5e6tfY843WwRiAEMUvnAtnbf3r1RAFspSeXjhh8m8ft2h7bGwE8XipMF1QzNDJEbhMURp3Fa/zno8AZucd+corrfYfLQjoP2Lc4HYeGjaHshgplucRAIhDyLx9SfxHm1aMbibCuX6eg3p+9wvGTvxm7rwgNZudfOSXj385dqxXl7B2BUmnNvy5WdFs/JeThnipUPqFvXN+2712q4vPtAHy1Ku79qX6th8+anhnJynO3D/5zcL11+7kdI9o9tqoXnsO3Gv3+qSJbQO1UtHN9Z9+9NvZnr8c/uIVXxIZsy6ue2vS/M/cA5bPaAcQoi3pmQXXWvlO//Gzliqu9MTGBWsPbz3WuIlPzybSSvVKiNU+gSoAIVZxkhJ399D6M4XWfi0jRASBQM2GsGoMwapoEMTFxX399dd3795FCCGEKIqyWq0KhUIul+M4juM4QRAEQTz8N03T8+fPj4yMJIgG14IGg2HDhg3z5s2jKMpWHAAAhmHEAyoXx/Z/AECPHj3GjBljb29f7XzPnj373XffJScni8Xipz7AMEyXLl3mzJmjVCqrnQvHcXv37l2wYEFRUdETlp8NCGFRUdHs2bPfeuutZ0nywgAhLpKplGIc4nKNnUYNaEPZY/oCSTSKloOHNHWSYEgW7B0RhV1M9WndJdzTEQMOjcIbuSSkW6zFfNaZHcdusKEDundq5e+qwCBoM3hstzNj959I7BXuKzKWFCMzZTZxCJeptdrmQ9Zt6IeRMgjNCqWMJAiZSqVWkOm3k/afztJ1mDzplXANAQHSDh7eJyNr7vmTJ7q2CrWHABCyNt17dWob46rBILAfNGLErmnb4pLvNw921oiJh2JTBRk59hpHtRI++ihjOA+Qla+rGXCQIKUKlVIiwkVShVIlJ60lNllsQvIA8/GJjI2I9HF1IFixn38gdLPv1alJYz8nGQajY9sp8F0GE4Oo+5vX7M9oNuvSWy0cSAwApGoz4rtpB0dtW3rhjZbByJDHGBmSZXFSJZf5thgwpVlvDiPFIjJbIRGThFShUCikeMqhnceTlDFvdOvQwt9FASHoOGxs+wMj9h6/OSDSXw0ASzFhb02d2NKTxAAC6m5TZrVfO3TBymNv/NqVfKJQIolSLAEAlNZRNT4OhBgpkcklJEGIZUqVSiEi9ADCR4oXspy54+gxsS46BQIwsnM//utE166DY3x1GELQs2loiDzRkMkasm+e2XvGFPD+0CGR3joMArt2XbtcO7/p9sUb9zo3Z4x61oBoM8sCsVytjez742/dES6SiAhzsZTEMalcqdEoReZ7K5ceLIj94odRzTQkBEirbjfyo9EHp+9YfmNkuzAAACH2ahw5cFgvHx0BgX37Lr2vJay+cfl6bvsQX5W4cpnwB1EOxDMZ5zdN/2kP2Xv29J5eEhzUwRSc6tHgdNLLSXh4+K+//krTNMdxEMIDBw6cPHmyd+/eYWFhtossyz78P8dxFovF1dX1qVqt3lEoFP3794+NjUUIPSH2E/94+OeZM2fOnz8/atSo58n39u3bYrH4l19+iYiIYNmnz5niOE4qfa5QL4ZhnTp1atq06bMqXy6XT548+dq1axxXF/P5a5X/98VCCBeJnRt5iTGAgE1J42o56aqFACAAcUKE4ySGgeKsqzklmUp3a8H9pMu5gEeI5MoAIOOu3y42WcMbtx/WdMOPU8cdbxYT2iggrHFUbJtWAToMPGhDBADP0WXFmXmmAiel9c7lizwAAGK4nrICeUZ21v38cnvAY3h4Izd/V40t/A2VHr5+ZHlRXilF86CSdYfL1aTFaqYoCOSVVE5dDfv+lf9KorTXqZVy3NYEPAIudvYyiQhCBAAmElckUZqVmJMR2UxxP+7SPQQAgJCnykS+lpLkKyn6ViFN+/fymbXkvYGX2saGh4ZFNG0aFRns7fJE6D7//vnc0gw1YclLSbqUDXgERFyxCBddvJast3ZTA45hPbrFBItwiBCCABfLw1o14S6dic8FXT2rWKpa5f/nz7PAs1mghAQIAAgwBACOS3wcKxykGEaIxAAAylSQkXKGJ5ugovtXLt7nECB4o9HEZuUUpmQWdolt3LWxfO7GX+LPHgoPCwkPb9qsRYtQT8cnug9VnHYjN6dpT3nK1UsMjwCAgKMMpIe5OCM+szjMCWGYvYu2VaiLbQoMJnN08rCT5BTmFRrYylZFJdiUM5s+nj0n13Xg77Ne9beX1XuF/wOCVVH/IITUarVGo3l45c6dO8nJyWFhYR07dvznH9b+1OaqgRDCcdzFxcXFxeXf/0oqlW7atOk5s4YQyuVyNze3oKCg50zqH8AwzN3d3d3d/R+eUavVDdPgq2EQACSOu6uUj3dBiCopGQgABBRdzFgLjq359eK2hQ8mTyKmtKQ0ONTIsqRDxKTftnWIO7Z7y57NC7/61ST28Gj70eo14yIrTUZDiOOtpoK0Ez9PP7jgwVcLcRYr69WxMW2lAEAQqiWYjLQN3yACEMNJysrQT7ggxA6u/maLyUo/cCAjHlj0YohHOVbfhVXD4CKVWCTFH+1JgACw1SWEAD2oQc4EMD5xzez+24mKKDtCPEfx6hCz3ih18O4/+8+QPhcO796ydcuiJb9b3QNjR0+aMXZEu8o5WalCxpx7ZPGXx1aLHzQNTxUXlzdubeJ5BBCP1CqVCFQYDjZVjHheT/Ev2r4EHAIhahUGHzOBEICw0sHdEPCcxWJMv3u54IMxFx9sYYJYo8Hg0MpqtkJt8KAZc6J6Xzq4c/f2nStXL5orVYaN/X7u9EFRkkpZsawREOjGyo/7bnrYVxHDMNAhzGw0AycAoUiE2YlhRV+FEGIEx3IUzTx1voT50oZvPvxhrSViwi+fTWjpZWcLMDWkD/9jCFZF/fNUs+Bh7KCqP6xfqiESQqimhvX/ptIEahQE/l+NIwSUigCpNnDst7M+fHOwk/jRDfQgYiyzc2vW+bVmnUfMXsDmXVz96ohpH8xeN2Tn6w/VFoS4iFQ7+UV8Pnfj9K7eT2QBIcw7jSE+p5QrMSMgxQAAiKHKDXq5m1ROEI/1SVzn7MYW56SWc9HOBACAZyl9zg0ckJFef5uBWF8g8P96MQIAShxxBAfNPbF2VPCTsRsIAYRShVOTdv0i2vV7/3tL+sXtP/04d9vu3Y1jGoVXelCtDpXaN5o69ae3B3V2fLhl1YOmofMwDGZn55se3eCLCtMwEemmerFMChv/4ttAiLRap9iYfhGLliwIVT3o3JX6KlTrgmN6Bcf0nPwVU5iw+5Npn/yx8K9eLX2bVEpEKnHCefDqHxeXD/N6mKftHxBCU2YqQiYTl1YOgBoCABBLm01GRIpUCtnfl3WYziye9c43KxWdv1r+7ahgZzkOkK39n6sqapN67BoI8TzP8zZNgDiWohmOryOtgBDPcTW6W0lFsohjGYqirBTNsFwdaziEEM8xFGWtBEXTbA2uG+dYhnk8PYQQz7E0XVFmvlqZ1ad5ZKs1+rFas1qtVoqydch6E6zhADEAabOFrZ7xx3NA4dXM39ntflJKZnYpy/E8zzGW8tS7t25lFVIMe2vDlJjeo/Yl5FsYngWYQ1TfoX5++HWDHgAIIEIMRbE8xDUufh72usvnLxQYaI7neZ6zlBek3km6k1VoZhAAGM/duJaYeD/LzLAsbTXev3Q1zcErIMRDLsErfYGRTBXTrh9/4ujZnHKKZVmrUZ9y8Uy2zHFyq8A6nVkPAUI8y1Isw1czW61HbETTI7t2ZpZRHMfzPM9Q5oL7iddup+lN5anH5vbo1nnyhnsMy/KQdG0S271zey+jxVrOIgAR4hiGZlle69/Cz9kl+ca9zJyyiqYxl969nZicXcRyCABcRJbuPXyh0ESzLMtQZv2tIwfT7UOnddU1SAMeAgwAhmYYluWqIR7igUjh5BMSCwtyriVm0gzH8zxLGXMyU26mpJcaLWknlo58882fNp4qNjEswLWN2vcKbOSawZssPA8wCFgrxXIsBx2824Q3PrBtW56BftA0przUhOu30w00AgDyXFFW9om4RAPNsAxlzkm+N823CwAAIABJREFUe0/POoSHeKhElcVGrOHShu/en7PL49V5i74YEaAlWJqmaYZm60pTVot681UgxBsKsotM0MndWSYiyu9f3HA2v2uf7j5aae1rGGQpzUxNZfyj/CX//+EqJEvp8xIvn7+cdF+PK0LCYltEBzvK6mCn2AfZ82zhzcMbD8QZmYq5aQiJHNya9Breya0mFswhjk48vOUe2bpvZ09begghzmrIuHXlfFxSfhlw8A9rHt00wEX1tz0CGi4IIEtx2v59e25nmyobNzzE1F4hHbp2b2Rf55sONzCkMne1Km//jkORHb0CA+2qPEZCANiFjxzY6cc/Diz8HXbs0NRVymUlnlqx5ZjzgI9+HNPNrVnPsN9n/7bg97Je7T1UWPGtY+uyYKcfe3pCPEeqwrDCk4ePR5GhPv6hg7s1/+K3xZ8gQ59YXzkwJ5/btfP0bd9+7898s68UIMBJrx7fs8YB5Db2pnKv7dpyJCRmTMtgTymOVRraQVyqGvz65HXvzvncFw5t5mVMObtu+ZmIPl/2bkTW5QCQJMUEiW4nnbkYFxgZKKlOvpjutYlv7u37yZufkGN6hDsrsbx7Vw/8tfSG8xtL537o79emjXjrhmXfLSUGhDjIiu+cP3AsSdF6WEiIg/SuI0FYEq5euNLUq2Vo5GuvtPvq960LFxg6tot0ljAZN47/8dfxwJGz54/rJgcIF8GMEys+/Z1/JSqEL7qx58/FdPvR3/f2BqAhjpZFEgel0njjysXLAQ5tm7lWJwmxY+NWPfqe+3bDnB/LBnYL0onK0+M37zxY4tL64xnvRvlEBvBHT2xZI6JLwtw0lvSLq+Pzvd96NdBdJTXYqTXGcydPXdZYGrVo8vb7E44P+H7C58SIzqE6KZ937/quTSvveoxaMed9b4AAj2XfSVm/cr61XZTSmnF8/94SPGBAbKRGXNkCBvq0uA2r92cpQ7o6lV89sTOuwnHCEa6xA9oHSWp9b/dqUm9WBc8U7Zk/O0nefdyEPp72uCE9bt2WpOA2Hbw00tpXSab9347YoJ+1okatCs6SuWXO9GUnCnQBESoqed2fKyKGfDxvem+7utoBjWcMNzau+HLRxcYR/g+sColXsCh2cA1YFYg2Zp9d/tbg77ze2dbTZlUgxJmLEg6v+XjONrPGK9iBPLB962bv9pO/nNHBX16l/VkeC23WMQhR+oLrF4+dvm3AKoKVvKWs8M7tDI/OrwfHdmtU/VUp/wUQAOLAvjMmJf686vPPrzT5bvkcpbOLm70MAAAJUuno5GInr3hfMUKqtHPXcaoHZ0sQEoXWzlElk2AAD+ox4QOt3/qNO1bPP2i2QLWrf9cxnw7t18FVI8W1Hb/8jV2wbOWa706aRJida/DgL34b/kpjgHN2/m2G9j6/bOucn1Kazpjze5N+73yh8vhr6/5fTxawnNjZr/Erb3/Zt3MLdxXMBwiSXp3attIari/5+S+LVBfT4703BnX1dVLAx93FCJCBvd/bInH8deWmH3YYgdoteuQnE1/vpAGgzvQkAkDp6N+6y4i4hduWL0Xjpk1QaDT2DrgYhwAQcq29Ha0S4RgAAEBMqtS6OAKJ6MErRcpc3NzVEhwApIwY/ucu3col65b8uttsQSoHr6Z9vpg2qFeYAwH5xmN/+V6zauXuP37czGFaj8Dm3cYPfKVLoBbng7p365b3x4qta9ZhunfHNek58SO5x+YdB1bM22+14Go3/2FTvxvQo6VGRjJ6nrJqRrw9Pjjn5O8/rDRwjuGdP1wxaoC/9J8qCxcp7HSOQF0bZ4z8EwgAkXvrEcMHLF59eNH8e5JvPsTtnd2hSkRgAGASBydPixJ/oF2gWOnp4W4vqZARw0mlnZODWoFBzDGw5ciZXys2bNi/Zt56PatQu0Z2eG1yny5NfezEUP3Wh+/ptm48uOq37RSncPKJGvH+0P4dPdQSXBE1btzrvy5f/2XCwZnL1nWJnrBqt9fSResW/bLVasWVDh4tB3/9SZ+uoVrMZAQQVwcEtGrhw+1a+mOeRd6odfeJA/vHhupwgCpP/CxMi8/ioKg8eePSu48m2bCUrPu3vVv7Sxrq3poVoei6huesxtQfhrV/c+qft3OMLMextNVgNNGszbXJsQzL8zzHsgzDMIztKs9ztj8ZluMeRk6Q7fmKB1mOf/IOwzy4xfE8zyOeZ5jCOd1VLYceKGNZjudRReIcW/lB2+95jqtYp/BQlMo5VIZJ2/JBaGjEZ2vPlZlpmmEvLx3tExC7Lq6Ye+rj/8j69etHjBhx5MiRKv3KWp72++ttAib+aTRbKjny6WoI8Bg8ZzEUZxz7raOvWkI4jJp1wVxxmc5O3P9u++gO01almViO0t86vHhE69jBs7bm0FXIkuf5jRs3Dhw4MC8v7xl1+69YuHDh4MGDT58+XaVf2dq4cvzDVJx2YuGUqOCOU9dco1F1BBo5cuTo0aNNJlPVf9rg4BHiEc/SlNlkMpktLMczFrPZyvCI5zmWtlosFFNRRTzH0FazxUqznO0CxzKU1UozLM/zyPY8ZTWbTSaTyWKlHr7WPM8jnqNpq9lkNJpMFquV4fgH7yXH0lazyWQ2W1gOIcRzHEtbLWaTyWQyW6wUw3E84hHic07OfL1L2y9WnSmkKIvJZDZbaebRy/1YiWx/cixly9BssTm6n6fvVadWeZ5laKvZZLZYaNYWg6MYjud5jqasVivN2t5bnmdoyvyguhBCiGPMZhPFVnzOEOIZymquKIqVYVj+ERzDUA8ri2ZZHlVUCcvQFrPJbLHaGufJpnnwlbPknB7SxG3mpgSWtppNj9XVP1QWxzKUxUJVuOnrDltf5RjaajaZTGaaZRmr1WyhbV95xmoxWeiHmoNnaaPJZGU49OAjQFMWK8U86HkcS1MWi8lU0Zce1aqtsiymilplbBXyIGtbbTMVRX+8adiKbq1PP7H0Ha9uI5fcZ1jKYjKbLRTNck/rqxxD2RrlMYxGk5Wuy+5aVerJV0HrbyffySoxFGH342/c17QJUFL5yRkm3yB/rYSgyrNup+rdfZzKC/NKSs08KXP29NQp8PKCnPyScitHaHWurs4OchEOEM9S5rKSwrzCEgvNkVKNg87J0U4pIjAIeMaiL8jNLy43WGlESmV2jk7OjnZiXp+UnJil54z8nSvX/ZuFe6sJyFqNxQX5ecWlNAulKjtHnbO9RkZAxJj0+fmFLCmXAWN+UTmFSKXW0dnZUSkln9zmhU3f9ecx4D6mb8tQpYSAAEQMn9l/SYdte671a9JJXsUhkM0Vj6o2fEessSwhv6BZDy/AswwLIE6IxCLiebdiQpyl6NSqL2f+tJ+PHtFRtObBPveIZyxpN87GlYG3Rw/2lGIAKAKbtR3c99i3R3ecTekzKLgK7pF69FVACCHERWLbQBDxrCn99pmVa4+6dZg+dXhEw91opq6wrdLESZGUfBAJkjzYpwfDSTH+qJkhRpBiolKzYzghwolK93FShD+jW0CSFJPkE2vqIAAQJ8XSynlgOCZ+ViIA2LZNEFUOWj3ZfhXvA4aLxFJRPe0nYnOK4QSJP6wvXPSgpiBZWSwICVL02GcaI6TSxy4QIvEzvuOQIEQE8bcQHgSPZQ1sLfxPtYqTYumTrfNMnmj3OsPWV2HlXog/koMQSyrLBHFSLqt4zPYRwESPHKywokaeGv181i0ICVJSuVYBfHbT2BLCRYTsyRJUAiNE0r83X4OnnqyKslvLFi/ddyPFKt6UfY9Trn3PL/nPAZ9e+2Pj8u6B9oWXlo4cuWPY9MFZd5PT7+bkmawBHYYOiXa8eeZkYmZGVp5e6ddm+MR3Xm3pAcxFCaf2bt91JC6tgOZZkrTzCG83+NX+scFuUr7g8u51G3ZdTC830iYeSTh7j+gxUya3cUj54Zufr96h8vDln7yXP3fvJ1Fiy9U9q9fuOH2rqBgHYonS3j+q25BhfaI8lcWpV/6cu+gucguUl1xLzS+zIrkuoGP/Ef07R3nbix/bDSg76XhhuW5wiEYrsy3BInDXsFjnLcmXLVRHeR3MFQHAWJKWm2p2NKTv3ZpaUGyGCofQplERwT528ueKf+jzbx2/ktnjgwUz3476NXppUkVsD7C0MfN2tgmLDfHAIIAIAqh2dPVpos4/E3cnc0Cwb0N1zz0ThPjyrNuH/9oer4j+YsZQ9wa9ekvgMXCxxsHJWaMQvzhTel4AIC52dPXQyOpkH/OXBkhIFHbuTqTyv7oCsz7KhRDShn886yNNYW6K05BJbw9o7KUtvieWKWQEDgEAuEhCFd45mUbOGP+pjz1IOvTH9G9/uHet/1vTxg8L0ZQmHf7p6yVrlkd0ixlkvXlm2cIVN/HmEz+cGeUtL4rft3DZ1sWrSeWk4WGmfUsWrwWtJn80tL23Ghakn1g5Z19CYkZ0r7Bff/95yaund6s+Wr24s7scL7t7fO73C0qbTPj0h36+KnTz7I5l61fPpeW/fdgPI0RseWF8Sqnv2LdnvRMpM6XuXrbor8XLRErNm90bSSupTbYsr4Sx+tmrpYTN4IUQg0qNW0ZSsYVhgbT2X0uETIVpRVmGwlMHJI3cSXN5WmrKrh1Her81dUzPxlWb5vBYqkDhFPHuN8udne0wUECjh99sxDNMmcFMu3lrCQwAABEAUCQjFPZFFiq1jAagRmfC1j4I8bT5fvz5Y9fyYodN6egtBoJN8YKAEFIHDhg9pZPMxV9eB8dTvhwghAiV//hZP0h9qjXtUeBpIIQk2sDWr34fyPrY/Uf7aj1ZS6TMQadTSyVyhdbZ2UFBEsWVbkKE9LhXt2EjOkZ7YqxVGdvB2+2ApXW/UT2jcADMopLW4cTm/OwSQ96dy6fOW50HTR4/qK0/QsDLc+z4srRv1x+9khDjqk4pMSN3tZSQiGVaTSOXYd+uHABEYomYVMmd1RIoktq76ezFlPH6voUn2MDfp41tG6xEADioBprzbn+/fcvpET1aAmTF7FybtRs+sk+QioTQR8vn3Phk7sVLF3u2CfVVPuoOxvIslrE4akSPzkiEECdwwLB1sw0wAoCQ6SKGjOv+zjsdQh1JwJalXpz/8WeLv/vdK2JeX89qq3hISDWusqfc4Dm6nDJg9ho1hgHbBjkAYgDDaY43sVWKZzSEFwsBYC0vuHLqRLYoclKvcOlLHvl40RBp/MOawSqHDQX+EUysCW/Rtr6l+K+BSzTuwa3d/7t9tT6sikqzBmy7vTxZtwjxagcPZ6XNA40AJhKLPf08beNtDIciKYQAMabikuz7SkKhQcbE+HgOAQBxA68wsgUpeblkWK/YiIR1qxaUpMW3bRbm4+3h4ebl4eFk064Pc+RYKunySZliEK7Pjo+nEYCQNliATG9NvHivuKU7IB0dvIODfOSE7Vc6j0AHneZyflG+gfFVPop4ESIZhuEUw/PoYSgeIR4BWJ04QHXmVUDMI3rYguhhDy84+TfpMzB207en9p7P7OsZUA0xwD8O1iHERBgJaJp5uPMfAAgAhEFIvHDRDwAQW1Z0/2rCLY82g8J1Sghf+ikVLw6VrNKGYKD+RxCqsjZ4GfpqA43sIJVcIa28hhvxiH9ir3We41kGlmbePbplWZIU2jbCR+ZSXO4ql4k5x+i3Z3zgvvPwhRsJW5cfoaRqN9egzsNGD2rfWFtp3I4QbdKjkqz87asXKSCHEICIt5QX2rl4UbwVISAncUImtp0OajsmC0BMzzBm9rEdgZSOgQqx8n6BhWJ4IMVtEhuNZWqNUlQ3mzcjVJKVnGlRBPm6SwmIAACkRO7sqWOYnPxaOO4HQlwkcVJpicSiUpavOOmRZyjWbFSJ3Z3lVe1YtsnDNS7mv4enywpun7iV7zaoZWuNpIFvXicgICDQQGmgVgVEgP9/26sSIrFUqdC6eDVt2y3SiXy4kzsmU7r7+ePF6VllDt3HTutpLc1Jy0y/e33rivlLVmujGvtp3B4lgmESZ087ZYFb2269nMkKQwFCiMtUuiAnWJJjNFlzC8osPBLhEAJAGUpoM+XqqLKrNFUCAQDs3AIU0vMZeSYrjVRSCADH6jNS0iN8/eTi6k5qqBKIv3l0+c+XnX/6anKAHQkBQBxjLi82iUWhLo61kSFGiO2ctZLy3DwjF6wEAADeoi8qzih0UXcMcSaqopcbgNGOaENp6uWT5a5NwsOccSB4KgQEBASqQz16qiGEHMcyHF+dDWsRAqRC5+4doBHhuNq/VZeePXv06NGjc1M/LeRoCEHJjd2/zv5y27k0TOMR1rx1z6Ejukd5WMqLzRRnUxgsa2EAwEhxWPu+dlyR3KNJl+49evTo0bVjqyA3uYVilCIJgJAtzb939Upirp5HiKfKb169cr9UEREU4qkiKpk9CGgDe0R7Gy7su343h2Z5HqH8m4fO3CLbxTSv3kzNqg7cIQQyko/fsXHftTSW43mOMeSlXTwRx7qF9Wnm8a92wK+SeADiIplHaJAzcXf/kVvlHAI8U5J++8qlW1LfsJY+mhrPsZbhzWX5N0+kuLo0C3QkABBsCgEBAYHqUF++CgShROMoKs69evZUMNm1aTVUEBLbhTRt2/x40vnNyzRc10AHCW3KvXJ4ywWD94jxXl0CfOyUGw/s2ESac30cpHTxnVM3jTHRrV21Ugwge1dt6a1jR464tWzVyKvt6G6rZ25asgz0ae4iJ8tzk08d23+ND58V1CIEQAwzF6Sc37tha2lTb6zs3rFdN4jATh1aR9iJHh1uDwFASBP16sBm13/btnEDqW+phqVnN68pCurTr50PWXVnekXApSqGBYKYd8t+Q5qc2r1ytbO1jZOITrt++vBNcZfho9v74I9krSkQgrjINbB5l5ij6zcsXS3r20jB3jx78Ox9badJ/UMdbIcBVim9erVCEGsuz7pzS6LpEajFBYtCQEBAoJrUWwQEIzQxvfrc2nb+1L4TrhFBoRr3ZuGUVkJAAEi1R3RUIzuRzY8CRXL70MZNtbqKdQgYqXD2iWgscZdCwjG4+YjJlGrbwbgDW+MlYo6yYJrQQUMHtQ/1tFe5v/W2dd22Q2cObo8TS3GrRdbijVHDe7irJQCAmKETohad3r36gEtYSKxT87c+n7Jm3cFDu9MUhISmaFIXO6H7oBZeRPlNnlc7uwbZqcoS9+68ylK0zCv23UEDWgU7AFDZVIAAIPuIwTOnow17z+7flQ/ZQouk9YwZo5s4i2peoz8VBLQeMRM/+2zN+r27d27WkoSVIzqNmTRoUGvV47I+B6RnREvcS4nZCgxwlXPIkEmT2PXbLu/ecpMgKSTv8PpbQ3s0klUxx/qPgCCASaQObWN0MW7i+pZFQEBA4MWlvqwKCHAiuNWICY5Rabm8n1ZmZ9/mnTcj/e1lEAKlb7sZUyMCNCRCCEBc5hw8YvQkkavONpwlFG5RPce7W3T2GABQ7h3eabRH2P17qQWlVkJh7+7t667T2PYz8209cJJP05S0rFIjr9S5+Pr5OSpFtnWfvm0nfqKMTssnPaQExAmv5v2meDW5k5JaZAJytZO3n4+bgwIDbDlCiFC4N+86akijzLRsC6Hx8vN1c1DhADyxPAICgIC0UZfXpgTGJKdmmnClv3+oj4sSQ6B6Gr3KERAAAC72at77Pc9Gt+/dK6UlDm4+wf4eMhzUkNZGACg6jZ9lsXMjEEIQAAQgIXEIbDVusk/7u/cL9cjO09fX10NNAvBi7fSAEIKE1qP56+87iQMc/qNryAUEBATqgnqcrQlxmV1Ak9iAJgAABIBXrEPFckqxnU/bVg/UKsRESl2TZrqHWhYTqdwDoyst9iUUdu7h0e6PEn5wBwLc3j3A3j3gb3cARqpCYzqGPrgCcULl4hfl4lc5kUe/QbjG2d/ZPbDynSfVDoQQIQBwR+8QR++QSvlVR0FV7zcAIYBhahe/6EcFqdmwgtgvuuPDhoEQVJh99p4R9p4V+dnqs4ryNwAljknVbpFt3P6zS8gFBAQE6oR6syrgM/56qGCe0DR/UzzP1kRVufPMZyEECGKESKFWqeXiJ+488yf/WpLa4Gm51WD+D5L6xwXX1S5xfa4sfRmWkAsICAjUCQ10ZWlDAAFMrvPu2rufWe1D1MfpAi/PuNk2O7W+pRAQEBAQeF4Eq+LZQExq59ayrdv/f1JAQEBAQEBAsCr+gXocO79sA/d6PAldQEBAQKAGeQHPaxAQEBAQEBBokAhWhUD9I/gqBAQEBP4bCFZFw0VQtAICAgICLxaCVdEQednmVQgICAgI/DcQZmsKNBQE34yAgMDfQQjxPKrOKZT/dQgca4BDUMGqaLi8PFq2Ab4YAgICDQSWQzlFxptpJQgh4ei/ChCAELZr4iaTVOtQ7NpEsCoEGgQvjwklICBQJXieLyizJKSWuDiqSQKvb3EaBCYLnV9c3qKRs2BVCPwrXrax+8tWXgEBgX8PAgAhJBWTgV46qbjBKdF6AILCUmNBsb6+5Xg6glUhICAgINCggQDiOCYWEdKGNzSvF8QkAevjHIl/g7AGRKD+EXwVAgICAv8NBKui4fLyTDWw7YL18pRXQEBA4L+KYFU0RISxu4CAgIDAi4hgVQgICAgICAjUDIJV0RB52c7FECIgAgICAv8NBKtCQEBAQEBAoGaox5WliOd4HiEMxyEAiKWMVk4qkxIYrINZBYjnWIYnxGTt5IQYi8EMZSoxXu2yVPWHCCHGajRT3JM3MJyUyuVkzZiPjMVEA7FMSjwQDiGEWJqiKIbjEUaQIrFYROJVLXMDmkeCEMfSVorBJTIJIdjcAgICAlWj3r6bCHH5Ny+fPhFXbLAggDKPzW/Td+KJ+2VcXXjB+fLMuB2rjtXKHiIIcbT+wEfNG/8Rp6f550imihEBxO34oovOycntEa7OOkeP5p3HHciqthiVBeJo86ZZQ8d+ccn68BLPGQvTDi6dNaRdVIhf485Dpi3Zf72EYqpa7IZhVSCAEE+XJBxcOKpPn3nnSutbHgEBAYEXj3rzVXBU1tpvpt9yGfdJeLi9Eog17k0aUWoJUSfqpXzV+C5r1Vt7jq/hdHmOsRpLLq75bMKqLPaj6psU1dKy0Kf5KxPfbS22jbARbynNPnf0hN7Zq7ObBiAEqq25EeI5xlJeeHXjR2/POdF/1qyHl0syriz7asrCK9Kefaa81oiM379p0YfjLyZ9/sP03m6iF2ygjxBAnDU9/syy35eeyFM15YVJHgICAgJVpp6sCo4qLSk30RhN6YsKyp21jg5N+s0JYBUqBYSAo03lBlapltFmo9nCAEKsVCnEOGSsJqPZygFcKlfIJKKKjcUQx9CU2WSmOR4npTK5VExWmCaI5yiLyWyhGA4RIrFUJpeKcMjThSXFBhZAtiQ/r8xNpxZDgBDPUBaj2cxykJRI5TIZSWAQIY5jrBYK4CQBGbPZyiJcLJPJJGLiqZua8XTe7csHd2xYtfOcyEyzdVidAACI4c0Hzmw+EAAAEEKcuTBh358pidYek74cHalEoNqH8iCes2QmXjy0cdkvW67IVWLAP7hOm+5dPLL1kujd39ZNa+cCABjYqWWzPz7/8dCmfV3aj4tSVSczhOrNb4F4Y3HWqUM747KYqsdwBAQEBAQAqDeroiTplx/n7bl0yyj9M+u28fMl44OKDn28LmXSB5ObuipLE7Z9vfDOaxO7Xzuy4/T5+6xjQP9Rb3TwEyUc2b7r1LVcWtWi+5CBvVp6KEWAZy2lmfEXTu0+fCKlwGTv3aJzj+7togLUUhIDrCnv9pE9e45dTswu5Bx8/Vp26t2zbaQ9k/TRhz9evmnOIuZMGJ36/YYpTVWkoSDl0rGDu46fyjWIfcJbde3RMzbMXUaA8sykQ/tPmrT+PuDuvuOXcxi78DZd+3RrH+CsFP1d8Rhvrfz86z35iuFTJl35YNaB51NMz6VceSbn9qVlq7fI2055r2+QLblqJ2bOT1j89eQ9hZHvL5ofP+OVwgfmEs8zRpr0b9avZzNH2xWRnaNbSGPJ7ssZeUUAVM2qqO81IIizFN47ufHoVarXa6N27T9cf5IICAgIvMDUh5saIUQoYmKaBbs5ePhEduwSqFOR1pL0C1eSii0MAoAqS7+wa/WsmbMOZMjC2zbFsvbMfG/mDz99/evGJI1/I3cufdH3n3y+/joNeGvp3e1/fDXtw7nXyuxCwxuhO7tmz/xs6b6rJVaWM91e993Un1afxFzCu3Zoiuef+PGDt1ecTDXw8g7tW4foSK1LbI/eIRoRpPWZm3+a+u5nK/OVjdtFhxVe+eujD7/YeDmDRTxt1qfdOLVl2fxFq09bNKFeatPu3778+Of1FzLMT4Y3EEI859px/LyVSycMauUoF9ebhkSIsZRdO7T5bJbvsBFd7cXweWwKhACHxOF9Zu3c9PvojhEqnH9YcEKibTd0yrKF7wQpCAgghIAxlBZkpZvlCq1GjgB4gUIIPEelJRxavPKA89Cp3WN0OKp+9EpAQEDgZaaefBWagFcGy9P27rrt2mnUm709HETp4JHuwyDMKixw775i8/SOiDFlRNu/+trHO69O2HLw28YkX3y3tWjK1HP7L2a9GWy8eGTT3iS3XtO//WSEnxKwOZ3mfTV7z5btob4ercw7dl0saPve/Lf7xbrKcQwOWDPzT8qqZ2WRw0eOKt04K1vTb9Kk9iRHZV7dtHRDcufP/vp1QhQOuNweMXO/mr104ZYO4e/JMFhSUHjP6v7JFz++0codsAXHlv00c+mOfeEh4Z7tNE8cyauOfGNiUwgA4DKfU6E+z/4NCLH63KR9B497d/+uXYAjDp5jRgUAAECVW5NhbzQBAABgelxGSIjEREWmiKMMty4f23PgjHvE252CdVWayVGvszUR4jl91t1da7ff8x63+pXA3JNxL5A9JCAgINCgqA9fBYQQQo7lOB5xPMf+XXkixIpCe3cKRwBgGCFTuag8nTwG9mtMIgDp46IbAAAgAElEQVSgXCny9AMcMlGlucnxV9K1ftGdY7RMSXFxsV4S0rZtc3nh1eu3UwxSjbODLPn0qUOHj1+6mpiSKekza9aYAc3tpCQELAcQQiwLAE9bErYvTneP6tner7ykpLi4nJTr2sSEWZIO7b1tAoiHMs9mrfr0jHEHAABC16pzmyjPwqSk+Mwy/u+FagDReMSaS5L3LjiR16j3K93sxc/rMIDw/9sGCPG0ufTm2X2Ll+++6dD/zbEjwu0BqOJMjnoKfyCEkLn4/tENCw8Zm8yeNdIVvlA+FgEBgQYJRLShKDfz/q2Ue3fzCktp7iVyfzbMk9ARclDZqSQ2kwfxHAGhu1pZoaYgBBiEANJWg760ECs2pJzcseoG5BEAEDNlZmaWl7sXlcCug0cMLV207uT6hacIJNEFB0fHtO/UsWWAs4qo5GPgOCo1OR0Z/E5tX5tE0AAAyFlzkrPyqZJL6QWDgqDcXuET4KSpyBqINa5ilV1mmb7ITAF7aV1XzP8FIXNp+oGtZxVNPurYxB5AUP1pmv82R542FcWf2fvnio33RE2nThrfI9wBgKpFXepvhiZAHJ1x/fCy7XF+r32Ap108f8+UfCvFoNen37x61cnXw9vHUYr//3QEBAQEHsJTRSnnj+zen5iTx2FKnUejZm26RDX2f0m+JQ3TqgCAJIjH9iBCPOLh4woSQohhYsqQlXLzapm44hrg2cCwqDBvnUisaT14cljb/vHXzp08cuHW/UtLj+68mPn1txN7e2gqp4JwHDD6stvxFx4O7BEnjm3VLsRBAhACCPA8QLaoBACIYxHPYxiG1aYitGnZagzfEc+UpZ7YeRuPeru3jxiA2rYpEEeZ8s/uXLV01ZYi1x7vT5vYIcyVAOC5ZofWLYhni3NyrBR9Y8uCW9sBRJyxJD8rPe/wyh8N6Z1HT3yvs7esvmUUEBB4geAteVeWfTHlWKFD2x79g5xByvkDi89cK//8mz5hji/DlK36tSrQP2jOf9aoCABCIlfZOQdFBY2d9Wm3AAUGAQA8bTGZKE4sk1myks/fLnWNjGjbf1yn/uOsuVfnzRi96sSxzKGd3DQYAAAhHgGA4TLvxr4+dM/vFn0aqCYgQLb1qCYayBQy/Z00vV6fcj+zlGadCRICvrwg26hnArydnOUiAJ5jwWatgBDLZF0+nUO6dY72BgDUrniIp4x5Vw6tW/DHVnNwzw+mTe8cqgbVdTzUSwQEAQBxkW/Lvh/at0Q4BgHAeEvKjZPzNxxrNXTiG638/dREfS52FRAQqDUQQjxLmYwGXKqVSypUIeI5ymKwsphCqarm5ro8nXxq/bar1PC5i2f08mc53tIuatnH7/65fHfMj2OdKk14/69Sf1YFJEgJq9dnZ2cXOmpcqvxzBHC5a2B4pPrSwX1bdtr3a+GiFrOWojvXzt82amM7tNfcO738u632A8YO6R7roSLpMl6iUjoQzlIRAQEmlgB92b30zKbeTorGXSY4HN+5flOrQR0C7KWEsTgz8UZcKuvWp29PDQax8sL01KP7TwW1CnbDLfnn9h7Phf7dY5q6qWCDMyoAYNny+BMpEvtBMd4Q1qp4CHGM5d65vXO+/T3VfcDUYQPcsdzk5FwEACGWa+2dHNTif5+5bVJKPRgWEEJc5BoQ7Rrw4ApnuCIr1hy84de8U5sWGuHAMwGB/y7IWpx6dNcmNuz1gS19bSYEZy5IPL7tltm/V//u9qIH7z/kLAW52dm5Rh5V/qwhnhPbe3q56qQi4uHYAzHU3Wvn2GbDR7bzoWgeACBxDuk3uPW6bzYdvz/ytSCS/tuxCv8x6suqQBim9AvzOXrk9NolMjTjdQ9UdQ1IKAMjOw3okLPjzP7luVcdlGLGWl5QkCcN7BzJYp7N2/fslbTjwp4VadcdlFLMXJhe5jZ0SC8fBymEeEBMNL9284Jf0JhPxoQ3G/xmz/vbDq9ZckenFUnMZQW55eWqxn0ADgACQEZyhSUJ+7ckn5ZwxqL8QrZpjyGdY4Ll2PMurqh5EOK50vvpPB4U4vTUfbpqNDPaWHzu4O7jyeUu6oxTG+cdZW0vIFR4hHfu++orzatgKdbXGa1PqSOEAMshxAOeBQ1lK3EBAYEaxva5Qawh5dz288neHWJ8HXEAIGvMSzi2aV1G4NTeBHjojcYIpujm+X3b9qRQTOUvAs9QDjGvvv5KFy9HVeWUWY5RysWQr/iCIA4ChJupnMSsMjxY95+fEF5vvgpIyGNfmWiQHEu4jwMWKb2bvz7EzUsjgQDIPKLHjbH3URIIIQAwmaNfv0GvK0LsbYoHlzmFt3uVbhyhxYDY0afLa+M9wy6fuxyfU0pJdAERHYbENG/i4agUYQ793vzA9cypy8lpJXqg9W7WamDL2MgAleR/7N1nYBRFGwDgmd29XnOX3ntIIw3SCAklhN6rAlIEFJGuiAgiqJ+IqCAgVXqV3nsNTQw1CSEhnZLeL9d35/sRSlBAcoTchczzi9s9Zmf3NjvvTiUBAqGD5k6k96QV6Bg9ZAnsu33yuf2lC1eSUoqrCLlzcGRwcIsgP3sJUfSAYURW7u3CekVIbiRmKKT+Ed3DI1v4Wko4Lw2CEEJQ3vqDD3khNuy3XrQ/f2QACJY0bOgHQrfmPFDvFfcIAH7EoE89vKxrfhhIsq39Iz4Y406StWcEgwKZVMCjjDpNpqEQQpBl6eg/sH8/PzteYzwDDMNeDwIQ8i3c2sREntxwJOHBkG4uLFpTnnf3yp0Kq7gu7cxZSK9//OKIGIJjbusaECLQ0c/VVdA6oZMtn82qnS5Bsh09ApWb4q9ljmjvY44A0FU+TLh4hdbrK0rLacIKRxVvCQQQylzD3/sk/D0AAEAAtP/S53EXRYlnx+++ftLQTlBCu+Zjxjd/+i7LEjlG9pkS+Xg/ZIts/KN7No/u+SztJ1/lyZ2ie30QDf69B4gcwsZ8Gf50C1fmFNHNKaLbc18FoGYWSYIrtQuN6xbdhXi259VtC9Cmx4w5Pd+gr4ChvTUhi2vfd9qMvm/rxV/cderPTy48wZVYdx8xo/uLvlfX45tQ4U1wHbwiJ3tF4rYPDHuHPR7VxxK5Bkdab1hw5uK9Lh7emqK8e4m3aNeoCD9zRDNPKqMRo2dZ+rbq5hf17+fUCyZGoNj+Mf1b75y5dfmS8rhQWxG7NPtGUhHHFiFGr3/nO1UAY9ZVvOTT0wLmHyXNvwqel5dEddnz0u9CCNCLd/1HCVgrxQYuLJ8d7q0cuA6JG3B8kyjFjffbYRjWsCBCABIssXNIa3fBjhMHH/Z3JR/cu3VX5d+7q5MIMJpaZRFBKwvyHj58pPjHtBOI4cgdnWyt+Jxn/SoAIs08O4z+vGjX7iOnDuU7WlsLJbKWcXF3r2/ky6UUg3Qm1x+vnpnqyFKTAHlmNqFRrSusHBt+tSmTKGUxDMPeUTX97UmRQ0SnyCMLjp692d0rNzmb9Pk4wpWlY/S1XiwISld859Lh3QfTNdra40IYncY87P1hveKcLGsve4RoyPftNNzaNzI7u0DHkTm62TPXFxawqBi5WVN4sOOo4qUQIAQWznHdLGmK9+JFSrF6gisGMAxraDVhBcG3DWjfwnrvpf3xQJon92vfTM561voBAAAAMQTf2qlZaJRMr3++X4Ve6OIk4LKeT5UuSjl16B67f5c2wQ6+AABalX3q8iVaGhLozKcZ5p1/2OGo4uUgJNhcKZtrrOM3hai2Bo4qMAxrcBAAhAAhsPKJbNPsh43bYYvgqCFBQhL8o40C0Sy5V2gHz5YvSOJFzy514a0/fzkjsXXp4G1BIPX9awd3XcwL6fF9c3Okf+fbP3BU8QpG/OmbYClr7JXQMQxrcmqW/SG5csfgzrL1Pxawuvh52ryo6xyE8HUfywiSlj7tunhfOr755zxXdw6ofHAvCQQMfr9fkIBmdKY2H8FbgKMKDMMwrGmCAAFIcvm2zb2bWyub+znIeW86vyECXIvAQVOmX/rrcmGpDrEkXjGDe7do5WvF0THo3Y8pcFSBmYgmWD2DYZjRQQiQXq0uTFNBx9AWQUIKAOZNa6oZQJl7toyz8aisVDIkRyCWCPgcyJjcvIlvCY4qTFeTahFoUieLYZgJQLS2LOnIjqNX/n6YlSsOHdXKzwKiN13p4MlMwSRXJOeK5I+PBJrQmxOOKkxRk7n9Hmtq54thmCmAkGAR1QVF5dKA7n0HdrRgA8TUQ4XCCyZGetMkGxMcVWDGZ6x1QDAMa6pqlh0QurcZ/FlQD7bQ0kwqQozprRjZCOGoAjMVOLDAMKzh1KxmJLKyl1ghBBCDEK42rQ84qjBFTe3Wbmrni2GYsT176jDMPzZgb4T4769g2NuHKyowDMPeATiqMF24oMUwDMMaFxxVYMaHqx4xDMPeDTiqMEVNrZRtaueLYRj2rsJRBYZhGIZh9QNHFZjx4boKDMOwdwOOKkxRTSnbpHpr4jVLMQzD3gE4qjBRuIjFMAzDGh2jzYKFGFXKqcNJ5dLWHSKsJNycQ9+3/+bGks0r4zzkFPG268PprIvb9p8TD5vRXVpvaSJGVZp8/vC69Zv3XbhVjHg+AXEjP/loYPsAIceQ86l7owBitMpHiaeX/7p4x4UEBTQPaDvgo7Ej2ge6CFn1EDsihtaU5f4yqt9F+192Lo7hAQAQovWqgoy/d65evnn3xXtVwDWgVa/BI0f0jLIx49XpnI3cAoIQQ2vz713bv2nZqj/PPqpgOYREDh4zeXBcgFxA4bYZDDMBiGaYapWGfjxllREzYhJLjyrVWmCqb55GiypobcGBlQvu2o0JiYkEAEo9oyeO8fSQ8996RAEAAJV7Z3+y2WzXqHpMEtEZxxZ9MmWHvOOQX9bNlqP8M5uWf/vhSPWmfWPbOZJ1PClDSlmESu+d+vKDKbneA75Z/pU9fHR0x4avvsyuWPDz0ECrN7qoCDG0Tp2fvPmnSbP3pQ2exX28GdCl968tnjlpR5HfhO9XBdkzCQc37fz58/sl876f3MmcfN3kjd3cgxCjK8+8OG/qxP3VLaZ+t7q5rPrivnVrZ07Mr17yzeBAjvEfIBjWpEEACAgVSs1fiTmEUUt0nU6jVik5XD6bzTFiNgAEep3prllipKiC0SkUKh1gMbS6qlKplXPELmEjbRkujwsAYHRqpZrm8Tk6jVqrpQFJcXk8FglorUat0dKAZHO5XBb1+O5CDK3XqTUaPY0Iis3lsCnqcSGOEKPTaDRaLc0AkmKxORw2RUCkr1RUaSCgkKK8vJot5rMgQADROq1ao6EZQLI4XA6bJAmIEMPQWq0OECQJaI1WSyOSzeGwWRT579hHm7btj8OFYaMXzxgZYC+BAESGBWjea7Np74khUSOldS+aDOhnUJB1O9u9y4+/zopw4AGk8XSSFY38Zv2WhH6BXfl1PXztjNDqjIu7fpm3cHcW6WHNYugne/TaknvXr2arB339/fjuDgCAEEczQfVnay4cvPlep1i7OhzDmHUVCOiqi6/uWHE8P2TB1sV9PQUAAH83R6ieduX6hby+gc48o2UNwzCEEIsi3e0lIj6LZoz6do5ASsqdM9dPh4VHBAWHEISR+w+wKELAYxk3Dy9kpKgi/8KwEdPPnL9BUzcObLm28uzc4Eeb+8xL+mnVr21dzQrjfx06/cbMBR9e2LZkx94k2qnFuJkzevtzr+5avuzPk5lqi27DJo8b3slNykGMrrog/crJ/as377iZU27r33XwsKE92vjL+BwS6Cpybu9c98fWI/H3HugdAoN6Dhw1pHuktfZyu06fZNxVKOHw5h59dqQsbSujyh6knNmzefm2HRkl3OYxfYYOG9ahpYuIDYruXty0fleVVXBz8tba7ccyNDat+wz9cHCP5g5m3FpV4wghUFhEeLj1DGtjJRU+3kjJbG2E+WVl+gaqsYPNOk07EQfZLAogBABBQbGMZt9OLiwD4A2iClCZc+G76bOuW7x3+PzwPV3902kAAEAAAEhQXBGfR6mrKqs1ei7BqFRKpR7x+JSQhQACplBP+BqQsiz31OV0qz7f9fXkM7SeQUDsGPjZ74cZQLJM8W8Ww5oWCIFEyJUIucbNhkajOXXo1tG9m52sRY4dW4lEIuPmx2QZI6pACPGdJ078RKpa8Misba/uXQPtRfCBXq3V0o/fzhnFvfOzpudahvaZOK/r33uW/DBx4o021rl50o7DxytvnFz3+/9y9WZbp0bRRXe2/vLtb7tS3Tv2G9/bLOf8np9mfJX9+cxxfSMstLdXz5q05Z6sS/+Jn9gQf53esHrOJ2rhzokxTt9+P3PX1x9d5E2eMTHaQ0CqSzPXz/34lxPqdsMmj3Rlnz+0afbndx/M/e7jdm4IAF1Z9oUL128IrL26jovS3jm07acvs4qmf/FRO0/xc3X89tEzfomBz2rykbI4N+1emWsLK1aDNOoACEmKTT7uJKCsqijLSLp6k8t26Rtg+wYtgQgByLUdMH3dss6t+OziPTXxBAAAAUCyrbwi+gYdXbrsxz/4o1tZqG4c37U7QdZ6wrAAC2CytXP/gBCjKS9KrygOdbWtLLz/ML+4Sk2zBVJbezuZ2KAeMRiG1R/TGXZ+//79c+fOpWdknD17tlOnTr6+vqaTN5NipLoKiXPbjtzbWzfybcO794xxkLJzau2EANwvV3Qf8/vy4cFAr+rqI0x5f+rVwl6HDk6xA6AiOxCWfHrswrXsCT5F8Qe3XiyJHP/Tt+M6WrAAGBTn//PXa3du9Xe2a8fsO3O3KvbTr0d0j3QQc/u836vbxuNqKzYUOnbqbJ35+6ep0phB/dqQOlXahd+XHa/8ePHeGT3cAEBxbVuumf/VxsVro4Pm2BGwpKSiSOI9YcG87j4yAKpjm//2xfwDB095B7h2s3xy8WrfWxBCAOjq4ox9S6cfyQqc8UMHoaENcIZ1NaA11VmXNmw8mvb32TPIu9/EWD8DD/8YFNn6du35r60AIATYfKlfbIznnTUrZk/fLSOqKjTOkb07trQDNKzTnWXUrhVIrS7TVFeXpl7cmJL6V1puflGJhpK2bNtrQP/eIW5muLsmhmEajWbnzp3x8fEAgOPHj8fFxTk4OEgkEmPnyxQZo2UIQgghrdPpaaSndfp/FyYI0Wzv1iFOAAAICYIl4tvIXbu3sQMIAMThEXIbiJBWV5afk5KkkjsFBjcjKoqLi4qLteY+/r48VVpydpZW5uVkw4/fvm3j1r3nLt9Izan2692rfYSHiE1BoNUjhBi9FgBap759bL3CISDcx6ykuLi4uISGXF9fL/3DSyfTKhHDEBKn5uEdY7zMAAAACAJbtPBx0t1NzXxY+rKGDbqqMG3/8jk/7MnqNGNa/1Brou6F5ZuEwIxeW5SdWliu4snNycrchITEKq3hyUH4kloOiJBelXHl0PxFW8jW49dt3bhx/brF34x0KDi2cNHaa480dT2Q0XprIoCQVqdWnD10NM+y3bTvF65cseiLfr53ti9bsu5YodZEe1ljGNaQkpOTT506VVBQAADQ6XTbtm1LTk5mjD4gxSQZbQzIKyFgLTETcZ92uiQAkHLYz6rUIYAA6DRqRVV1dU7m2c2/ZQohAwCAhLYoPbNYaVtepXfqN35c9aKVO46u+d+GPK2seWDHuF59enX0c5KxazVdMIzqYaZC+yhv29L5Rwg9ApBgtCW5KY9UyqsPioZKoETC59nLeAACACAEpMCM4AkfKCpL1Op/d1dAtK48L2nb/Om/ny1pN239nCEhXOJpm0HdGBxYsARmLQf/GPI+o8hL/OO76Yt//EXkvWaYd333WEZIqyy7fupcijZ07fiBLWQ8gICjtZilLJq14PSRc13Dh/qZ5r31TxCQJIdkiyxaD5z2SU8xCQBwspcKSnNSf0o4kZTf19YJ963AsCaturr6+PHjCQkJT7dcvXr1zJkz3t7eZmZmRsyYaTLVJz+E4F9t2vD5lnpIkCw2pVWW5mamVLEfl90QEM4+zX2crUid1j7s/UXh3e9cjz+y73hCyt0dv066VfLL4in9nGW1j0Py+KSuOj8rLZFVkwaCEFBhLVsGWAsAKtLrGaWGpgFgQwgAoHVaRk/z+WwO+c9qHkRrijNu7F796x/x1e3H//bDkBAuiwCGxgd1fXdHCOlUVUqaFAn4LDYXAMCx8YhoFz7/8plTaUXDvO0NyMOrMXpNaXUl7Rhgx31yF7Gl5vZuLtxjFdmlagCEr52UUZsnCa7QxszMTORiL3oSbpJsjkAqVWpUxWoNADiqwLCmi2GYxMTEixcvVlZWAgAghAghhmH27dvXoUOHkJAQknztYfRNg3GjCgYxDDLoXR4BwBaKza2d/EIdB0z7qldzCzYBAKAVJXn5FVqxuaU+86+9F++7tu8YFN0/sM0AUJW+bGrf3/6Kf1jW1VFGAAAYRs8AQFD8ZhEhnhXhP639NsBSQEDE6DUVJQUFVYylra0+K7uqrCT5TsrDqtbuZlzAaPMz04rLkb+/k4OYA57rkqgvuXt+9YLfjt0XD52zdGSc7+OQwqDrYlApi3KvHdyXTPbq38tVxoEA6XTq0uIKNltoLXkb5SIkWTwLmZxIykgtrLZ2lkKI9KryggdZJUji6yRnP4nyXjf3xmgBQQAACLlS6wBHhx03EzJKwz1kHIBopaI072GhWOJmI2I3fK4wDDMdCoXi/Pnz169fNzMzk0qlGo2GoqiqqqrU1NSzZ8+6uLiYm5vjbpu1GTGqYHF4dFlpVmbmQ5nYqc5FCgKQb+0V2NLq3Pb96zdJBsW6yvk6Rd6N84dvVFh07NPfU5F9eueq04XqQd1i3MzZmuLswmrSwc1TymdBQHAFsKwkKe1ecw8nWbP2Y5z3Llu1et/Q7sE2Qqo8796Vi2cSNS4jR4+wJwhCVZKbfurAYa+2wc6UIvfU3rNFPP/3IoJshM8FFUxV1oH1v63Yn91u/KQAC3Vq8k0AAEIMR+bg7WTNqus0WIZAVQ+SNi86XYoE/WK8xJTm/p1LR0+l+YfE9m4mA/U+JgMCFk/qHxHhc27t+q372R2DLUSsotQLB49eoL2jY6JcWHU5pNH+JhEAAPKk9p07tz++7MDSLW5DWzcTsBR3Lx49f0sT0S3O16JO54Fh2DuFYZiMjIzbt2/b2dlFR0dbWFhcu3bN3d1dq9VeuXLl8uXLbdu2NTMzoyhTrfU3BqNdC4KU+oT5Ht1+fMl83ejvJ/kASBJP2zwgWWueKQghQZK1p1QjIEkQBIR8t8B2QwcVrv/z9OLvL8ikAm11aZWe5RcbYi0V23t2GTY0e8XuXYuSzsolAlhRVMUOGTmkt6ucDwHRvH174te1c7+qnLxoepRPz08/yl62df0Pt/aa83jKitIqliSoS0cHGYFKERKJOXzm3tH1V4+SdHW5irDt9v7QTi3c2c+XNOW3D247dbNQzSQcWp16iqwprxid1r7L5JXT3jMzqIasjq/vhFe7YePuFv+5deGd85YiEhWXlMpc20/++MMwq3r7lSFBkk9+CMjiukV2Hjsqb9XuLfMuH5CKuCpFKWkTPHTkkGgXXp0KYmNFFTVHJbkir85DxhcWbj66Yu5JMw5XW1ms94z5YMTgjhb4WYFhTRhN0wqFIigo6MMPPwwODr57925OTk5YWFh0dHRqaurJkydVKpVWqyVJEldXPGW0pyakOKFdPx6q2nkukST0SGgf0Leb3E7MgQDwbIPeG8B3EFAIIQAIrswprnMfkbtZTSlL8sy9wrt3dfcXEwAKrMJ6DLdy9Tly+GRybgXXKSYspkPbUF9zEQWAKGbwFLHd0aPnr2bl03atItvFdQ1rZskmIQAguO+cKfm/x2cxQANJrjRy0CQLJ98DJ07fKwQuQaGtO3WICvEQk/oChmF4Fp4d234Yyjpx8kopJyS6Y+foYA8RCwLw9A0WIQS0lHlMp15OwWpUq+af1ulsHSyohhpnw7P0GPb5XDe/PScuXyvUiltFD+jZPc7Xmv8sQ28EAcAL6THMwduCRAhBAADkiu1a959s5+J36NiljCK9T+uesR1jQ5wfj7aq80ImDd8IAmvCP4Ijdug26ptm/kd2Hrr0kBbH9I7t3jXaQUA8+RKGYU0RQRC+vr5+fn5SqbTmI0IIQigUCsPCwnx8fHQ6HQtPlvc8aKwRfc83uz/7VPObgdplDITw+SLnnxv+ESWiWiX7i/c82/V4y7/jTIQA0BckX/hp8YY8r95/TOzOJeGzPc8l/NI0DHbq1KlVq1b17du3f//+r/+/nl662tsAAPVULj5pCKg5XQhhrX/VzsM/N72GhISEzz//fPXq1S4uLgbPg7t8+fLTp09PmDAhKiqqjv+13k6kxgcffEBR1JIlS/j8N5nUFMMwk/C04EhISFizZk3nzp07d+5c0+qBqyj+zXh1FS/59PRH+sev9a8f7+W/Zl32vPS7EAIEH+cN1YQSTzP22sdrWC/KRz3m7GnzFPz3v16ZB9P3zpwIhmH174XT9OFHxMvgduOXQgDy5fat23eotHAljXEDGW8ZTwzDMAwzBI4qXg6SQhuPngM8jJ0PDMMwDGsccFTxUkas3sJ1axiGYVhjZOQV4jHsKdzig2EY1tjhqAIzPlw3g2EY9m7AUYUpMurK4BiGYRhmIBxVmCgcUmAYhmGNDo4qTBRuFMAwDMMaHRxVYBiGYRhWP3BUYYpwvwoMwzCsMcJRBWYqcBSFYRjW2OGoAjM+3IkEwzDs3YCjCswk4MACwzDsHYCjClMEodFWqMcwDMMwg+GownThwALDMAxrXHBUgWEYhmFY/cBRBWYqcN0MhmFYY4ejCsz4cD8SDMOwdwOOKkxRExwQ0QRPGcMw7N1DGe/QSFlaWFypN7ex5LGpioyLW+ILO/bs7GLGJd5+AaOrLspMq3AKcufWa7La0oxL5+L/TskhzZwDozq29rFkkYbHbXV+fUeIoZUZ1y6e+8OFjRIAACAASURBVOtqnopv4x4QHRXubikg6u9y3j29LYmO7NnBkfV0E6OtyE+7ePZi8v1inqVXUMvIUD9b1iuSME1IX12SdfXspds595HQyb9Fq8hAFx6JAx0Mw7C6MVpUQWsL9vw8I5nfacxH3R3lZFnq2Z9/v+kSGeMk5dZjKfgSVftn995WOWvNyvqMKujcE9NHfX38vt472J0s3vvzb8s/mLP8uwEBZP0d4tX06uKzK+dM/+2EztM3QMIc2LhsvXe/mT/M7OguqJf0NUnrR3ebZjtxT9enUYW++tGtIzPGffdXOcuruYMia/sStvvoGd+P7+rNrpdDNgxGW3H/8g8Tp2y/VmATGG5LnNy88o+2o2dO+zjW3NhZe3s0OtWt+5cziu4wiMYVRQAAhBAE0FJsH+4WK+SIDU7ncsbxrOK7CCF8VWsghGQCiyDH1tYSB8NS0NHanJK0aznnaVoHjHhVEchNf/hQee9iFqi4mkFSDfZof1FeEGJT3C7+7ws4IiNm44WMFFUgROvVjzKzC22VOj2DEHDqNP1OLEOxKAIChBiEHre1I4QAhI9rL577/ORvFiH0bAeEL94DnuwDEACa0d6/k/hIAhHNIAJCAFDN1xmEQK1EEEKPKwwghE8zVfsItc8o/8/53x950Ozbbd9397NmE/TRr9sNnju1XejRWGeqrn8HBj2PUFl2wtLVGxw/3rl1UjsW0ObdPDpl3Ly5CwPDFg+UGv6XiBBCtFajuLWpb7/xVzSiISzyyQ59Uc61xbPn35Z3X3NobriMLr57dsXcL3avWRMY8GN7+7pV0hitXwVCqooHBxd9uyWZHLP6r6/ibBl10c19yz778YcfZQ7z+nu9qxUWNKKrNOVaWsNniyHELaEAAKTRqSpUJTSjf5NUSquLqjUKM6EVwD2FAIAQVmsqy1WlGr3K4EQYxKi01VXqCjFPTkBjluXu3p5uzTwgBAAY+bmgpTUl1YVveK++JUaKKrRV6fcyHpVVlbJykpNypZFuIm1x2iOVk6ujmEPpKvPS7yvtHC2qivNLypSAI7Sys5MJCEVxfkFppYahzCxsrSwkXIoACDF6dVV5aWFxSbWGZvHNLCwszCQ8iiAgQLRWWVJYWFJeqdYitkAgk1uay0QsWnH3XsrDSqYapd9M9gzwdhBTBK1VVpaV5BeXaHSQL5ZbWFhIRBwCAJ2qqri4lGEJ+KC6sKRcw7BFMgtLCzM+m3yumQYhVFmsco3q1Kp3uLMFm4AAUG1GTwn6bfr55Nx2zq4G/B0YEFhUFmY8zPUc29afokgIeBJ77ygf7rqkpGztwEBO3XPwBFKXnFs7Z9K3e3ShH8Tyt+se38aI0aqyr184l8ce9fvUcBkAgDR3C+g0eEzu/sLSinJkZ1anUzDWix1CjCI/c+e1XMvBi76KswUAEFwL3za9hvx9ZeOuvRndpnny39GwAgCEkJnA2tnCl0W+wf3xrmAQXVh5v7gy582TokiWn30r3AEZAEASVGbh7bLq/DdMBwHApnieNiEcil8vGWvUIICl1fm378cbOyMvZqSooixxycLFR6+lqbgbMxOrf9g21T11ZbdZ13/fvqaTp7zg8rL3hx0cOLFn+t3k3HuP8qu1Pp2HD4mQJhw9nvjg/oO8KqlP+2Gfjh8UZgfUpXcuHNqx4/Cl9EdaRs9im7uGxA0e2ifM05qLSq4f2Lhux/mM0mqtkmY4eiv3qDFTprQ2S509c+6tu6pCcunkkTmLT3wTxtfeOrJh7dbjNwuKWZDLEVt4R/QYMrh7kB2/JP3q6t9WpDN2rqy8v9PzyzRAZOPdZdDwXu1DHKWs50obse+IKd9BABiEAABIry7IySpn8fmEgU0BBjySzOx8QgLB6ePxYebRMpbmUcrVGwUsz5ahzmyAkOEVhxWPko5czOw2c/WX41ouDF2XXJMvBPSaqsw76SpZm3a+bGVlmVKjByTbu8OHK7pRwKDnqZGewohWK4CuOtTNFjx5B2FzhGIzceHtpNR8nadrY2rMqSsEEINoBBhjZ8T4GEQziKmXd1AEAMPQxn6bNQkM0iNUb3cXvldrIACY+ruq9c4YUQVCSB44e+4si/LiDKsB4z7t4+dqVpLJ4QsFFAkBACSHpypMPpE9YObE71xkKOno0snfzUm73GvsjMnDm4lLko//OHfFupXNO7Tsp0mOX7lo5S3Yctzsr8Nc+EU39/+2/M/FNEsw7j1fxcElyzbAqKlzBkQ7SWBR7ukV3+75OyG9Re/my1YtXj4odL/o6y2rOtgJqYqs47/M+bUwcOz3i/q4iZmkC3tWbFj9k56/7IvuBMXWleVdSy10GDPh+6kh/Or0PcuXrl+8khJ8/mGcN/dptXGtF22oVxWXlBakn1s88w/QpmenMHsSoLo+qp4019TlogIocQgdO+2D2fN+GH1ukzmlLytS2kT1mTyxraROCf0jWQSENiFTF2y0sjIjQKEWPc0VorXqwpJyjZ2nJu3q9mNH4pOzabFr6659e8T4Wwo5jeWJCgGk+GIRX5Sbfb9a6y9kEwAx1ZUluVkZap1XuVINwLscVWAYhtUvI9VVUHy5hYWYx+ELpVaWcgFFldTaCRGqJFzGDB4SE+JI6tWCiHYuDkcVbXuP7BRIAmDJCm4dQO0oeFhWVZD297nzWpt+Ez7q39oDIeBgP+aTsuz/bT2ZkBhmKUopVUB3SwlfLBDKhObW7y/YOQCyWGwWBQVWEg7k8OS25jKORnH74LJTtNeSqaNbe4sQALLOfZR5KfP27jg/uFM4RGpgYd8iesjw7s1ELAidhn14P/GrRX/9dblLVDMX4QuKTvWDy99O/+r0jZyicv+vvnzflU8j8Pa7n4LH/QMSzp1PrxT5RkZEmeuunj2ZcuPmzbSC5jZCvuFtkZDiiW1eVOlIM0yZtqoo/cyib44VW7dqExSSduXEollnrg3/Zs7oOCteY2iqRwhAQmjt1is0YPamxUv9bfsFWbL1ZakXj526lM+WueqUKgAM77iHYRjW1BgjqnjamxIA9MIeTQgxEnMHKxEBAIAQAcjmcHzdnWtKRoKEbB6EAGkVxSUPMmRsiTVbd+/uXT0CkKA0LJmSSUjPf8j17dnSN3Hz0p/y09q3Dw9wd7a3tba3sTFnPzl0DVqvSbx6SigdwNeUpqY+ZBCE2io9S6LQ3vnrXnG4HaCszJ2aNXPjUzX/y8rR29xKlpBfXFCpcxH+8y0WIaTnOvcbPr1VXOrRAzuWTBjLWrFhVIwzqwFKWMSknPnjh/VJn24+PqG9AwD00MHdf586+fdZi1x2/dzR2sDBnq+oMYEAQq2m+l4ZMXflrjHhFACKB7Hbf/58+c41+1qEjo6UNYrqCgQAR2TTfuyEv5Jnbpw+6nyLMGeuvqxM7925C7peSQl5NbdKozgXDMMwozPifBWvgiQCEZ9buz8kjRj4/LOdoRm9jijOvHNw/aIEHmQAAAAiVamONGezWXqLsEnTZzjuOXrxRsKaX/bqBDIXF//O74/sHeUjrTWcFCGtohwVZT3YtOwnAdQDBCBgVOVFPDPbSq0KASBikWw+t6ZNAgEACAJAslynrdbrX1g3LrR2je7sBhAa+F6f2f07zF66u0/YZKsG6PGH0K1zB1QRffpHOAKAACDFFi6x/dpsn3lk118FHXva1/sBCZKUcGT2Ns3HDGxZcxsJ7T3C2/Q+vnfP3evZ2khZI+gBCCFACECW2D589sY1nY8eu5JcJvUJbRvplrr7f5eT2DJ+IzgJDMMw02GiUQVEgPmvgVkUm80TCuQO7hFxPQItKebxSyUkeCJ7V3d2ZV6Rzr7nuOk9lKWPsu9npyZsX/3b72slQd7OAXbPEiEInpWD1KzEpUOP3tYsfU1/QQghyRdbelnDkrwqpTq/uELNIDYJIQBaRblOpbGVi824z739M6rS3AePdGInR7mQQwEAAGLZ+QS6FV18pNXTdZ3DtKY2p669F2laIyKBnmFAzUBBSLK4Ij5EVTpdndJ5zSxSbJ6jraWQp9fr9bDmRkIMommgR1DbaEbVQQBovarwfk4J27rNgI/bAAAAU5X79+HkZMo82kXaaDqIYBiGmQJjNn5DSNN6nZ5hDOj7jxBgCSxtndzFHJKSeka279SpY8eOHduHeFkL2BSHTRRc3Tlv2uxdF7MIib1vi8jOA4f1jHJTlhUr1HTN0fR6tY4BBMX2i+kmZorFjoHtOnTs2LFjh7atfFzkBEXJuFwAob6kMOP69TuFVTTD0JrKuzev5ZbxAryaOUhYT0tOBABTmrT+h89nLD2cWqjU0wzNMNWFqTdv3Xd1deJRDXKRIfQMjFGkXr+WXqDX04jWa8rz7yQklkqc2npagPov5SHFEbgEetjokk9czKjS0wyiVeWP7mUmFjpbugZbc97CIesfAgAAbdWjM2u+m7xwX141jRhapyq9dzP+QjJqHt7DQWLYcBYMw7Amylh1FQhArkTOLitITPjLn9e2uQGPbsSV+wRHB59Mit+xxoLo7C5j61UFV49sPVNo9d5HEzq5Owj5244c2CvUlzjJuNqK9ItJ5S2CI23NuBAAmbW0Mj0+/qJLaAt3l7Yfxq79Yuvq9VSvUEseWZWfdvbE3ovVXrPmNPeHkCAVeekXD+/wqg5xguUZJ/ff0Du3jWkVaM6uNVoTIdLC0VMu239wy05r2K65A6Evz7q0Nz7bYfLELhJeg0zbQhC+sf17bJm1fcOfZJdAGY8pSv37wLmC8Lix3XwFbzKy9IUQQpDFdW7eJi70r12bVjsRnd2l3KK0+MMXUl3aj4gNsqnTYFbjzUKIEAAUR+rsYqtbtW/1Xqt2zmJlQeqZgyermsV+2qOFqO7jdzAMw5oyo7WAEJQ0ODbm6o4rh7YfkTVz8RFZeLk5itgkAIASWHo3cxE/7uIIKZ7Exc1LZva4NwSkeHIbDzdkyYGUpU/o++PLqU0HDm9cKZIIdYpyLc+8c+/BbXydzKWOH40qX7X1yK6tmVIRH1aUIfdeo4Z1sZfwIAAteg10XXJl8+9Cs18/i7QK+/jrMctWHtq84bY5l6+sqqSlXkMHD2/lwqq8g5DYysqRq089vSEJ0koFYeb90dC+bXwtAHhW3EAAEMup75TxpbzN8Se2P7hhzmjzS0qkXSfP/KCdG2VQyVTnghYBuUu7id+ULP3j4Jq1t8yEpKpC49BuyNCPu9kQoJ6KRsrK3U9jzX9S90JKbP3e/3ScYtWmg+tXiPhSrbpSGjRw8LCBnmJgwCGNMF8FBAABii8N7DXqg5wlh/eszBRZIm01Mm/16dDRbZwo8Mr+qhiGYdg/GCuqgJBkNY8d+5lD2+w85GYmkMvbTx8f5mHBJyAQe3SYO7Olt5SFEAKQFNr6jfpkGsvOuqbUYYkcI3pPclFbWhAAQKFHyx4T3MKy0zMKytWUQO7g4mpvaVbTs6FZ3PCvfGIycu6XVjFiSxtXd3cLEbtmlKdXxxnzLROy8lmOXAqSlHvUkG88W6dlZBYrkEBi7ezuYm8uJIC+EjEMS+wc3W1Cf9/c7AcqyszZzdXOQkzWnEKtswEIsazDxn7p2SkjPedRsYYtdXR0d3c2ZxtUJhnw7g4BIEiuR9sh3/q0SsvMLVYiMxtnLw8XCfsfeTUYAkDUZdJ8pdyRQqimPAYU19w7eupc76zU9IfFaoGVo6ubi6WIqq9Dvn01p0HyZB5Dpn/TOi0tN0/Bltu6uLva1USxjeMsMAzDTIURe2tCki/zDIr0DAIAIACcI8wfd1HkyF2jo568uUKCLbIMbGH59EWWYIvtvULtn73ZUiK5fXN5rTEOT/ZAQModPOQOHv/aAwiW2Cesvc+TLZCkJDZuLW3caify7P8gUmrjbu3gWXvPP4qbmmVDINfMzS/Uza/2ARuqdr9mOANBiG3cWjw7kfodF8lxC2v/9IeBsOafBFdk7d3C2vvxAZ+sulJPh3zbnqz3Atl8uUdghEfg4+14QCmGYZgBjBZVwJd8eloe/aNg+lc59fKCqy57XvpdCAGCJIstkkiUAs4/9rz2YRu0dH1hBuox+X8f5gVHNPSMjbhowguzjOMJDMMwA5joyFJTgADBN3ds27FztZkb1SDTYz7VeF71600TPGUMw7B3D44qXg4SPLlDdHsHY+fj3WfY/BwYhmGYqcFRxUsZ990Zv7tjGIZhjU5jWAKqScIv7hhmmlJSUk6dOpWZmalSqRjGdBekblw0Gs3KlSvT0tJUKhV++jVquK4CwzDstdSUdgihQ4cOVVRUREZGtmzZ0t3dncfj4crFN4EQIggiNTX12LFjsbGx4eHhHh4eQqHQ2PnCDIGjClMEIcQPKQwzTa6urs7OzgsXLjx79qyfn19UVFRsbKyvry+b/YLlBrHXRFFUv379+vXrl5CQ4OPjExkZ2a5duxYtWnA4eIW/RgZHFRiGYa+lZnYTDofTo0eP/fv3nz59+uHDh7du3Tp58mRcXFzv3r2dnJyMncdGqebCBgYGdu/efcWKFXl5ebdv3z5z5kz79u379u3r4u5s7AxidYCjCgzDMAAAYGjmUW7+34q/hVzJq79JEESzZs1u3bpVXFyck5OTm5t7+/btQ4cODR3yAelcCXCdRW0Q5t8vvFl+O19chl655iCEsFmzZhKJpKKi4tGjR/n5+YmJiadPn46Na+8f5Q5xJ8BGAkcVpgiPtMSwhqfX6m9cSbx0P5nD4r76mwRBZGVlabXamo8Iofz8/KKiIr2ODuns6dfa49X/vUkhILz9150L2beEPMmrn2kQwrKyMr1eX/ORYZji4uL4+PiSsuL86nCf1q7GHpmHvRYcVWDGh6MozBRQLNInyMs9KkjAEb36mwRBrFy5kqbpp1scHBzatm3bsUMnhfQB7hNVG4NQswB3h7BmFiJbBr1qyAyE8OzZs0ePHn360crKqm3btlHRreSuAiW3BOBHRGOAowoMwzAAACAo0tnNoY1PjIQne/U379y5U1JSolarAQAymaxv3769e/f29va2trI+dW9XQdWjBslvI4GQg5tdhFu4o8z91V9UKBQbN26sqasQCASdOnUaOnSor6+vzFz6oCr91sMruKqiUcBRhYlqamNAcEUFZgogAUmSJEny1V87ceJESkoKj8dr06bNyJEjg4ODrays8GiFl4EEJAj4n1c1MzPz8OHDLBYrODh40qRJwcHBDg4ObDZbx2iBAuInRGOBowpT1NRCCtAkTxlrpJKSktLS0qKjo/v27duyZUs7OzsWi1WzC9/GBqNpevXq1T4+PqNHj46KirKzs8MjdRspHFVgGIbVAZfLHTJkiLW1ta2tLZfLfdkyy1id0DQdFRU1ZcoUa2trgUBQU3mJL2ljhKMKDMOw11JT1Dk5OTk5OZEkieOJ+oIQYrFYvXr14nIfj77Bl7TxMmJUgRBTKxxlaB2DSJIkGmRaSYQYhgEE+dYWOGf0Oj0DSRZFGnIEw68AQggxDM3QDIMgJAiSJAmi/q4nQrROz1AU9VyaCCGEaIYBkDD4aAghY3ateHwKNEPXXDeCJEjird0dWKNGUVTNrE0AF371isfjAdzFqvEz2sQiiNGknj2wd198YaUKAZR9bH5AzJAT6WV0Q9xR+twrf65YeKzibaVP5x6eG+Bs/9Plyrd1hBdCiNFW3jmxdmKfuBZBLq7+LboN+3JT/L0yTX0dgMmOXxj1/vtn7z+XIqI1D66fXPDx2MXbbhp2KCPPUI6QXlOReGLjF4O7BQT4uvu36PT+lM2nEsvUeOEo7DnwCWD0m/bdUvti4qva2BktqqC1hYfXLDxyMbtaAwGAUvdWH4/o6ybnNcj7YdWB7ydvSmC9pYqa0hubJnyxMl2hJxo25mb0yoyjy0d/9HupV+/vFm1eP//zYPL2/HETfz2Urq+H5FHWmXWffTTz7kM+RT47MUSrC1JO/vHL1yvO3dayG2WDGq2tSj/5+6RPF+TYdfp20cq186fFiHMWfzZ18Z4krbHzhmEY1rgYsxhgGALUTJYGodQzZqInAA1U/QVpRkXAtzL4GZXc+mr2dvOwNvDBSYPPxLDXIG3Vow1btpa3++j3eWOlFAAABXo7Cr4asnf95sFdZ3u9wag3pMjds2TOtF+2aGXOLPLppLtIW11y88gfs+asvlZE2NrJYWOsuUSMsuL+gc2HC1qO2vzjRBsWAACEBnrzvhm7b9+GPp0X+EmNnUMMw7DGw0h1FQ+OxkbHfr719Oqfh7tZDd1y837mkXk+Ue8fu1dCI/Dw1LfRLd67lZLw40cx1hTPPnDApis5qqrC8ysmRnpayt0jvvrjbNnTSe2U+TcPLR0Y4y2TyUN7f7brcsbT90u6MvvPeZ+GeVpxWLKAuMHLDiZVa2iQf8zO0mXSkYqLWzsIYa/DhUqAkLby4bkN37T2EXDF5p1HfXsmpYQBACB9ftKZH6eO/3bpzhOrprb3MbdyCx/36570Mt1Lz0tfdXr1whTzjt8MjeQRBHjlpPevZkA/A211NZvUde3QSkQChABCkMsjbGwUuurbSpXBGQEAle+eNeHD2Tubz7x4duEAvkJTky1Gq0g5s2Tcl/MrgkYs3fBLFw+llv6PlEwSYhTlSgknMi7ShkI1F47L41paiVXVlRVvct0wDMOaHiPVVQg9vpr1hcP8Xx9JY3p07RrqJCXyEPOkFIWQ0KefGTPolijsvdkr+l3589cpg4aeb2eWmCbqOeEr5bXjq7+dllq5cMfkSLokZcuCmd+tuebU6b1ZA8wzTmydNPxG4tx5n/Zpaa5L+m382FXXeV2GfzPVlog/smLOiA73lx7/op37yj8W7vzmk8u8qV9MiPYVU5rK3LXTBn61rajNmLmrPNkn96wZOfjmtEU/j4myA5CAVbnn1v90njTz6vtVjPr23t+mJt3JnfvlmBhX3r9P69HNnUsulA+ePcCMf+wNa0LqWleBEBI7BM7akgwAAgABAAGgFVXKjHQRVxTE/49lDV6JgRZtRuybsC3ahZtzcPez9YEgy8wh9tvVXdq1Dnp4/cjVRhhSIIQAIMSurWYvP1UTxNVcdkVldXZmgUAUJH3Bj4xhGIa9lDGiCoSQxDW2Kz/5z61Cu1Z9+razl7Jzau2HAGRXVHaZdGjViBCoV/UJkGa/N/Vi3udH4z+3B6AiK4yt+PT4uSsZnzYrPr9/7ZmiqM+WzJvU1YICYGiXkHkzN2zZ4O9g0Vq7+XhS1YDZ88Z0CbPmkv2H9e+3/qjalg1ETl262WYtn5Ru1n7ogBhCr8o4/fuCgxXj1xyZ3ccDANClQ+SqeV+uXrCqtf9sSwIWFZbkS3zm/rKgt58MAGWnFr9M/2nnvhMePqM6W9Qe34EYZc6lX3/607rN+F7N5PwHr16cr/7VikIgQAghvaLw7sFVy/fl+g/832APDkLIoF5QCCFC3LpnT/ivzZDiOAZEOQKAaB2N6mHdn4bv+137ikAIAUCI0SvyU05s/GV/il3vmSM8JQgh3H0MwzDsdRmjBQRCCCGt1elppNfrdP8uTBCiKZ/oECcAAIAEZIn4NuZefWLtAQIAcfiEuQ1ESKcrzctOvqmz8YpuGyGmNRqNRsN2iYhsKdKmJGVlMmYe5lKwf/WGjbtOJGU+LFdwwgcPjGvlKWZTEGhogBCj0wBA6zS3Di3TuLfo1MpJo9FoNBq+2CIsNAg8On/qbiVCDDBz9W/VtX0zMwAAAPyQsDA/F/3duxmPSp/LMa1M37Lgf1flXccMipQL2W9YCr1hMYYAqi7OOrlp0YqTD2LHfzGlqzMEhpb6L+ni8Y/N70KpixBCjKIo4+jmJQv2pIR9/NknfbwpAN6Nk8MwDGsYptlpHwE7qVzCr3mcI4QICCQcFqj1Ng4B0GpUVRXK6pxH57cuvi+CDAAAENrCu9klaqvSCo3r0OkTSmfOX7v0iz3zqtguMW3eGzC8X+dwB7mArBVKMbQy955Kk1eyfemC46QeAUgw2qLMlAdK5fmcgoF+UCbhCx1kXAgAABACUmBG8ITZlRWFKhUA/Cf51SXuWLI8UTZ6Vku+rjw3uxw8LGEYujw/N7sA2VtIqYaa+QAhBBBdXZxzZPX336+62Xb6r9+NiOITNdfMdBm/MgAhxOgVRZmH1s7/efNt/1Hz/vdROwkJDI/GMAzDmiTTjCrA48DhlZsgQVAsUFGYdvmUMpH1dCvkWLo62copRufW4dMd7YfcvHR897YDl27fWDD54IXM5b9N6ukoeS4VNhdU5SWdOVr0LA0A3Nw8PeRcAICeQWp9TS14zWRdesQwHIpiE7WreUpS7+nF5df/N7zvXAYBCIBOqaiqXPZxh/VxE66unOYgYoG3DyEEGH3pg7sn//h27tbMmE/nzf6wDZ80gTLbxCGEGF3Z/eTjWxf+sv5uy49mfze2k4QEAF83DMOwOjJuVGH4fIoIALZAJLNyCmrn+cGXs7o0E7MgAIBRV5WVK/U8saj63t/7rxa4tW3jFzs0pMMHoCp92Wf9FsWfzB0cZy8hAAAI0QgAkuR7h/n5qjtt3PGNl5hDQMTQepWivFyFJGZSZXpuZWnp3bv3ClStnURswOiKc9PLyvT+ng4OYs7jTpEIISSJGjPZu/9ofc0cXgSLnbU3cvivI3/aNizc3ZL7Hyv1/ZuBE+ww+rLMhCX/m73xGnf0D8vG9m0hqnMSTRBiGG1Z5t9rfvxhayIa8PVvHw8MlRC4hgLDMMwQRowqSBZbr6jMLywstTKzrPP/RgAKbTwDgiTHd+zZuMNmRJyjmE1rSm6e2nU6h9Wu96BmJbd3rV0vLaNH9ox2NmPpq6pUOsLKzlnIoyCALA6oqsx6mF/mKOd7x31s+efK1RtjxvRoLuOSiqKsy2cOxReaDR091o0gYXVhVubJo+eCOwU5kMoHxw+eywFeg8KD7URPRloAACDP1snDzqlW9oTXCYpl2ywo0KfBpjtA2ur84yt/XHaok81RWAAAIABJREFUdPD3P/QMMS/JzioGAEKCzeXJLazqHts0CQgBTUXeyU0Llx3O7/b1d90jLEtzs0prrhtPKJPLeRQOMDAMw16X0aIKgjRzD3Q8sG/fb/PokXPGuEGCRZGPXxEhQVHPOj9ASFAUVWvJDkgQNZ8FzVrEDRuYu2T9+pmJJ9wd5dWFGVmFCs/YMdZSMxffvsP73/1158JvEo672krUmXfuKR2GTBvgaSGAgPBpFVi54ve5MxSfzh/X0rf/xNHJ89d9M+Wyt5dMWPwgPaMCNO8xztWaAmkIioTgfsGZFf87Y2VFluc+KBPEDpvYLbIZ++nb7AtrFRhAUiRgGrRAKr9/c+ehgwrG4a8t/7u+7fFGgqTcAyMnzphTP+ENJFgU+e8ThhCS5It21FGDDwNBANFlOde3Hz5TrBRd/fOnpB1PhjezuF5hHT4eNynAEkcVGIZhr8toUQWkuNF9J+eV/3Hgcl5ZqZZr7hYdQZoLWBAAjty9fVuNJZesmUGALbZqERYtsRPVFDkER+LoExlu7iqAAAhso9+fYNsscMf2vQn37gtsg0cM692ldaClmAJA3OmTb81cdu88fObu3TznFp1n9RsU7WPFpiAAIGLob5Nyvz10615ZGUPKzdqNmmvrsXfT7n1JWRU2rtFTpvaKi2gmIugCxNAC2+b935vQXLN79+ki27BxEwZ0Cvd+3E3iZcUNQkho3y421lVGGTqgs84QAgyNnFzbtXXnIubZAhYkxRLyOBxW/WSEZ+nVLkok45DPJQchX2LpHdRKaCsiQH2MMW0oCAGEEA2Ru08LnTW7dlBDsrlCHpdNwQb7BTEMw94BxmsBgYTQIWTUNyGjAAAAAdB3aQsIAEAIyQIGblj15AlPsCQu4bP+F/70gc+Wunca/XOnpyUAKXUP7TkjtOezlJ/OpsUyC+85KrznqH/tARwL/0mLdkx6soXiSv07Dv+x4/DaiTyeGZPRQ5Y4MK57eOcPn+35z558tu3+3NIeGvrubVAxBm2a9/j5YI8X7aq3KgDLloP/aPnP5CBBWXuEjZgWZvBcosZbqAlCguUQ2Hf++r4v2otXT8QwDKsb49VVvOTTy1aue26Wpxfsf/FX/3PPS78LIUCPDwRQTSjxNGMvSf0Fib5RWVmnMu2VB6rnIvsVF7g+D/P2/ddleccrKRBCSk1lcdUjFsk2dl6Mj0F0pbKkXgJJnV5TVPXgzdN5B0BIVKnLEXrzmXeRjlaXKPLY5JvME/zGmQCPpzc0+qOhUl3GIBNdVNlkR5YaHwKQIzb3DQyytbVuqPkmMKyBQAA5LJ5GV/2wNNW44aBGraksr5JbygjCaEso10CIkQut4JvNDchl8SiCyi5Kqq9cGQBCoNPqC/KKbOytSKKB105+PicA6Bm9hCcjCcPLGgggi2ATgHhYeu/tLAr5utRKdUV5lUgi5AuMPJk/g2g+i2/cq/EyOKp4OUhKHP1HjPU3dj4wrJ4hhCiS5WbhYymyNfpb199/XTt/5ObH49ubW8iNmxmEEJviciiD57cHCCE3Cx97M9d6z1tds5FxL3Pf7rPDRgf5+/savR2PgKSYa2bYVUUIkQRpKbYLd401ctyJwM3rt67Fn2kVHdnSO4SkjDysjmb0bJYxa25eBkcVL2XEx5vx+hkYE+7F0JAogmVn5mLsXACNRrP8zIYT+8737zYkzDuGxWqI+eJe7Q3vQye5l9H/eCsqKo5eO3/5dIK3c0DnVr35fP5//5+37E2uKgFJudBKLrSqx/wYoLpaeeDOydOHLjrI3bq1cZHLZcbNj8kycpUjhmENz3TC1qtXr+7avbOwqGD58mUVFRXGzg4Ab3ZxTOHC6nS6u3fvbtm6ubSs9MTJ49evXzdufmoYfGVM4ZLWuHHj+uEjhzMy0vcf2J+WlsowJtqtwehwVIFhmHHodLp169YVFhYCAE6ePBkfH2/sHDV6CCGFQhEfH5+SksIwTG5u7okTJ6qqqoydr0avurr6+PHjt27dAgDcuHHj3LlzpaWl//m/miYcVZi0JtIoYCLvIlgDO3v27KlTpzQaDQBAr9fPnz9fqVQaO1ONG8Mw2dnZ+/fvVygUAIDKyspLly4lJSU1kSfJ23Pjxo3Tp0/XRBI0TW/ZsiUxMRFXV7wQjipMUU0pix8E2DusrKxs/fr1xcXFT7dcuXJl7969RszSO0CtVp87d+7atWs1H3U6XXJy8smTJ1UqlXEz1qiVlJScPHkyOTn56ZakpKRjx46VlJQYMVcmC0cVGIYZwYULF65cufK0cqImkl60aFFWVpZR89WIMQyTl5e3du3a2lU+RUVFx48fv337thEz1qjRNH39+vWzZ8/W7veDEDp48GBiYmJNTRtWG44qTBRuFMDeYaWlpceOHSsoKGCxWMHBwY6Ojj4+PiRJJiYm7ty5E1csG0apVO7du/f27dt8Pt/f318qlQYHB/P5/KSkpIMHD+LqCsNUVFRcvnz5zp07PB7P29vbz8/P09NTKBRmZGScPXu2rKzM2Bk0OXhkqSlqmiEFbvFpIhiGuXXr1vXr1yMiInr27CkWi1etWjVlypS0tLTNmzfv2bOnf//+zs7Oxs5mI8MwzP379zds2BAWFtavXz8LC4t58+aNGjVKp9Pt2bPn0qVL8fHxcXFxxs5mI0PTdEZGxq1bt3x8fHr06CGRSOLj45s3b87hcPbu3Xv16tWOHTvKZDI2G89O+wyOKkwXLmWxdxLDMBUVFUOGDAkICAgODk5KSmKxWCEhIW3atAkODr548WJhYaGjo6PRp9psXGqiin79+sXExAQEBOTk5HA4HHd397CwsODg4OvXr5eVlel0OlOYEaQRYRiGpunOnTt7eXn5+/unp6dfu3bNy8srKiqqRYsWV69eJQhCr9ezWKym+Sr4QjiqwDCsQREEERwcHBMTI5FICIKgaRoAoNfrxWJxbGyst7c3LvnqqmbaSi8vr4CAACsrKwBATk4OQgghJBKJIiIivLy88PgaA5Ak6enp6enpaWZmBgCouaQ0TfP5/NDQUFdXV5IkcUXFP+CowqThZbixdw+E0MHB4WV7bW1tGzIz7wyCIBwdHV/4uCAIwsLCAj2BHymvjyAImUwGXlJzbGFh0eA5agRwVGGK8J899g77z4HT+P43zAuv28tWgcbqBEL4jzsWX8+XwVGF6cL9KrB32MseyvhhbYDXvGj42mINAPeHwjAMwzCsfuCoAjMVuG4GwzCssTNeVIHo4nuJf12+XapQM4h5eH5l1/enXsgp1zMNUbRU5Scd/zO+vpfcqdz3db8OEYG1RH21LkFV9xMycJk+xOgq0nf+PK1/x6CI6E6T5m1IelShf9OiGgGgL0k/v+SLEW0DA4Nadpm8YHtKUTX9fLKMturOuSOzvvzjakH1mx3OuJCqKG3/pjlj1p+gG+Q+xDAMe8cYLarQa/O2z/9iw/7b5SoEACTZPKlExCIapt2vYtukvj8c0NTzsfTZF47cKuQ4hLaKjGrdqlXrVhGRYe52QoMvcR3f3ZEi7/rPYwdN/+M0N2DgoL4x6oR1kyfMPZjyRjPVI8TkXFk3ZPDIP+/wekyY+HH/wIwdX3Qf9OWVQu3T7zDa6vs3T63/bd6pG/fUdGMtjBFCGkXxhf1bfly4K+0+HoOHYRhmCOP11kSMqlqlFT9+6bUI6rPIUycSixokrGCUFQUaKajfQ6Gc1L/VnNafTp/W2Uf0eLw9ZPMEbIBAPR/qhYdHyac2/npBPXHRhjFtPbgUKm0fvXbBj4sX7g5cMsbZ0AHVjL700LJl+fYfrPp5TDNLMaS1HVu5jhnyzY+7P9w/NgAgRq0ounpo28YNGw4mFNsFRBp2pkbvRIYYXfmD2we3b1y77s/UCokv7tOGYRhmECNFFYWXP5ry/fGjCRpORvzh5F/2TG1ednTqmvTJX3/W0k5clLBm5pLMz+YMvrxt0dbddyjP1uOmf9rWlXPn2NqlW07kMHZ9hn0ypFuIqKYSQF2Sdu30uk3b/k4vsw/u9cGQvlH+djVlOlP96MyuzZsPnE7J1bu2jOwz6IMuoS68qqvdhkxPuqIoIT5u6dtndfzcSDOOTlmcdHbf8o2b7hRwQjoMHPJ+32BnCYHoksybhw6e0dsF+VFJG7YeTtfZt+8/9L2uUfbiF1y3R3evFAPrAFcrC7kZj6y9p86v7waUsggxaQmnoW9s/zYBcgkBABC4eUVHe25auvvY3REfNTdwWiFGmZZSaNW2b2dPWwshm0SAb+0XGiJjb7t5TwsCmPJH59dP/3zVdbtWAyaHl1++rGucXSP0lUU35w8bt6eA03nQZ753zt2m8ToUGIZhhjBSCwghjI4K9Xe0cPYI69LD21rK1lbkJd3NqFDrEQDaqvzU0zsnDuyz4AIT0KGF6s6aCaO++OWnKaNmHGQ5+dhWJc6d+cXnfyYBAIDq/pHVs4e+P+nwPVYz/2al55cNHzFt7elUJQAAPdrx7ceT5m5Vyfx7xgVXXl8z9oOui89kVdGCLl3a+1uzZPZt+rznL2MDvarsyOJPeg6bcYPx7RDhl7Z/3qhRMw6nliKAdGpFcca1I6t/nD1nUw7L04p6sGr62M9+2Xmz6N+lDp175xajtEg58GuP5s6WMo+uExf+lVvTyaCB3nz1OrVMIOSzHv+mkCD+z959h0dR9A8A/86W67kkl7tcek8gtNB7D1WKKNJFQBFQRH0t/Oyvvgr2gg2woCCIINIEBOkQIAkdEtLrpSeXXK6X3Z3fH5dAQhNDCEHn8/j4mL3d2dnZcfe7M7OzjESkt9XszyttYooYMx693v9145JHungwdUch2M0VLhf2kLGABYESefb8vy+2rFsyOy7Am/n78VOrgAUsCJqhT3y75/fnHuzqIyMTOxIEQTTR3WirwBir2k2braw8eigzYNyTix4I18h0GPNC3YMuApxbnNVp/raEZ4eyYNcNDX1k1ttrdzz83Ykv4sSMPvOE+sX/O/Pb0fyp4bak3avWJWnHvvK/N2a3USKu6PDH73yw/odfIn2f7G5c/fOhovvf/njefb19xfDU4od/fOFbrC+3y7s+Nm+R64+Pa7ymvvzCQDGLK89v/PDzE/GLf/l8YW+WwrqJQ5ctWfrBxxu6ffEYTaGKorzTNer/LP1pzsBQSqjYvfKDJevWbWsbFjm1t0ejoyrPOcIZqo4dOz9k8sI37zef3bHqk4f27P3q13XjOno1LaxwT4R36+v7hnYsPZGZV24MiFAihOwWc+HFcy4nz1mdf73xDSBEyxQKd24AAAmWYxu/2FtBLxrfGzBIvP36z5gvUCzYSm9/SMzdeQcEYwyMUttt4YtdaBFVY6FJ7wdBEEST3Y22CoQQRVOAACOMMSViENXoSo4AO3HHB+7rqVDIpFK5lybcM9LXd9a03p4eUolU7SuPboM5Z62jqjgt+XiupuOomVPjfGUSiVQRNWrag4M8K0+cSsswIR7AdeH4hXNphSYnlso7LFz5+aLpfTUyiVhU33wgEYHTcf7XD7LC+j82a6hCJhVLZBExcQ/d19N2ZsvuDBvGAieO6Nxv6pThbeQyiVQRMmb8sF4hRRfOnCmqbnxQnLjNoiff/m7Tzg0rn39y9lOLl+1O2HCf9OSLn26ocTSlB+TvdoIgiu49fs4D5sTnn33z2637ju7fvf675TuPVwQ4OcFo/rsZuJwPuJwNhAC485s+XPTh8bhnvp4/wBsBUBTFiMQi5l6+ESOEEEVRjFhybx8HQRBEa9Aq59bEgANVvt4yd8iDBZ4FFOSpAIQBABACCiFAdpuxuqpKZBBKk//YkEMJAIAoS56h1GTOKdPjEU8++XDZi0uXPL5lmcYntPPw+EkPTh/WPUwmahTC8Lw144KOtfU8/cdvhawDABBn16VVlzr0+zJLR8ciL1+P2Fg/L8Du0Q5i7yCRpzqrpqbUYotVSeszjDGt6j5icg+oa2EAAPDu8uDE3t/8dKLQMkslltz5MkPeMSOW/Lr8syVLlszdqIzsOWryuOmzvUwf/YZ9PZtlD6dWLBjz2taujy1f8exoD4RaZAwqQRAEcS9plVEFYGBomqYa/I0FjNFVdzGMEIULzh9cdvHEladMjLEmsruIxkgxbMGnxx5ceGj3pp++27h/1UdbVi2f8vbqd2cN9JU3TEUQOK409fc3n/uzQepYCOoIiAcMNKJENIsRQsgd1GAA4AUsNGyuRwh4h9lkslBKHznLuhvREfL28WccJldTZz74Wz0CCGOgWN+Oo5auH/kOxoAQJZgStnxykRXN9fGp71pqWi4w56je8/Gjk5YeHLBo9fp3H/AEQM36YstdfweEIAiCaBZ3d25NDDd+QeLmd1QMwEpEcqV2wOSXdqVV6PXV1dXV1dX6qqrKitQTnz8+WuWszMvUOT3C75vz+oZjFwtTdi8eIju+eWN2mdk90tLdpEDRstBYdfcx72ZUVOmrq6ur9Xq9vrKiouL0/jUPxFAg6I3m1KJSGycAAMLYXl3pMNmiVWp/meRyHjEAl7FxwrAekz7el19T9x4EdtnzCnMgIshHxLTIeAFsqym+lFVg5RHDsAxNu8w1upTTCrlPXJgHAtzksR2cpXDT2/PmfX5q+rtHd7/7gCcAACLtFARBEMS17mJUQdGM4LAbzWZrU57mMdDKoIgO7YXSM79vOaSrrjWbzUZDecqx7T//tv2crir/6E8vPjJn2dbjeXqj2WK2SkKjIoNknkqKpgAomgaHXW802zAj7jzqCZS3cf0f6VW1RovZUlOWl3xg86pNuzL1PKYpSl+ad/Tw4dRCg9FUW607cuhwttmvZ4/OISp0JfDBwMQMnNI9smzPumOp2dUmi8lYnXNy9y9/5k6fMNzv779T0LRn98Kk1Q9PenRTYm6tyWI2lGWePbAr0dJ51LODgqHJ4yCx07h/5WuLfzj/wBs/fTQztLampsZgMBhqDOa/P1qEIAiC+Ke7Wz0gGFEefqFSXdLO9Ws8H5o/XtWENGjvuJ73PXA2fdW6915P69M5Um0pS0tOTuaiH/Dt2Dd+yOiRRxLWfv9+WerA9qGepozk/UnGMfMnxGjlFGKD2viW7Px+5Qp2yryxUb3nPDbw3HdLns9MHtDRV16afSbhXJqo8yMDRyPACElxTVrS+veXJnaOEVWlJZ4sChnx+JhBXRUIcP1QRgQY0yFTFi4499yS795fWjC0t9yWfnxPUmXorP9OHyJjWmQEAkLBcWOmxu5fufS1/PiBSkd+ckKyMWr0G/Pc76o0MQOOwgPffL6nWhRoOPfrq2m/AbhfBkHKzo+8+XjvOz5ahCAIgrin3LVxFRSrGDbt2dyqFTt37okdMXiIwjc2OlQpZgCAUWjbt4tUshTGGAAxUs+IqLYqlcQ9zgAxUnVgTDT4ihEWadtMef6/Md12rlm/dfPJGplf24HT3npo7JAIrZwBv0df/yJw408bdh/6eT8f2qXHo/9bPGFgW4WIBozjn/h6Ru7r29ZuiBs7MrZN6MNvfh62ff1PW3f8UIq0oV0ffPqj8cN6BSqpymKB9wrtPG3izAjDxi1/Voojxyx6bdKIXn5KttFtGgEAKDs8+N6qqM0/ff/LjtWVkuD7Z749a0p8iCfThFmwmgTJ/Do9vexL/x++3PTbWqtPzIAHnp85aViESoKg6UMqjLoMS0RUtMGedubklQNBIq12AoUxRggBYAyIYj1U2rAIuYKl7tVRnBhjQLRE7hcSFqVtlvGtBEEQ/z74LhEwFq73lyBc+Y86V/157YKrk65ffMNfrvx0/RQwxoKABWfZxQPPz5sz/eNtNpfQ6JfrbHDdH66b9F+7dOnS7Nmzv/32W47jbn2r6+zshnm91QRveACNzsSVnTQ+rbcqLS1t6NChZ86c+VvHe5Xly5dPmjTp6NGjTdz+Zkf798ycOXPOnDkWi6U5EvvnO3HixNChQ3Nzc3mev9t5+ec4d+5cp06d9uzZc7cz8s8hCEJycvKCBQu2bdvmdDrvdnZar7vWVoFu8NflIQVXjS24ZqjBjcce/J1fbrguajDAsW5Q6eWM3TD1v5GVm3Jvhv/maIjr7Oz23q24We4b/NZwrXuylcKNvIhCEARx21rnm6WtBGJlnqGRkYoA75a/3zQtsLhHkRs6QRDEPwOJKm6C8grpMOfJaEyLRC0+jzPP83q9vrCwkKbpv14bAABYllWr1SJRU79P2kxcLldZWVlxcfGtxwoFBQV2u/0294sQstvtBQUFKtUNx/6yLBseHk7TdJPjGEEQKisrDQbDjVJACBmNRh8fn6al32Iwz7ssZt7huOsNTILJ6EEhV02NXS5D6C6/645oRqRUUkzTL4yOmhqB45oxT02DTUYvhgGzyV5VedefTRCFWIUHLRY3bXMsCLzd7jKbb7Px9bZhwVgrFXhkMdurqrjbqCTNlB0s9lFR9N3OxjVaXYZaEYQoRqRQ3IWbNMMwCoUiMTGxuLiYom71OhsYGDh37tyb3FNbhsVi+fPPP3/++WeWvdVXah0Oh5eXl1wuv51Gi4CAAJqmN27c6O5LvnYFnudDQ0NfeeUVhfvLJk3C8/yhQ4f279/Pcdx1c8swjE6n69Wr162fuLuCczjKEhON2ZkUzdzdtiJeXzVcrao9fICTy6+e6a4FYcCY50Uqn5BRo8WeXk1OpyThiLkgnxE18Q7aLBBCLpPp/tBgNuVifnUVbupEfM2C51ysh0fAgEEeYeFNS0FwuQzZmaVHDtMse3fjTld1dWfgpelphUYDdVdzIvC8wPNtZj4iuo26eoeQqKLVwRh7e3uPGzfu3LlztbW1t37FVyqVcrn8r9e7kzDGUqm0b9++vr6+t97KwnGcQqEICgpq8u0NY9yvXz+McX5+Pk3T140qBEEIDQ299VjnuiiKioqKqqystFgsN8pteHj4lClT7nqj0c1hnrcU6az5+XK1mmJbZqK26/OVSkf16+fiXNjS1A/WNAtBcNTW2mtqBJfrdpKxlBTXnD/v264dvnuf8MUAHoi6P34ox7kEo/EutkZRFGUuKbFKJJpuPZqcCBYER3V1bUa6V1AQfVf/t9JIxH4dOgqCwFutLfVy33UgAJfRWFtW3hpaxa5FoorWSKVSjRo1atSoUX9rK/etFNe973nXiESi2NjY2NjYJmx7O+NIvL29x48f3+TNbxFN0926devWrdtfrtn6x8RQLKuKigqI68xIpX+99j+dwHE1+XnleXm3mQ5CSBEQEBE//C7edVoPiqZLzpzRlxTfZjqIpuW+2rABg0S30dD4T2IqKbHt23e3c3F9JKpodZocEyCE7vqd7DYDmts59tvZ753QCrN0LSxggecxz9/tjNx9As9hXmieSEAQMN8aHyJbngCABb7pk/s2ggWB1NU6As+32rCVRBX/KPfEnYwgWqtWepkmiHtIqx5QRhAEQRDEPYREFQRBEARBNA8SVRAEQRAE0TxIVEEQBEEQRPMgUQVBEARBEM2DRBUEQRAEQTQPElUQBEEQBNE8SFRBEARBEETzIFEFQRAEQRDNg0QVBEEQBEE0DxJVEARBEATRPEhUQRAEQRBE8yBRBUEQBEEQzYNEFQRBEARBNA8SVRAEcTMMCyk73omfu/y8U8wAAIDVXLTm65e+PFUBFLr5tpbKjO+/feeBBY/Fz308fu7cATMXv7/zXKmFa7QSBeWXts988u3fCy103SLrgR+enbs5A0T0tWleD6KcxX+uP3rkbLmdQQgxhrRdT7/27MCZM+d8t0tnsGHc6j5xLnC2iyf3LPnok52XqjgMCIGp5PyXv6xblZjlvJXtMZebuGnWo3P7Pzzjl3zEXuc84KriC998/PLH21OMQANgp6V8174tX+86UGrjrl37umhs+vOHPw9l6ev+thf/8M5rI+bOn/LGuwkVwPzFyb8LKAZyj//4zKufbk+rsmN3/szb1i758FB6rYv/y80RdhRfOrBo7uMjnln8/u8JFfZr14Dq3CNL3/vku6OZ1S5AADQrnN/50RPrjuRbXLeaS95SeD5x7Y8pRjENALyrJmHLqsdmPNz/rS9WXShufYX6t5GogiCIm8AuF7S/b+F07w3zVyW5RDTCQvaBdSvP9nmglxbxwk1u1xhjqSp88rRF3yz5YP37761YODGiW2CIv1Qpohrc5THmsV+7EY92zHt+1T6ziKYoVn920zObYhdOiKac3K2EAxRX9fuaNR+s3Z9pciFG5MzZvnhlcYcRT/787Xv3lx7++M+Mcptw+wXRrDCixWHhEWGBzJ/JJ8odHLZVHU/OqzB7d44MYP86CKKsukMf/XDikVc+3vzB7N3z3z7mqAv4LqePMXiqQ7v07alL35mQV4MFvignNyXdoFS1UUmZWylVzDvTj235v3VbM80OAEC088Qva4/Le3//9uvP9VPtXLUqz878ZSItC/MchPV6cGREyc8HjmborYhhK5PWfXcsZHBcqIKl8E0LFlF8deHF7T/+GfjIy589Ntaj6Oy+09lco4qDsYBVEb3GdEJbDx8+UViNGdae+cc7W+Txvdr5yRkMfx29It6ad3bvq6+uOFhuA4qiXfqk3Rs3X7Q+uOTDt2LovN1/Hi51/FWs3tq1tmpBEEQrgzHQ6kf+89/Di97/ru9XD1r2zN9R+sYbr4RgrtEzL+YsBn2ursKKEAIAwIzMK9BPq/Xw9FAAb6tKulTWVtu5c3CwlEXQ+OorgGzwnMVTHn950W9dv+1e+dR3R+e/9WFXBvE8wOUrLOZt5trMojKH+0qPMUg9/P38/bmKrbt+P5pf7lRFuARMIa5QV9xhVIeBnSKCPWSaCZ0/2pFfZovxk8ugVTVYIOThEzKoY1zm1uNrD0eM8ipMLshv02dcrEoODTOKBUttla682uQOsLDAi71iw0PMFaXiqQv7RnrKReMfGfvmxnOL+/cVQeM2CEakaBsZ1y214NCBY9H9fY+VmSmNAAAgAElEQVQcPVCr6T2rS4gYOHylWMFlrckqKjfZXQghACywkqCA4AAv0aX1n76RVEB7BPEYAQBtNx3MU7Qb2SVQ66eIi/co3J1YUBUU49W67oAYI9ozfvyMk5+sP3Aq3FtTvnDNhTGzXo3zlFKNTz92GtLTCo1U3R2cYsUajU9tmfmQq9vrfcLbcx45ZfojJUUj+Ag11ejZG4OkU/xDE858tmdvYozL/9tfDne8f9qQYJUEAOMr1ZV2mU5n65x1UQkGRMsDwjso+FOHd3y5+yjbLtrO8RRF1xRfTC7K9hywcGR0CBb3zU3WVdQYhUDfW4hPWi8SVRAEcRMIIYwFjg0Y8tLCjMVfLt7i8nnqlbfHhPIcD1AXQAAAIMwZKwsTjpwsRch9GZb5xwyWeGkVIkCULm3PSX3twOFtItVyBMKVzdzpYx7JOr76zoKHnntu7IHIvqMWLejqKVydPm8ylB5IPFFrdQEAYAFrwvr28fSRMO07je7bvfOnv+QJGPMcjhz0+CIAwBgwX1NTaRaHi1rd0x8CjAHEQW27jehRuOL3L875Rg/o1G9M1ygpJeAGRw0gGMuLkpMv5NdaBYQA8w6vKJWvT2S3mR8hoBDFGFLXX/APHi5Ao6dqhBAGoD3UQf16dc3cvHXx99LogK4Lxg/3F3M8hoY7cJgqjp9OLqgy0xQCwJxCHT9I5etptwi9l70688sPttUFibQoSG65VFrFCRqHtcpR5fKWi1umsG6Zuy4JYnWnqeOzv9y9Zm62a9T856Z282MRBtywOiHBXpV0+EgOTbv72Fi5V+e+g9spmEChKL/KESux2mtMClYrQtdJH4nDZjw6WbdywzOfcO0HPvBIvzYqEcKN06c5w8HEE7VWd3cWBkYUMEDTLlLqqeq0eEGvqvSEz89goJw15dWoWuyLSzes2pEhjR7Qq//QYC/MC9CoDtxjSFRBEMTNIXfbQky3EWG/bDwSff/4cLnAY2h4b8JYQGJtVLfHI7rUP69hQBRCCAtAMTXpCekadb+YUD8xwg0f6S6nj3mXJDR+Qd8VU5KEN3q1YyiEGz5QYywgVh0Yu2hm28uLACGEKAqgrS/D6GsbXssQAFCMtXDfB7/pp00bHeghcj/7tZ4rNQLAAIhVdunYocfJfb+ZUFT3rioWC0KjTGKgtdGdZ0R1wrhuI4wQTVEIAYNNe39a/dn2HQfjXjS0kzsFrvHxIYwBKHFoWES3EMX2466h0+KjFFjgoNFqGMs10bMnR9U/aGMARFEUEnCPqQNEfOXlTgOeUtw/c4Tx3R/G7rJ4q1WzH36hn1bSesqznruuUlHtegTu+T0pvG98jEbJIOSuLpfXwgLlEfHwkwuuFAUCiqIEp3j2+KIV/3niS7Wib8/4yYM7K2jUuLYiBBhjXuLXNb7Dnp3lpskxoWoPKYLGq2HBIQla9Mjs+vYRDACIogChyK7tkF2fmA6AABDvsruyE3W8V/W0ob2Fw0d/Xltif/ih+0M9+NbWZfd3kHEVBEH8FYQAoOjC3vwCacW+o7vLOQbVPUzxDtP5fTs++uS0RcxQFMUwDMPQDEMzDMPQFE0hRNFUWc6O0rZMQHs/JcKNL++X00eIQfqj36wrisD85uQcFwaEOWPx+Qdm3y/p1qP9jMdP1CpENFWfuDt9mqYQotw5ubrF2FmTvnTZOtRz4Mz2YUqaQhi3rlsgQggBJZhSzp45edpIW1zHEi7WYhoQAkA0rtrw0fb1ezJqASiKommmvmAZlqbdR8yDYsjDC3duS/hD/X/9V5xH4qsfERECCpwleZkXzhYqrc7D2w8XuhiKonHF+f+9tUDStXvfFz48kleDEcXU7aDu3xSFEKIomqLwlb4q1lmzbPn24tGLdq786sN5Y35b/+7vebWtsZkeIQBel55cWQ6lB0/vzq218HWlDYAqL+x44bnDRimLUMO6SjM0TQvW1DPJr26rmrr8u+1vP6vFeZ/u3KfnhKurDUIIUYLhwpHDOVye/lhqSbnJgQFEdt2C5+d49+rlPWjYZh0lohFDN6ir9cWK3DmpLzhBECLbRU+fev/gDj1nT78vhjYfPpRWxjH39I35ns48QRAtg7Hoty16Zt+o1ZsTnnG9NO+LfS7MAnZZKo/u3fDKR1sKZWIWm1MOrRszcnTY6DFRo8dEjb6vxwufrL1YSYvZvOwEWyccFKMR840aIBqgEU5+/oGltm8OZXzc58h7n/9QaMAue2Gq5eVFa4SU5G3zh638cH3SxX2Dpk+Kcqc/YmT4U2++c6qUvk7vBrIaCtb88HlN2PjHR/b392AQguuEMnefPf9MwupDpf7/99H79wfqz+zYfrLQibHLUrl/65YVR45n2W0Udl46uPGROTPajLwvavSYqJEj/B5952BRdY0+N9foBADOZe//4Acd9hxIs1/zTgYWDKW52w4mFXWd9eNrI9vX7l62+qSeNZ47ahvc7VVzTsLsqPDECwUpqfsnz38kdPho91kLnrnws+S8WtfVD8sV5SlWL/Ro/2iWYfx82z8Q3qniUomrNYYVlKUm6bOVx7XTX9uxtM3Gt79Zn1XOAdC8PePMlnlPr8xUSGiK4cqPzIgfEVpXV8d0nDn/+W2nSvUZfScMGuxNiVVBA8M7ty235RiEa+6RNAhZK97+LqX7rHXLJjr3b1tzKsMkOFKPlc6Y9J7+3KWyr+Z/teRXm/XSlbo6anTU/Q/dvzuPveoUYYoVMYwUXLwAGEAii5R6hFAUplpjsd460gNCEMTNYd6Q9cJLH6oXbno6UoE1ryxOfv7JpasPvvgIpS8/WR747P9Nu3Ta7kKKTvGz946df2U73sU5nMAbSnNtbbFPhFyKQECAsMC7XALFMjRV38rgqPzsk7cvDn179xAvsE54b9bpGUs/6/vum3FjBoCA7WYTyEXt6SpVu6dPbLv/SnwgcJzDwXECajCeDlEUV5X6zberc2WjF04eHKIQzBaXVMrSVCvq/gAALPBVxZk7Tp3z6tD3Pz0iFNUQpys/knQgNnBCoKuG10bEt1VGSmUCEnUcPmP92Nn1g1UABE5w4ovb3p5xoduGxycGKa3nE/bbeg8PpFwOm5MSsYw7zMLYYdafPnfiklX86EMDIrT20WP13x/dsfXYwzOn9JdQAjYZ2surz1rV0rDhW9eOgyvpC9hhc3HCVS9MyD385BydlFOsjVLU6ovSTHq/Tp50qypTAADgjbpVq9c7u018sFNUrGbhkvMvv7p6bddnF/VQFK87Jvm/zxZtW2PjBRetHfJr8n1XWriw4DLoEo8Ul6bnpXaOCELV2fqyWi+5WgIul0tAFMPQCAAwBmf1ts1rErwGLorvHRcleWlyzrwdv3Tyf3b88L7taIFzmK0eHr3x2Wxq1oltuxrEsliw2xwunrpczoAxLwpu3yG6ujIjObXjiDD7uQuJNVxUtwANg7GrNXXX/U2krYIgiJtAIpvujY/fz+u29KvHQrDZiWnfKQsWjCjZtmxHmjS0y0tzBml5uwsQAAi8y2k2X/nH5hAEAJepvNrHU6b1liH34ACXIXvT2n0XdbXu10Zp3rxj6/dbhfHLnu3KGp0OXjTw4QXPKk688sUfhU4K867a6rzEk4nqMRNCGYvDbLmSvtUu8PVDGxEtEbMihqJYe+quHXtO6M6l7Hr17VdnvPjiIy9vO1dtbWX9H+Cy6E+cPJ5k8XloVB8fCkk1YaP7xHmVp28+dAEFth09oEu0VuZ+EYDnXC6LteFRu1yONgP/b4Fn5rzXXprx3HMvlHV9a+FAD1vh+i9+O2HA7uGHiHdkX9j/1eGs/mNn9goSAS3v0Klnby197ujh1DIz5+LKci6msorI9mFBUt5pbpi+1cW7x6wgjJBEKhLRCABEXlGzR/bZ8fNnM195/alvfrV2HTGuix/dul5VQIyj4rufVx3FvR+b2DPSE7mc8pGPPfUQOvf91mMFEP7u8+OiKacTAAAh4J2my3XV5DBbMOPduduQYeqKha+9Ou3tZb9VCP1H9gkQKpMOJRxOLrBiCgBowZ5w+PetxX7TJw3uEShzOZiO4x5ZFFW7es2Ok8VGJ4d5rnr/ji3KidPbiK2N6qrZwnECVRdkIIZlZWIGMC/yjOkZN1iU9fuip/8zY8NJaZdOD3X1pTm+tVXXvwW1wvlhCIK405wmU97WzZTF4t+pEyuV3mxVLDhcLkSLRLQ7LMAAmHe5BMSwDC04TSlHDu8977fglV4K5/UmGsKY53iMKLquaQIElz3tVDJEdIrSeIkRAGCOd/FAi2jq8khPgXO6MMUyqKYo5bdtqw/FPvPryHAXh+FGXRlYcHECoiiaRoKL44QrE2lgoNjL7SI3xnMuQ35+RUFhm9lzpGrNTde9mdRvljt0uvYPTrz5ahgLPM8LgBi6vlkcCxzPY0QxNMNC5c8fHxc6thk9Isbr2oy7ow2ec/ICAgCalTAUxlz+wd3pne4bq6Z4AMCY5zmXACzDUnUtQpjneQEjmhKM5dnrjiRQ2vYP9e6lkdBwo1cOMHZxPKIphqIwAAi8k+MwBgyIYdm6qbduWq6IpkvPnqkuLQ0dP0HVrv1flt51cTZbxank8kMHIocMFcsVN1sVC06Ow4hmaQrV1yWecwlAMTSNEFV18ff3flT89+thSnvj13Drb4RY4J0cjwEommZpGjhHcX5eNYhDIqK8KQEAczwnYMTQ9OUiw7zLJQDDUJzNsG/1q+9rn/rzgQ4SCvD1RhC59yUIPCdQlztEeI7jBKFugAuF4Ibn4wpjSUn2wQNdXn5V4qP+q/JraaQHhCCIm0KUWFT3DqF7yBsAYkS3/FYhQjTb6DrDY3NZlSgimmLqrryIYUSNr0SIZkUU5gxlF9et+MUY/+wPA3yNVrtEJL7hK6KIYtm6lleaZW9xSs67CCGKuWpMHqLYy105N3/WQwgAaIaVXik1jJA1vVASNQQE99sICNFMw3JAAIhhKABsrErbtXkX9uo+okt3TxoLGOgbtVkjxNafOwQAFC2+1dlO7xJEiVjRVYuYq5dcd8P6ZgSakdBXitUlOIxmXhCJZCzGvLuusldvyrBiwC6Hbv1b753t+dT2MRGcwy5IJDeuq4iimYYFybDsP+lOTHpACIK4DYgSSaWenmJ0y62eFE2HxrXxU8hpuHHnMQbeYc2+cCpFpg4ynd+we/+x1Gwz37pvac0GA1BypUwu/RvvAmAMgf07xwC65qWFRiiwp51IPKN3mUX24wd3HsnU1bbKIZd3CM1KVSoJutmUsI0ghlGHaIMDNBLhBuOM6/CFp44leEW0g4wtf/y55+R547+lrl7HPylCIgiiZWGgaHFwbNzIEJGYE66eh+IG29C0d3QoYIwxxjdq6cUAiJGEthvysLzcBhhRtMpDRiN8w1blfxKMBVD0GBmHFbKbdk013AIAlJ1jkCDctEceg4CpsLihE30qTQLHC4JKLmXdUzz840sVALCgCIqbPIWWuPhbrKsMLfPzkWMA4cZ1FQAwRuqo/o8xxUYXJwDIlR4M/Dvq6vWQqIIgiCbDiKIVPmqFCmPhFi+idUPp/6LvGCGKEfsGR/kGR13eF8b8v+PuBwKwvqEa97wGt3L/cxel8NeP4BgjkW9IpDYkssGif0tQAQAihU90NHLHCLew+pWJUP5ioAOildrgPtrgBov41jZDSoshUQVBEE11ZYbiZn4qu15q9/Ikxn9Lw3nK71jKDZY17z5aMVJdWwQZV0EQBEEQRPMgUQVBEARBEM2DRBUEQRAEQTQPElUQBEEQBNE8SFRBEARBEETzIFEFQRAEQRDNg0QVBEEQBEE0DxJVEARBEATRPEhUQRAEQRBE8yBRBUEQBEEQzYNEFQRBEARBNA/yHRCC+NdCdoOhOjeXZtm7nZO7Dwu8Ra9vjg9vIM7lqsrKhH/RB8ZvCFGUpaoKY+H2k+Lsjpq8PEYkvv2k/gHstQaMW2kNI1EFQfwbIZqWaNT2qoraqkpApM0SAGMs8DL/AOr2Yix5QICzpqa6tKy58nWvEzCW+gcwcnmTU0AUxXooWR91rV6PSF0FAADMc/LgYNQqnwdQq413CIK4QzDGmOfter3DUIOFZniO/GdACLFyhdTPj2KYpn1xEmNsqyh31Bia5en8H4OVySQaX0YqbUKpYoyxILjMZlt5ucBzdyJ79yiaFXmEht5mEHwnkKiCIP513P/X/3s/1XxTt1M4pGBvpMklQ4r0nkN6QAjiX4dco2+CFA5B3A7SVkEQBEEQRPMgI18IgiAIgmgeJKogCIIgCKJ5kKiCIAiCIIjmQaIKgiAIgiCaB4kqCIIgCIJoHiSqIAiCIAiieZCogiAIgiCI5kGiCoIgCIIgmgeJKgiCIAiCaB4kqiAIgiAIonmQqIIgCIIgiOZBvi5GEERDGAsYX/7IlsA7ecyyDNUi39zCWBAEoGjqzuwM8y4nh1gx0/JPUxhjEHiBYmiEsYAFnuOBYdk7dKBX7VrAGANq3lLFGAMWeJ7nBQxAUTRN01RLHM5VmcAY19dVLHC8QNE0hdAd/0Qcxhjqd92MO2tYqgjRFE3T1D33vTv6zTffvNt5IAiitcCY1xfk6PR2mULG0qg6/cjy7eeDIsO9pOyd37lgKErLyLKoAr3vxOOO4DCe2fLFr5aIvsHKO5D8zWCBt1QXpiYVySK0EnBV5Z/d9svuAp+Ytirxnd61wDuqi3T5eXqxv4+kuRLFWOAdhrK8k4f37zl4KCHpbE6JAYsVXko5S7fcHRBjvraspKRUj8VSqYg25J3ddvicS6TUeCnuVFx6edcgmMp1+YU1rEwmFjHNtTPMO2uKs04ePbBn776T59JKzSDz8PCQiu58lNScSA8IQRBX8I7ynSs+XP9Hit7CAQi1eafWbDlQanS0yM5NO96Z9cnPedwdSJp3WvOPrl70/FvvHyu6A8n/BZe1+tTal19/N9kEAMDVlKT9sWnH4SJLC+zaXpV1YO2XX/942tBsSWKMuerCsz8teeWNj37ceyY952LS2k+XvPrqh7tTKu/EubsRwVmT+Pv6tWu251Q4MAjGorS9B46m6ao44c7vG5uP//LJd2sTdFWO5vvqN2/WnVzz/jtL3v8h4dyllKQ/lr372ofr/sjXW++tT4uTHhCCIOphwekwF+bkVEitDqcgYCp0+FPHBgoymRQAsMDzAqZpSuB5QcBAUTRFI1S3HABRNEWh+q4SjAUsCIK7N6W+WbruF4wFgRcEdwMyRVMUQgCY42y5588WtwOO4wWaogAwABYEXuAxIApRVF0i7gTcvTRYqN93gz1cfVC22spLRze99+7XaaUOJd2yj1IYYwCXw1qcfjGvaojA8zxIIntNXbntAUqmcHf5CBgjimp8KIAFQRDqOhcoqr6ZHWOM3cWPkbv868rb3SJfV6wIURRFufsjHOba4sL8Ynscz3E8oikaXT4BGABdKVUAwDzHYUS7syJgoGiKpiiAxm3wGDh77ak/1v2UUPvUilUzemiRYM9N2Lj0v8t//LFdXPu5EaIWKljOaS8vLi4uUVgdPC9QQX0nf9F9IisSiRiEBZ4XgKKQ+0gBUe5SdVdWoa7LhrpcIQFjXuAxri9v6spPdadIcBeW+xfMcfaS3JwSaxubUxAETCFA7hacy6eGpuvrKmCe54FiKOB5HmNAFFVf5xvj9af2bj1wSRj59PuPTegkB/ux1a/+b9O6g+1iNYM7KMX3THMFiSoIgqhnr754ISW/ylBdeOlkYrjXyA7S2qLTuda4uHY+cspWmZ2SawsLV1eUFNcYrFiiDAgL91dS+uKC0iqDTRCp/ILDQ/w9xDRg3mk1VZQWl1ZWW128SKryDwrWqpUSlkaAXVZDiU5Xpq+1OQRGIlP7BQYGaj2E6uQzpwpN2Fh+4URSUM9eUd4UOC2G4iJdmb7GydNyTx+/gCCtWimiwGWqLtSV2UVyFW3XlVTZeEqp9gsM9PNRyphrm76d+uMbvnhn5VZJxy5dzuTltHihYs5akJ+WXmq12nLPXEgVNKEaWW3apRJxm7hOasZQWqArNsoDtJSxrKTSxDEy/5AwrZIxVZWWV+jNHO2tDQ4N0iplIgTAOUxVZaW6sjKLHbNSD9+AkOAAHwlNYQy801xakF+ir7XaOYaVeWq0wcF+CspRVJiTU1Kl57POn7nEBoYHBMg4i6GirKykQm93YbHCxy8w0F/tKWIoBHbd2fN6pZ+GdVSUVZrtgtRbExoWrPGUN+7WwJzNXFRiUgycOLZbAMNQCNjIDt3vi1d/dOZYVsnciLAWKVanqTg/K72guKxCeuHUpUBFB63MnF1UqwkM9ld5OKt12UVmlUpuMdfoK412EPmGRUVo5aayQl1ZZa2NV2pCI6NDVBIGMBZc1pqKUl1Jea3VwYgVPtrgwACNh4RBgDmnRV9WUlRaabFziJYo1b5BQf5eIkfapZSskppKe/aZU+ladcdAbxnYzRUlxUUVFRYHFkmVfsFhQVpvMQ1YcJWnp2SCKk7F5RZUmGycyFMVEBTkr/YUNSxWjLHdhvza9p4TP7h/rJeIBpB3GTQiYt03+Xllpj5tleKWCdaaAYkqCIKoZ0hfvWrNgdQ8V+HPuov2kF7hPkdXPfi/7C3bVg6JVJWe+O7J509MnT8i61JKQXZppYuOHTZpUjevi4cPXszPL6ywqtoMnvv0ovFd/QRzRWrC7l+37D1XWO7keVaiie458sGJo3vF+EvBlHJ000+/7s8sq3VYOMyI1ZFxM554apQ245MPvzhXjGsMP7z7hvWjbS90EqrP7Nnw05bDGVV6ShBLvf1ie42ePm1sx0B5bdbptV/+eJ7W9FHbj53RGa0uuV/EwDETJ40bEKqWXd0WUXvhwP7iXjPf/c9M///u2pnb0mWKXZbKXRvXbjpZXmXatXyJdfKM+b29Dr8wf3XgZ5t/Hi2/sHftJ8sOBIy/z7c65XRKQZmZjx4wPr5jYE3uyZTUjOzSWkX0wHkLHh3dI0aKbLmJOzdu3puQlcM5GUYs1bYdPPuJ2YOi1cDZCs7tXv7Npowqi9VoR0isDIoeN2femDbUoT27dpxMtVCGbz522GfMG+chS9m/feuuI+cKKziBF0n9YnqNmDplTOcwjYQp2/LiU5tC+w/SunJT8quMNqzU9hszbe604SEq6ZXjAaDF8rgho7zlnZU0BQgBCA6Ho7aWQ4wMtVhLkKU4af+23w6csHB0YaWCFT/eT5n432+T7nv0qZkjulSc+m3Jx4ciO0dZbdX5GbqC8mrfftOeHh+dffTw6ZzM7Pwy8Go/6cW3Fw0Po3hbycUDG9dtPpxebHY6RGKFNqLPyAcfGNMv1pO261IO/bZxS0JqqdXmEjCrDIoeN33WmPawcd3abUmZ1UJFRTHvFaUdF6fWHd++duOek4UFvJNlJLKADiNmzZ8xIMJbcBiOfvTKs4b2H/RxbTmSV2uwYKUmrs+waTMndw33pBsekSxk0Pi5g+uat0DgbJWlJSZAwayYvmfaKQBIVEEQRB2MsU+X1//7sqe+uqztYwtmDe+gkRWzYrFC5m4PpsUyY1HG0bKJLzzzdpAnl7j541eXLc08P3nR009Oj1aWnNr8xSdrf17Xo3/cyKrkXV99ubrMd/i8117rHCSuSPlz2fJ1K00u72cebi8krli+oiL60ecXjWqrZqpLL21c/lNGRt7QNt2/XvnJx2PiTrT57w+fDtFKUNGJ3z94d6U0/j9vvRwfquBTE7Z9v37Vl9hj6TP3IUYsseqzc/TRM2e/uqy3mi/b8/1n679fIfbxnTW6ixfb+KA8uzzxSWdfrRdLXRCgpfunMSCRR8Dsp15QlJ/+5PScD76bE8lQumQkZ5CUQQCIZVlbWVFenin+sedmvyBP++OrpV98szxt9Px5U1+eE2DPOfT+kh/37e/YrW2o2pT05QefZnrGz3/52W7h3qaCpM+XLnnmf5Jd3z6ltpZsWPnBUZj8+bsPhigZfXHavk2b0y5kj+w3atKMWYYS8wnnfe98MbWNGBUkblr25c+WsFHP/O+hWC1Tcnrrl9+v/UYQPffYhHb+lBhQZWKSce78Re/9J0RuP7P9+9c+XSINi3p5TLsrh4QoVqHpMWxaj/pD5By1qadO7E80RY/o28bXXcJ3/hUMZfjoKXOrim3JRfKJTy0cFOdXfeIULZNSDI0AKJHUWpKTqIp8csGiRVGasuMrnnh92bNnhz7x3Pz/PhkuNud8OHfs0le7Th32tKIi/cePlqzPi1n81gcD26oc5amb13z77TKdzOt/Y0L1+7eu2ZEmfvz5jwdFyS363EO/767MzapuP/TZxS9paouO2IbNWzS5V1yQo2DPsg8+LwwYv/DVxV3DvAw5x5a+9sazlaI/VsxTI4oRscKp3fs7PPHEO0/HeNhSD2z65tuvv8Cq91+a6H95tG6DTibsqC0sLMjLOL1j7VZbROe+vaK9ZAwCfMdLtZmQqIIgiHqsTO3rq5RITB4+flofWeOR9AgLNmnEiMmT+3cJRJxN6NEnSHsI9xozfUQXCsCHj+vT7ue91eUGc/mppKOnXP7zHnl4fN9QAAgJnjUn//Tnu4+k5AwN96k0GhwysZhlJXIvH41f4Euf9hFYqVQikkv9PEQgkan9fVWs3Zx2YH0y1XbVvKl9IxUAoFJMMBZeWLZvV9KkEb0BCyAN69znwckTe/qJMYqY/ljxpfxPjp++OLhPRy9N48uayDswCCEAaMmRhA3RIoVC4y1jGVqp8fL2wJbGsY3Ai/1juo4aObirEsCrZ4+Y8OP6du379u/R1lfs8uG7xWzIchodLr4wcfv+CuncJ6YM79VOxlIQOHHx/GPdJi/f+tK8x3ztNfpaWahcJpKIPb1jfAOi2vd1ASNlRBYPby+FVGL1VGt8JNWXkk4cSZW2eXLWwyN7BANASNA8oy71s4OHU4b0itCKMCBNQO+HJoztEalmEQTMnqoTaJ8AAB7ISURBVH9k97YN+y8sHtPu8lN1484QzLusRanHNm74TafpuvihUaF3/KWWerRY7umj8pArZB4aX42nXFIDV8oVgWBmAnqNGju4T5yPlI1E8VHeqxK63f/YuN5KGYMg6P542Y/f5la5bPb0vT+fqenyfy/MGt4BA0Cg9iFHdelHnx9JON9f422prcU4SCYVSzxUvn7+YdHdeaBEEgmNKC+5RIq8fDU+SjFz5shvRwxeL74+Lb5HqJSlAgKmvPHE7h6zv/rj5UdnBiEMiFXETpo3f1gwixH4erLW8vPvHdt5snj8+IjrvFrlqErfuvrrrXuTdVXqcQs6h2uULMIY7pn2ChJVEAQBAHVPS/Wjza836FzAoNaG+Xq418aIEoklkdGh7jZvmgGRFCErdpgqq4oLFciPNpWdSirjMQCijILCYM/JKauwx3Yf0avr8m0rPyq60Ld7p5Dg4IiIiPDwYFmD/WDAPG9LP5skk020FGckV3IYELiMJkFSYcw+mlXVWwOC0i84tmNbX9adT2V420itNqW4tLzWAhrPqw7qLvrr/WNAvl4eUf4eAO6xgkgq1ao9vaQSAAwUy4opCgECLif1LEUxuLbk3GkbDRjRLDi1YurSL0lFC2b4Dxty375vv3hRn9m/R5vIoNDg8NCIiDCZ+4zWn0tLTUl5Ub4324Eylp5MKhHqTo28ypSZX1Zlc/oD0Oqe3YNUChYBAFCe2h7hEStSs80AntdmHAuczZB34ejGn1afckQ/8uzz4zuqMABqgUfqxsV6nbqKseCjDtR4it2DcxHNY+jeIZquH6srUwKAILjsFVknnU42UuY4lZzkfnnEUGLmpKKi4sxa0cS4Ln33Hd/+1btvnenTLSYyPCQkNCoyVCOR0PVligEAHFkXTjNMkKui4OzpChowokWAQllY/dvp8pmBMqBYtuvwvsF1dVWsVIW26yLZfjqjVA8RftdkHAuS4CFjH42KG3gqYc/BrcvXqDznTRwQ5CW5R5oqSFRBEMQtw54yuUTUcIyZgPFVdxGBxxxHG4pzD2z96aIEBAwAiDdXMgp/iZgVZFFTn3mKDduTePL8rl8Srax3aHBE/wdnzh7dy7PhYy52WI1CTVHZ7xvWyIDHgCjgrTV6b22gg3cABixiRDKxFOpvYhhTGCOHC3N8SxREM8IYycTIS9F4mbu9+/K9EyFwOayCtcp4ZNeWLE8RAgwIiThzeEwHM2dmRGFDZy96SaZJPJl6eEvSdjvrHx7dc8TE6ZNHqRoky3OY49jq/PQDW366IMbuU8OZKmSe/lKpWAAMgBiFBNGU+5Qi9yxPZpv92qgC8y5z5YWEP7b+uu20Xv7wU/+ZMTSqLqetAQbsIZNJxXSDdy14jOFKfalbzWnHTrPr7O7VNTJBwAAAgsNS7vLVqJQ869Nn/IwXvXy2/5l0Zv+vf+5k1P5h/UZNeGDU4Bhtw5057VZsrdDv3bbxjIyuOzUuY1TbjibOBCDHCJC3XOEuUqj7N8Xz2OG6bt5lPgFx6sC43oPGjhqoeumZHw4kDOvbMcDTrwWnArktJKogCOKWCfi6rRiXYQwiiUTuofAO8OkVP7aDmnJfqRGikFQZFh3DVGdnFQkDJy+6b5KlpKiwND9z23cffPE9O7BXXJz/lXQQJfMLVSttQUPHjPdl624HCKHpHt6+kRoozUdms6msSu/CATQAAGfUV1nNEh8vhbzZpnpqORgA45veMjAGsdrfS6EWeg6O7xziTUFdsY57aAYVE+Yw12Sm6rqOX3T/JGuerkCXnXrs97Urvl4u7tTvcZ8rqUhkMoVSoQrR9h42NlaFcF0aCMm9I6IilSIDAG8rKLM7XBhEFAB22IoNVT5h/h5XZ0ewG4oTd6z/dsMBTtt3/isPj+oeIYa73zLUiHvezZsOpKFo2kujlngo2g8YEx+EhLoxIQiJpOqgMB++WldYpWk/9uUhUw0lhYW5GUd2/LJ1y2+aoPBQdUCDZKSaAC+Fxqf/sJFRGln9qaHGTZ4pbhsE4ES8IGTnlzghRAQAwDttJn2pTSHTqBrNxiZY9QX5OXpKExYSqpYhAMBiX/+wAFOy2eZ0NmvR3FkkqiAIojHEc5xLEJo49Q4j9w0JDfNMKxOrY3rHR3rQANhZdCkptdwGiHYVHv/hy10Bk557ZGTPDp0D2nfo5Ly4YdfBGrvLPZJS4Dg7D0jMSNr2GuJ1scY7vMvQtj4MhTl7bWHG+VS9U8FKgUK0RZ93/vy5/OF+bXyQYMk5cyq9ArfrHx2ikkLrHNeGMAabs4mjRTHGdFjnPurNB6XqiH6DunqIKYSwIffkzjPFHcQKe+2F375+xzzif28/3LttR21MRJjSeOHbU8nlRg58EADPY6eLB4l3YFhYmDzfLla36T80XEYBxvai1OSUSicAUAgAhLIziVlFY8JVEgkNxvwLR7KtQ+Z2kjbODM9Zs5J3r1z+m7XrtOeentUvygthQRDqp69u0dBC4HkXz/NNrawSTXTvSOVxg9On+9Ae3gxgzNeW56SmZDh5Ghvy963/+pKs94JnHmsX2yUiKkZSm35sU4bNZsMYAGGed/KCgDEb1a2f98EL8oC2/ftFK0QUQrg6I2HXRX0XsRyQE2HelXJk78WKOV19EXYaSrKTEy8pIkd0C1FerqsYQLCWnNi2amdx8JS5j43qpGUAWytzs7NK/VSRSrmkNcVrf4FEFQRBXIYpSq7SMglZR/b/qRo5offfnqUQA0jU3QaM6Hfhx/1rvnSW9WujltmNRcf3bM4Wd13wVJvB4R38VFv2b1pLVxe1DVJytbrfT1f3HjAh1FuMEKUN8y7P27lrl6rfkLi2Q2aN3LVkzRdfVsR3DpSzNcWpR44cKFKPfLltTyVGFMuV5yTu/OlHc/cY2lZ8ZMcxV9DQ4f26aGXQyga2YQCgaMbbX83ZD//xR9f49mFNy19At4kPdDp7cONPYMhp4++NrZVn9q75ISvw084T2vlrwmNUX/+6ciVXHB3swVUVHD+c0aFH/EOxKhZLvdSs4WTCvt2xwzpFdBk0qsuZVXtXfyGU9w/3llhq8k7s/T3fa9ATmshgDSAAk/Hi7xs3WArae4Ah5cDOKr9xT8W3bzSIAQvWmuI9m388lFM7ZqQo9/iW7AQAAEBIFRgV16N/hHfLlD5GlMjDm7UY0xL2HVWJerJNKFZK4hUzZNbo/V+v/+Ar9GDnEC/KXnvxzL6T6YZ+s0M79PXzD/beufePn36Q9m7rR9sqEo9l+IXHdogIENNSb1+5ISv58L4IuUf/oL7TxsVm7fjhe7Oue1s/L5e5Iun3lWuLY1d0n9DWAwBhF1O074flouyunmxtetLhQ0V+456dEuPdoK5iTHtqw0NCHX8e/vV7wTykiwdlzDl5OLFQOWnu4Cg/75YYrdJMyHdACIJoAIkYVJOTmZGf4wrv101lLT5fzo4e1sffQ2yvzDpTzI4YPchfzgDmrYayzMLK0O739Y/0BADepi8rKrQpuw8Y0C7A1zcgxMuky0xLvZSbm5eZmcf5tB8x9qFBncI9VIERfsragvTUjJy8/IL8vAImMn7GtInt/T0oJJKJazMyLhXp2KgBPaK0AWHhnkUXz6ZkZ+Zn5+XkVzCBnSdOnDQw1stZln/qdLrF0y/W15l6Pi0tUwcBcfdPnziwY4iMhhs2xGNT6uFzwoAJUztoWrJEMQBFIZEUigtTdTpO6RsW4uXKy6sNGjxyQKDYUFqkq0FRffv38JcBgMtUmqWr9ono1qN9pIIFzNl0uZmUb7u49m1U3r7h0b7WoqzzGan5ufkZqVkVTOCDMxZO6usnYmRhIQHOoounz+XmFeUX5Jc6fDpOfnjOkDaeDENTlL24IL242KXyD+/QLTY0UG4uyUlNTcvLzc3IysO+ncbe/1C/dsEeYlPy6l/zg7u00QjF2ZkpGenlrsApTzw2vEOAqOGEpFiwVOuOHfyzBry4moK0tPSM9Iz09PT0jIwaQRrWoWeIsoXmrECIocFaVZGXmWFUBIYHeHLFNXybDh2jA1RcTVFahdC5a9eoAG+GQuCoPncxQ9Vl3PC2Pu4vldTmH06p7vLA1L4asSI4NkRqLz5/6kJOQV5Oem6lS9olfsr4wd39fLw1vmqpvTLlYlpWXkFhfqHTM3rE+Il92ofJWTFLW3QFGTnZVnW79tHhkTFRmpqslIs5aQU5BWmpmdWyiEkzFj7Yy5dyWdP37NzrajOtF3PuVFpGdm65zbP/lIcnj+zixcDluooAgJJrg/y9ZI6S3MysnJzM7AxdjbTn6EkP3ddT6ylBrax/6SbQvTXBOEEQdxQGzFkNeZkZJXo6qnsnb2fphSJ7u9hITwlr1+efz7e16RDjKaIAC3ZjRVZ+kSSgfbRGCgC8o6aiKK+a94+M9pcgAOBM+jJdga6y1ilSeAeFhWtVHqK61xOxsbwwT1dSbXRJvX0jIiPUHiL3O6zYWZt18WKxQdq2Vxd/BYUFvra8IL9QV21FCk9NcFion0qGQNCfP7Ri2fqSNqNefrRHdV6RBWSBERF+Pkr3ONIbzNuNMViyEs/XBHfqGahoyQu0+xrLc9aijNSiKkEdGhXk5crPKRNFtov2oowVJQVlZo/QqDBPEQBwlsrcwhLw8A/19xXTgHlHaX6WlVEF+mulIhoA7Iby/PzsMoOTYj0DIyIjA7zqRrpgbKspySvQlRkcUoU6OCwsSCN3799pNRbnZJXVgjY0MiTYmwGXUV9WkFdYbeLESnVQaKhWpWApACj8esiUP7s8vmTRYFxZqudEAaHREQGedKNODYyx4LTqs1IvVtmYqwbZKHz8wqLa+Eha6P6HAfN2U7muIL/YogqJCPDkiyvN3r5+vl5yV21pRrHZNzDQ11NOIQBn7aXUNMGvY6yfnKEQxthUlHixWN25V5QMAEBwOQwFmTml1WaBVviHhAT5a2V1r3xim1FfmJ9XXm1jZN6BISEBGk+WBgAQnGZdTmZhqSsgNjZEq2QpsFaXFBTkldU4GYlncFRMmNYDsMDbqrf9Z96LZQNO/PJIbXpmuYXyCQoNC9W6O5UaFpS7nmCnubyksKC4wgpSX7+QsEC1XFKXFRJVEARx72k8h9F1ZjS6csVo9Cbq9RZcdRWs/wXBNW8KXP6pfjm+PJLwOtnj9ecOrVj2c1HMmKWLJ6jqH6Prt7jRgdWP+ATAGLfoBbrBrq9dfPNibHg7B/fQw+uWSYNv11+zvOEvNyjXuhwWfj148u5Oj3/6+vQojazhb42yAXCTYSs3ONY74kZ1teHya6srQqi+AtSXBty4Qt7oJ4Qa7Pom1RXzVv22Z+e9WNYvefvz6ivrw7UJ3+goW7BEmwcZV0EQxBXoJn+5FzW+vF1ztbvx5e8mF8ZbTsW9lGJEcqWHh0zcaJKum192G6TY0lfoG+yv4eJbKAB0o4kgrnPnu+Hym2eFknqqPBXSqyY/u+qEX2/7v9zBHXGjunqz3LujgbqFzVNXb7K6e2dipaePrdFE8n+nkO6leMKNtFUQBHEPwRhjR015Vnq+VRnYuV2w6DoffySaAGNsydxztEQV3a1TmIeYvgdvZ60OxhjzDt2ppDM2zejBseJ/R5GSqIIgiHtIowbhFvnmxL/ElYK9UXs+8Xfhyz1T914/RtORqIIgCIIgiObRYp+tJQiCIAjiH45EFQRBEARBNA8SVRAEQRAE0TxIVEEQBEEQRPMgUQVBEARBEM2DRBUEQRAEQTQPElUQBEEQBNE8SFRBEARBEETzIFEFQRAEQRDNg0QVBEEQBEE0DxJVEARBEATRPEhUQRAEQRBE8yBRBUEQBEEQzYNEFQRBEARBNA8SVRAEQRAE0TxIVEEQBEEQRPMgUQVBEP/f3h2EJq69CwD/HiSQQLNQSKBZKFRoFhYstAsHFOrChQWFcWHBwrjwggW78ELfZYZhGIZymYEZmC5auMK48EKFurBQoS5cKFSoCwsKdZFCBF2koKCLFBQSuG+htrbVTueO/3fb//1+q5qYk3NOnOTLd04yCCE0HRhVIIQQQmg6MKpACCGE0HRgVIEQQgih6cCoAiGEEELTgVEFQgghhKYDowqEEEIITQdGFQghhBCaDowqEEIIITQdGFUghBBCaDowqkAIIYTQdBD/dAUQGk8pfd1OXt5exrpfbxDx7bQ+9CFgIh9Titoup5NHpdqVRswYlld97mXuUdtNLrB+sL131mPdr//Xrh9Z3j75/CndmrFF3nj4n9vDf6X2yedPBfPWm1Xu1mLl9OuPHM1/DVVOfdypr777dZn5p6uC0A/CqAI9ZQbXK+fNRZqgeIZoL1uttO5xF6GumNxJVDmr+5WZUcqZw+Rul3mzLtA/X7FWsdq2j4QV7Wqx9fOlTqScft3OC/cuys8ewV8fTVX84+2+LvxuzfijAYbaPP7yRXTiJRihpwCjCvSEEYxBEO7cxjJ2r/GRmyvVbAXMwaBXoAFAMIK8fZiTvMLCz4YVFEvdDiualWKLYqle9ycL/rehjY8/mgih5wCjCvS8dMu771Ps4Ja2Wz9JJjPVlkbNLrmsSvpQC/y+IVxHId2mAroldhhDUDxPQaPTBfjZqEK3vKxlRsKKZrXUmbXatHypv15tltLJ41LjSiN08y7/ut1ID2pOuZahWLzoaJTBth70CCB+245pvg8bizTAYHxFdr3+9cVNGmQw5gJw+eW3vG5l680qB6p8mjrInl1eATVrcXq9duOEJo2MALHzTs+aQ2CgPx6RM7gWWifFxhXMzLsC645+CYp4fJAqXHQ0Qjdn866vCrdu/ye3i3npgHymSr18/esLun6SSmUrlz2YMSyt+rzXg0496fhbrHDR0a73ODyajtqXL5kOAOy9PaMs4XfrRlJtl9OJo2LjCgjW7PL5Bk3s3inc0om/jV0AQHL7t+Tsy3e/LtZ33yeHPxBQTr9uZ42RN14epPj7qOJ6qSumK5o1suVhW6epg8zZZQ+oWYtn3Xd3bOx+V3Slg89RcSH8xmskQa2nPu6Ji5EtDw9jukWV4u+jbdsKUylcdLSZuZU1ryAfJbODQx/wCMyw69xWKBaqLe1WO0d06yfJZLba6sGMwerxuxf1OFyEnjCcrYmeNE1Th+6tU8r70XSdc70Kh9etWv7wQrvzBUawWEby6Uqj0SM4fgppclJnsbKtYqXd/9isFjus1awbxOhdKbWbPGccgXA46GRr6URWHla+d5FrCt7NrbBPaBf2U5JKG+wC0ShK/SSHKhervVn7gv7WznhPJLSig5mlV5GtkIMDUMrx3cMa5wxFImGPUU7vxU7bY+vZFZM7iTLhCEQiYb/Qy8b+OL6uytXZSXdpfWsr5OZqmXhWVgFU+Wg3VgSrPxwJ+y1QiH07GS33oXZVD0+6Zrdv1cS0T2J76QbvCobDQQcjJneT4iCD0ymma/oV/6uXS/TFYI9DnDUUeTkLhNkf2Yp4eBK6Umo3IeocwXAk7BPameh+WQGA+4XXZte2Xi3NALsS2toKLH7n4DbSmY7J5XMv63rl+G66wXtCkUjIwzeSu0lpNNE0titok2fNohUTWVlV65lEEax+F08+0C2XhYbJuxkJublGPvYlWtK7Qv1DH08NOwV61aw853vz4cNWQGino/GScrvK7ZM/ohlF8IYi4aCDOU9EM/L9fwoIPR2Yq0BPmFaNvX97/Wk++Psvws3Kdjl7QVnDfruRBDDygZa0U7i9OW1aXTcNPyjlVKals64bpnKjpzdb2XSx0nQ4OGiWigrvFBi12F9H6Ja9rxzmBY4E4B3mXLTR1mAwO2TOu24XaADeac9WimIHTAarAPGC1F1YoFW5KPYMd/IDACSt53QUkAzHc3oAaJYyF5Qt4nvBkwC8N6BIX7J5edl7b5aoUs1WwBJat5toAN4T8Da2U9mGM2ACACAs674XJhJA57Jk96R6D3RyttS1BAIOEwkAvM9d/ZQvNu3XczkeapfOtbHh4ADUeirXYF2v117oAcDoD2hpmRpuP+8PehdoAIGuVaNSvQf89fmH1rN6GghKx3J6EkCpZCrkyqbPzpMARtdao7yTExUzm79fOMnoOIYEguM4jgGABwehZpaCIa+RBGjm9muse2ttWQ8AvNcnVmM5qWsajo11axO6QvCumz/G4okWVNWlkMtIAsDYbiEAAFiXzyHoAViXJbtXNfvci0YSjC5HrpITO+pgfo/Bs2Y3MgCM4FpfqX7JlZrLDt2wwmo9n2sZ/O88CzQA8D5vdTt5Irt+fPIJQv9fMKpAT5nBHXIbBj9SkuFJgOt8hNoSO4TRMryUkqzZSBQmXVKU84PdRI13R1yjl15Vim9Hq73v1IGyhN6t331GgeiHFdWmg4NSReGdgp48H6wj9SZBKWcPjkSxdnmlARhuytINExo0RYGqaSrQczaBiBWk7oLQPBN7Bo/AqHLq407xqr8jc+hDwDS6625T7BBGMzuskW7ONJOpyz1gG/H30Wq/g2askTduVWwCt8IPM+qMwcxqxUYHTAQAMDqmXwJJMzRomgqKJPd6nejbykgzW4oKw5GBh9plmOtfCHty/WpGuI6LSKOjP2+iCwAMz/WrQjI6GmRNnXj+UdtiU+s0dt7mb5bNNBRFHVu4qowpYjxusd+YblNsaZeHn347vFnHjoyNTe4KWvB65z8mqoQl6DHR3+kWhhvUlWZoYPhhhzMEaN1hwmGGZ4dhF6kTeCIvdtSbqKIn16+0yz/f/zbSCENHA4wq0JOFUQV6wgiGNxh/9gSqNk/ju4c13rUZtN8eOicN3shr93cLoJlxNdCbbbPpfFUWuhWFd47mF5TSt8/JlmHFufqLl1ezn/cefjqENNgEIlaUFObivGfwCAyQlHMjYh3ETxRLAnwn8tEGBbk3I87+EoJhSZAnfPEBrDsSXBxpLzHy90Ptmv6JhJjzRW49rkMwUJ5Csdd/UZZXEc/Ij4ugbueIJnSF2q61NABNljqqQJM/fLjv0tRJH4Z0tlDIwY1WdAoPMSH0n4LzKtAzRbKCTqtXWoPzsNoS5THXzG79eHfnUBb8W0HH/fdIkIz+EejxYY1esM4qJ9njksLbbgUV5ycXhC0QWF0WeD2l9b57JScNVoGoFXKF896cTaABgGQ4fuje1DyaE3RavTpsOHRqUm/GyFMApP56K44hgdQLHDQr8jCBozSqHYI36GACxsQTHbFNM32Ucn4idm6yP49qF8UbZ65EaZg9UOvHqZz0w0/GkHqB02RJoQZVIZqlkqSojyucJOC6cqrSGpvIoDmB7TUaveEOoF4qSSPfnNgVqpxJFMH6ym9W8vuFpvo3DvcdvUbjukFyuaGxwuhj0xRvnOlITRhWpCuenMvfy64h9E/CqAI9V/pF51yv+C1xItbr0mlqP9/pL1fl3LevuympC8r5wc5evsXbPMt0qyaKoihKkjy1pz/1gpW9ql5cGWym0btcgmGIK6lca7ab0mkqWdVAqcnKQzPsSIPNTNQKld6c3TT+NpSgSejUqmJdbnaBW3bN9wrx5Kkky1LpIJ5pGZwr4169xZidFqjE93NiXa6Xj+Kphs7mnDyvhJ5zWpmLROyoLNXr57n4t8NSQ725t39Uu0jjisPQSkf3T8W6dJ6Lx/LlccHe+DYSvUal30TG7FoizuLx3Hm9LpWP47FMqQPkhMJJgiGgUz6XZLmtAs2aWU3MFKR2Wz7PHBSuxu6MW3bOK/l48kSs16VS6lsiK45eqyd0hSpn9wuq1edeWPT65juZ/WLzbxzuO1qZ2MGpWK+f5+LxM23OsTz6ThLSuOKYvTyMpUpSvS6eJmPJ4oWGGWb0lOHvEz1bzGIgpCSTmdieRrAWl3s+k9YAAFS5cdnoKaDCWaUDAI1CInYzj3M++PsvwnRGpfUL1tnDQ9p6K6gAemHNb/2WjH3JAzW75PKvVI5KmbJtc3lyQSRvNVNnFZPdMCG3TZucS2w8E9vLmkMfAqbFwGY3dZCJ7vSAmrW4w94X+vGbCb6IP504iu1lgNDN24KB1Yde/Enyns0gcZBKRgsaoZuz+jddIyMEj2yX3h4MQzKZie31YMaw5Nv0CvR35lAOdr5iM8Tyf+4V5vzvNhZN3k0/mTj6c1jzDQc3sXDa7DAXkofRC501suXlrYGXtVg6+ilDzS45bOzl2HETZjGw2U0eZGJ7PaBYiyvkXdbfqs39roBmbj/fXQq5TCQAubDmm/+YSJ6aN8d2S4j/bov7KLPbqhXiey2NYM3ukO/uq7z09o0wJJNH0WK/yRveabzFDaH/mP/566+//uk6IPR3dOVyUdJZh8/3K6dft7OmZ/rCbKX8x8cUHXyHb67+V7n18hWE/jtgrgI9W0o1lxYlzbdq5qBZPcpczjrXn19IoSrNVr2QqVGL4ek89IoQQv8cjCrQc0ULvk1fKnn8504GgGLNjlDA/vz+mwy1lYvtFLqGlYALb1gRQs8ejoAghBBCaDrwGRCEEEIITQdGFQghhBCaDowqEEIIITQdGFUghBBCaDowqkAIIYTQdGBUgRBCCKHp+D/FSv1J/f6AVAAAAABJRU5ErkJggg==)"
      ]
    },
    {
      "cell_type": "code",
      "metadata": {
        "id": "tqSIrfh2AKhI",
        "colab": {
          "base_uri": "https://localhost:8080/",
          "height": 129
        },
        "outputId": "cd1fcbec-6e60-4e2c-c3ae-bf0aff51b1db"
      },
      "source": [
        "'''\n",
        "Sliding Window aproach\n",
        "def lstm_data_transform(x_data, y_data, num_steps=5):\n",
        "    \"\"\" Changes data to the format for LSTM training \n",
        "    for sliding window approach \"\"\"    # Prepare the list for the transformed data\n",
        "        X, y = list(), list()    # Loop of the entire data set\n",
        "        for i in range(x_data.shape[0]):\n",
        "            # compute a new (sliding window) index\n",
        "            end_ix = i + num_steps        # if index is larger than the size of the dataset, we stop\n",
        "            if end_ix >= x_data.shape[0]:\n",
        "                break        # Get a sequence of data for x\n",
        "            seq_X = x_data[i:end_ix]\n",
        "            # Get only the last element of the sequency for y\n",
        "            seq_y = y_data[end_ix]        # Append the list with sequencies\n",
        "            X.append(seq_X)\n",
        "            y.append(seq_y)    # Make final arrays\n",
        "    x_array = np.array(X)\n",
        "    y_array = np.array(y)    \n",
        "    return x_array, y_array\n",
        "'''\n"
      ],
      "execution_count": 12,
      "outputs": [
        {
          "output_type": "execute_result",
          "data": {
            "application/vnd.google.colaboratory.intrinsic+json": {
              "type": "string"
            },
            "text/plain": [
              "'\\nSliding Window aproach\\ndef lstm_data_transform(x_data, y_data, num_steps=5):\\n    \"\"\" Changes data to the format for LSTM training \\n    for sliding window approach \"\"\"    # Prepare the list for the transformed data\\n        X, y = list(), list()    # Loop of the entire data set\\n        for i in range(x_data.shape[0]):\\n            # compute a new (sliding window) index\\n            end_ix = i + num_steps        # if index is larger than the size of the dataset, we stop\\n            if end_ix >= x_data.shape[0]:\\n                break        # Get a sequence of data for x\\n            seq_X = x_data[i:end_ix]\\n            # Get only the last element of the sequency for y\\n            seq_y = y_data[end_ix]        # Append the list with sequencies\\n            X.append(seq_X)\\n            y.append(seq_y)    # Make final arrays\\n    x_array = np.array(X)\\n    y_array = np.array(y)    \\n    return x_array, y_array\\n'"
            ]
          },
          "metadata": {
            "tags": []
          },
          "execution_count": 12
        }
      ]
    },
    {
      "cell_type": "markdown",
      "metadata": {
        "id": "DkhZsDEPCZJM"
      },
      "source": [
        "![manytomany.png](data:image/png;base64,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)"
      ]
    },
    {
      "cell_type": "code",
      "metadata": {
        "colab": {
          "base_uri": "https://localhost:8080/",
          "height": 73
        },
        "id": "lDG2t-uqDfTK",
        "outputId": "0a67f02b-c431-4129-fe96-7ddf043873b8"
      },
      "source": [
        "# Many to many training for 3 features and 1 output \n",
        "'''\n",
        "num_steps = 3\n",
        "# training set\n",
        "x_train_shaped = np.reshape(x_train_sc, newshape=(-1, num_steps, 3))\n",
        "y_train_shaped = np.reshape(y_train_sc, newshape=(-1, num_steps, 3))\n",
        "assert x_train_shaped.shape[0] == y_train_shaped.shape[0]\n",
        "# test set\n",
        "x_test_shaped = np.reshape(x_test_sc, newshape=(-1, num_steps, 3))\n",
        "y_test_shaped = np.reshape(y_test_sc, newshape=(-1, num_steps, 3))\n",
        "assert x_test_shaped.shape[0] == y_test_shaped.shape[0]\n",
        "'''"
      ],
      "execution_count": 13,
      "outputs": [
        {
          "output_type": "execute_result",
          "data": {
            "application/vnd.google.colaboratory.intrinsic+json": {
              "type": "string"
            },
            "text/plain": [
              "'\\nnum_steps = 3\\n# training set\\nx_train_shaped = np.reshape(x_train_sc, newshape=(-1, num_steps, 3))\\ny_train_shaped = np.reshape(y_train_sc, newshape=(-1, num_steps, 3))\\nassert x_train_shaped.shape[0] == y_train_shaped.shape[0]\\n# test set\\nx_test_shaped = np.reshape(x_test_sc, newshape=(-1, num_steps, 3))\\ny_test_shaped = np.reshape(y_test_sc, newshape=(-1, num_steps, 3))\\nassert x_test_shaped.shape[0] == y_test_shaped.shape[0]\\n'"
            ]
          },
          "metadata": {
            "tags": []
          },
          "execution_count": 13
        }
      ]
    },
    {
      "cell_type": "code",
      "metadata": {
        "colab": {
          "base_uri": "https://localhost:8080/",
          "height": 73
        },
        "id": "yFtIavuYDqAG",
        "outputId": "4bbb9172-2885-48c5-d7a2-4492cc69c8b3"
      },
      "source": [
        "# Many to one training for 3 features and 1 output\n",
        "'''\n",
        "num_steps = 3# training set\n",
        "(x_train_transformed,\n",
        " y_train_transformed) = lstm_data_transform(x_train_sc, y_train_sc, num_steps=num_steps)\n",
        "assert x_train_transformed.shape[0] == y_train_transformed.shape[0]# test set\n",
        "(x_test_transformed,\n",
        " y_test_transformed) = lstm_data_transform(x_test_sc, y_test_sc, num_steps=num_steps)\n",
        "assert x_test_transformed.shape[0] == y_test_transformed.shape[0]\n",
        "'''"
      ],
      "execution_count": 14,
      "outputs": [
        {
          "output_type": "execute_result",
          "data": {
            "application/vnd.google.colaboratory.intrinsic+json": {
              "type": "string"
            },
            "text/plain": [
              "'\\nnum_steps = 3# training set\\n(x_train_transformed,\\n y_train_transformed) = lstm_data_transform(x_train_sc, y_train_sc, num_steps=num_steps)\\nassert x_train_transformed.shape[0] == y_train_transformed.shape[0]# test set\\n(x_test_transformed,\\n y_test_transformed) = lstm_data_transform(x_test_sc, y_test_sc, num_steps=num_steps)\\nassert x_test_transformed.shape[0] == y_test_transformed.shape[0]\\n'"
            ]
          },
          "metadata": {
            "tags": []
          },
          "execution_count": 14
        }
      ]
    },
    {
      "cell_type": "code",
      "metadata": {
        "id": "rAjN1Gh-lsHg"
      },
      "source": [
        "X_train = np.reshape(X_train_raw.to_numpy(), newshape=(TRAIN_LEN, 1,NUM_FEATURES))\n",
        "X_test = np.reshape(X_test_raw.to_numpy(), newshape=(TEST_LEN, 1,NUM_FEATURES))\n"
      ],
      "execution_count": 15,
      "outputs": []
    },
    {
      "cell_type": "code",
      "metadata": {
        "id": "YsnYjlpnZ-Lg",
        "colab": {
          "base_uri": "https://localhost:8080/"
        },
        "outputId": "8bd464b4-fcbe-461b-f4e4-945a62551cf7"
      },
      "source": [
        "\n",
        "regressor = keras.Sequential([layers.LSTM(units = NUM_HIDDEN, activation = 'relu',input_shape = (NUM_STEPS, NUM_FEATURES),return_sequences = True), #input shape looks like (batch_size, time_steps, units)\n",
        "                        layers.LSTM(units =NUM_HIDDEN,  return_sequences = True),\n",
        "                        layers.Dropout(0.2),\n",
        "                        layers.LSTM(units=NUM_HIDDEN,unit_forget_bias=1.0),\n",
        "                        layers.Dense(15),\n",
        "                        layers.Dense(6)])\n",
        "print(regressor.summary())\n",
        "\n"
      ],
      "execution_count": 16,
      "outputs": [
        {
          "output_type": "stream",
          "text": [
            "Model: \"sequential\"\n",
            "_________________________________________________________________\n",
            "Layer (type)                 Output Shape              Param #   \n",
            "=================================================================\n",
            "lstm (LSTM)                  (None, 7352, 32)          76032     \n",
            "_________________________________________________________________\n",
            "lstm_1 (LSTM)                (None, 7352, 32)          8320      \n",
            "_________________________________________________________________\n",
            "dropout (Dropout)            (None, 7352, 32)          0         \n",
            "_________________________________________________________________\n",
            "lstm_2 (LSTM)                (None, 32)                8320      \n",
            "_________________________________________________________________\n",
            "dense (Dense)                (None, 15)                495       \n",
            "_________________________________________________________________\n",
            "dense_1 (Dense)              (None, 6)                 96        \n",
            "=================================================================\n",
            "Total params: 93,263\n",
            "Trainable params: 93,263\n",
            "Non-trainable params: 0\n",
            "_________________________________________________________________\n",
            "None\n"
          ],
          "name": "stdout"
        }
      ]
    },
    {
      "cell_type": "code",
      "metadata": {
        "colab": {
          "base_uri": "https://localhost:8080/"
        },
        "id": "vEFkLsKk61LW",
        "outputId": "629a4699-78ea-4566-c3be-ef8a2e8e3944"
      },
      "source": [
        "print(X_train.shape)\n",
        "print(Y_train)"
      ],
      "execution_count": 17,
      "outputs": [
        {
          "output_type": "stream",
          "text": [
            "(7352, 1, 561)\n",
            "[[0 0 1 0 0 0]\n",
            " [0 0 1 0 0 0]\n",
            " [0 0 1 0 0 0]\n",
            " ...\n",
            " [0 0 0 0 0 1]\n",
            " [0 0 0 0 0 1]\n",
            " [0 0 0 0 0 1]]\n"
          ],
          "name": "stdout"
        }
      ]
    },
    {
      "cell_type": "code",
      "metadata": {
        "id": "oYJILQPJj06p",
        "colab": {
          "base_uri": "https://localhost:8080/"
        },
        "outputId": "3cd71b22-fbc3-4857-cefc-4c9d7a8535cb"
      },
      "source": [
        "regressor.compile(optimizer='adam', loss = 'mean_squared_error')\n",
        "regressor.fit(X_train, Y_train, epochs=NUM_ITERS, batch_size=BATCH_SIZE)"
      ],
      "execution_count": 18,
      "outputs": [
        {
          "output_type": "stream",
          "text": [
            "Epoch 1/100\n",
            "WARNING:tensorflow:Model was constructed with shape (None, 7352, 561) for input Tensor(\"lstm_input:0\", shape=(None, 7352, 561), dtype=float32), but it was called on an input with incompatible shape (None, 1, 561).\n",
            "WARNING:tensorflow:Model was constructed with shape (None, 7352, 561) for input Tensor(\"lstm_input:0\", shape=(None, 7352, 561), dtype=float32), but it was called on an input with incompatible shape (None, 1, 561).\n",
            "19/19 [==============================] - 0s 11ms/step - loss: 0.1444\n",
            "Epoch 2/100\n",
            "19/19 [==============================] - 0s 11ms/step - loss: 0.1074\n",
            "Epoch 3/100\n",
            "19/19 [==============================] - 0s 11ms/step - loss: 0.0803\n",
            "Epoch 4/100\n",
            "19/19 [==============================] - 0s 11ms/step - loss: 0.0551\n",
            "Epoch 5/100\n",
            "19/19 [==============================] - 0s 11ms/step - loss: 0.0403\n",
            "Epoch 6/100\n",
            "19/19 [==============================] - 0s 12ms/step - loss: 0.0304\n",
            "Epoch 7/100\n",
            "19/19 [==============================] - 0s 11ms/step - loss: 0.0240\n",
            "Epoch 8/100\n",
            "19/19 [==============================] - 0s 10ms/step - loss: 0.0210\n",
            "Epoch 9/100\n",
            "19/19 [==============================] - 0s 11ms/step - loss: 0.0184\n",
            "Epoch 10/100\n",
            "19/19 [==============================] - 0s 10ms/step - loss: 0.0160\n",
            "Epoch 11/100\n",
            "19/19 [==============================] - 0s 11ms/step - loss: 0.0141\n",
            "Epoch 12/100\n",
            "19/19 [==============================] - 0s 10ms/step - loss: 0.0124\n",
            "Epoch 13/100\n",
            "19/19 [==============================] - 0s 11ms/step - loss: 0.0112\n",
            "Epoch 14/100\n",
            "19/19 [==============================] - 0s 11ms/step - loss: 0.0112\n",
            "Epoch 15/100\n",
            "19/19 [==============================] - 0s 11ms/step - loss: 0.0105\n",
            "Epoch 16/100\n",
            "19/19 [==============================] - 0s 10ms/step - loss: 0.0094\n",
            "Epoch 17/100\n",
            "19/19 [==============================] - 0s 10ms/step - loss: 0.0087\n",
            "Epoch 18/100\n",
            "19/19 [==============================] - 0s 10ms/step - loss: 0.0086\n",
            "Epoch 19/100\n",
            "19/19 [==============================] - 0s 11ms/step - loss: 0.0083\n",
            "Epoch 20/100\n",
            "19/19 [==============================] - 0s 11ms/step - loss: 0.0070\n",
            "Epoch 21/100\n",
            "19/19 [==============================] - 0s 11ms/step - loss: 0.0069\n",
            "Epoch 22/100\n",
            "19/19 [==============================] - 0s 10ms/step - loss: 0.0068\n",
            "Epoch 23/100\n",
            "19/19 [==============================] - 0s 10ms/step - loss: 0.0062\n",
            "Epoch 24/100\n",
            "19/19 [==============================] - 0s 10ms/step - loss: 0.0057\n",
            "Epoch 25/100\n",
            "19/19 [==============================] - 0s 11ms/step - loss: 0.0057\n",
            "Epoch 26/100\n",
            "19/19 [==============================] - 0s 10ms/step - loss: 0.0056\n",
            "Epoch 27/100\n",
            "19/19 [==============================] - 0s 11ms/step - loss: 0.0057\n",
            "Epoch 28/100\n",
            "19/19 [==============================] - 0s 11ms/step - loss: 0.0053\n",
            "Epoch 29/100\n",
            "19/19 [==============================] - 0s 10ms/step - loss: 0.0072\n",
            "Epoch 30/100\n",
            "19/19 [==============================] - 0s 10ms/step - loss: 0.0051\n",
            "Epoch 31/100\n",
            "19/19 [==============================] - 0s 10ms/step - loss: 0.0047\n",
            "Epoch 32/100\n",
            "19/19 [==============================] - 0s 10ms/step - loss: 0.0051\n",
            "Epoch 33/100\n",
            "19/19 [==============================] - 0s 10ms/step - loss: 0.0046\n",
            "Epoch 34/100\n",
            "19/19 [==============================] - 0s 11ms/step - loss: 0.0056\n",
            "Epoch 35/100\n",
            "19/19 [==============================] - 0s 10ms/step - loss: 0.0045\n",
            "Epoch 36/100\n",
            "19/19 [==============================] - 0s 10ms/step - loss: 0.0054\n",
            "Epoch 37/100\n",
            "19/19 [==============================] - 0s 10ms/step - loss: 0.0051\n",
            "Epoch 38/100\n",
            "19/19 [==============================] - 0s 11ms/step - loss: 0.0040\n",
            "Epoch 39/100\n",
            "19/19 [==============================] - 0s 11ms/step - loss: 0.0043\n",
            "Epoch 40/100\n",
            "19/19 [==============================] - 0s 10ms/step - loss: 0.0045\n",
            "Epoch 41/100\n",
            "19/19 [==============================] - 0s 11ms/step - loss: 0.0041\n",
            "Epoch 42/100\n",
            "19/19 [==============================] - 0s 10ms/step - loss: 0.0038\n",
            "Epoch 43/100\n",
            "19/19 [==============================] - 0s 10ms/step - loss: 0.0042\n",
            "Epoch 44/100\n",
            "19/19 [==============================] - 0s 11ms/step - loss: 0.0033\n",
            "Epoch 45/100\n",
            "19/19 [==============================] - 0s 11ms/step - loss: 0.0036\n",
            "Epoch 46/100\n",
            "19/19 [==============================] - 0s 10ms/step - loss: 0.0037\n",
            "Epoch 47/100\n",
            "19/19 [==============================] - 0s 10ms/step - loss: 0.0032\n",
            "Epoch 48/100\n",
            "19/19 [==============================] - 0s 11ms/step - loss: 0.0033\n",
            "Epoch 49/100\n",
            "19/19 [==============================] - 0s 11ms/step - loss: 0.0034\n",
            "Epoch 50/100\n",
            "19/19 [==============================] - 0s 10ms/step - loss: 0.0038\n",
            "Epoch 51/100\n",
            "19/19 [==============================] - 0s 11ms/step - loss: 0.0043\n",
            "Epoch 52/100\n",
            "19/19 [==============================] - 0s 11ms/step - loss: 0.0035\n",
            "Epoch 53/100\n",
            "19/19 [==============================] - 0s 11ms/step - loss: 0.0030\n",
            "Epoch 54/100\n",
            "19/19 [==============================] - 0s 10ms/step - loss: 0.0040\n",
            "Epoch 55/100\n",
            "19/19 [==============================] - 0s 10ms/step - loss: 0.0028\n",
            "Epoch 56/100\n",
            "19/19 [==============================] - 0s 10ms/step - loss: 0.0028\n",
            "Epoch 57/100\n",
            "19/19 [==============================] - 0s 10ms/step - loss: 0.0026\n",
            "Epoch 58/100\n",
            "19/19 [==============================] - 0s 11ms/step - loss: 0.0028\n",
            "Epoch 59/100\n",
            "19/19 [==============================] - 0s 10ms/step - loss: 0.0027\n",
            "Epoch 60/100\n",
            "19/19 [==============================] - 0s 11ms/step - loss: 0.0046\n",
            "Epoch 61/100\n",
            "19/19 [==============================] - 0s 10ms/step - loss: 0.0034\n",
            "Epoch 62/100\n",
            "19/19 [==============================] - 0s 10ms/step - loss: 0.0031\n",
            "Epoch 63/100\n",
            "19/19 [==============================] - 0s 11ms/step - loss: 0.0026\n",
            "Epoch 64/100\n",
            "19/19 [==============================] - 0s 11ms/step - loss: 0.0028\n",
            "Epoch 65/100\n",
            "19/19 [==============================] - 0s 10ms/step - loss: 0.0038\n",
            "Epoch 66/100\n",
            "19/19 [==============================] - 0s 10ms/step - loss: 0.0028\n",
            "Epoch 67/100\n",
            "19/19 [==============================] - 0s 11ms/step - loss: 0.0023\n",
            "Epoch 68/100\n",
            "19/19 [==============================] - 0s 11ms/step - loss: 0.0027\n",
            "Epoch 69/100\n",
            "19/19 [==============================] - 0s 10ms/step - loss: 0.0030\n",
            "Epoch 70/100\n",
            "19/19 [==============================] - 0s 10ms/step - loss: 0.0029\n",
            "Epoch 71/100\n",
            "19/19 [==============================] - 0s 10ms/step - loss: 0.0026\n",
            "Epoch 72/100\n",
            "19/19 [==============================] - 0s 10ms/step - loss: 0.0028\n",
            "Epoch 73/100\n",
            "19/19 [==============================] - 0s 11ms/step - loss: 0.0030\n",
            "Epoch 74/100\n",
            "19/19 [==============================] - 0s 11ms/step - loss: 0.0027\n",
            "Epoch 75/100\n",
            "19/19 [==============================] - 0s 10ms/step - loss: 0.0021\n",
            "Epoch 76/100\n",
            "19/19 [==============================] - 0s 10ms/step - loss: 0.0027\n",
            "Epoch 77/100\n",
            "19/19 [==============================] - 0s 10ms/step - loss: 0.0026\n",
            "Epoch 78/100\n",
            "19/19 [==============================] - 0s 11ms/step - loss: 0.0029\n",
            "Epoch 79/100\n",
            "19/19 [==============================] - 0s 11ms/step - loss: 0.0039\n",
            "Epoch 80/100\n",
            "19/19 [==============================] - 0s 11ms/step - loss: 0.0025\n",
            "Epoch 81/100\n",
            "19/19 [==============================] - 0s 11ms/step - loss: 0.0024\n",
            "Epoch 82/100\n",
            "19/19 [==============================] - 0s 12ms/step - loss: 0.0023\n",
            "Epoch 83/100\n",
            "19/19 [==============================] - 0s 10ms/step - loss: 0.0021\n",
            "Epoch 84/100\n",
            "19/19 [==============================] - 0s 11ms/step - loss: 0.0025\n",
            "Epoch 85/100\n",
            "19/19 [==============================] - 0s 11ms/step - loss: 0.0018\n",
            "Epoch 86/100\n",
            "19/19 [==============================] - 0s 11ms/step - loss: 0.0034\n",
            "Epoch 87/100\n",
            "19/19 [==============================] - 0s 10ms/step - loss: 0.0021\n",
            "Epoch 88/100\n",
            "19/19 [==============================] - 0s 10ms/step - loss: 0.0020\n",
            "Epoch 89/100\n",
            "19/19 [==============================] - 0s 11ms/step - loss: 0.0024\n",
            "Epoch 90/100\n",
            "19/19 [==============================] - 0s 11ms/step - loss: 0.0023\n",
            "Epoch 91/100\n",
            "19/19 [==============================] - 0s 11ms/step - loss: 0.0018\n",
            "Epoch 92/100\n",
            "19/19 [==============================] - 0s 11ms/step - loss: 0.0029\n",
            "Epoch 93/100\n",
            "19/19 [==============================] - 0s 10ms/step - loss: 0.0045\n",
            "Epoch 94/100\n",
            "19/19 [==============================] - 0s 11ms/step - loss: 0.0024\n",
            "Epoch 95/100\n",
            "19/19 [==============================] - 0s 10ms/step - loss: 0.0017\n",
            "Epoch 96/100\n",
            "19/19 [==============================] - 0s 10ms/step - loss: 0.0025\n",
            "Epoch 97/100\n",
            "19/19 [==============================] - 0s 10ms/step - loss: 0.0020\n",
            "Epoch 98/100\n",
            "19/19 [==============================] - 0s 11ms/step - loss: 0.0024\n",
            "Epoch 99/100\n",
            "19/19 [==============================] - 0s 10ms/step - loss: 0.0032\n",
            "Epoch 100/100\n",
            "19/19 [==============================] - 0s 11ms/step - loss: 0.0022\n"
          ],
          "name": "stdout"
        },
        {
          "output_type": "execute_result",
          "data": {
            "text/plain": [
              "<tensorflow.python.keras.callbacks.History at 0x7fe06a849710>"
            ]
          },
          "metadata": {
            "tags": []
          },
          "execution_count": 18
        }
      ]
    },
    {
      "cell_type": "code",
      "metadata": {
        "colab": {
          "base_uri": "https://localhost:8080/"
        },
        "id": "ZvrQmLRwEnh1",
        "outputId": "9b7395f2-6d5f-407f-adc2-5b069d129295"
      },
      "source": [
        "y_pred_train = regressor.predict(X_train)"
      ],
      "execution_count": 19,
      "outputs": [
        {
          "output_type": "stream",
          "text": [
            "WARNING:tensorflow:Model was constructed with shape (None, 7352, 561) for input Tensor(\"lstm_input:0\", shape=(None, 7352, 561), dtype=float32), but it was called on an input with incompatible shape (None, 1, 561).\n"
          ],
          "name": "stdout"
        }
      ]
    },
    {
      "cell_type": "code",
      "metadata": {
        "id": "PG2xLKMx_4mO"
      },
      "source": [
        "correct_pred = tf.equal(tf.argmax(y_pred_train), tf.argmax(Y_train))\n",
        "accuracy = tf.reduce_mean(tf.cast(correct_pred, tf.float32))"
      ],
      "execution_count": 20,
      "outputs": []
    },
    {
      "cell_type": "code",
      "metadata": {
        "colab": {
          "base_uri": "https://localhost:8080/"
        },
        "id": "SyuyF5wY_kIf",
        "outputId": "09ea7a8f-d9f5-411b-907b-229505e314d2"
      },
      "source": [
        "print(accuracy)"
      ],
      "execution_count": 21,
      "outputs": [
        {
          "output_type": "stream",
          "text": [
            "tf.Tensor(0.0, shape=(), dtype=float32)\n"
          ],
          "name": "stdout"
        }
      ]
    },
    {
      "cell_type": "code",
      "metadata": {
        "id": "E2eujJQo_zrv"
      },
      "source": [
        "y_pred_test = regressor.predict(X_test)\n",
        "correct_pred_test = tf.equal(tf.argmax(y_pred_test,1), tf.argmax(Y_test,1))\n",
        "accuracy_test = tf.reduce_mean(tf.cast(correct_pred_test, tf.float32))\n"
      ],
      "execution_count": 30,
      "outputs": []
    },
    {
      "cell_type": "code",
      "metadata": {
        "colab": {
          "base_uri": "https://localhost:8080/"
        },
        "id": "3RZ2wWBWIAtU",
        "outputId": "18b60046-7271-462d-bbca-63295f3e0a17"
      },
      "source": [
        "predictions_test = encoder.inverse_transform(y_pred_test)\n",
        "print(predictions_test)"
      ],
      "execution_count": 31,
      "outputs": [
        {
          "output_type": "stream",
          "text": [
            "['STANDING' 'STANDING' 'STANDING' ... 'WALKING_UPSTAIRS'\n",
            " 'WALKING_UPSTAIRS' 'WALKING_UPSTAIRS']\n"
          ],
          "name": "stdout"
        }
      ]
    },
    {
      "cell_type": "code",
      "metadata": {
        "colab": {
          "base_uri": "https://localhost:8080/"
        },
        "id": "gg_K1Mu_Acxl",
        "outputId": "4ec328c2-4b7a-48bc-b906-1dd5cc414eaf"
      },
      "source": [
        "print(accuracy_test)"
      ],
      "execution_count": 32,
      "outputs": [
        {
          "output_type": "stream",
          "text": [
            "tf.Tensor(0.9524941, shape=(), dtype=float32)\n"
          ],
          "name": "stdout"
        }
      ]
    },
    {
      "cell_type": "code",
      "metadata": {
        "colab": {
          "base_uri": "https://localhost:8080/"
        },
        "id": "n67l1cRjLmqj",
        "outputId": "0ec802b2-fcef-4933-e865-0f2aaf6c5533"
      },
      "source": [
        "from sklearn.metrics import confusion_matrix\n",
        "y_unique = np.unique(predictions_test)\n",
        "mcm = confusion_matrix(Y_test_raw, predictions_test, labels = y_unique)\n",
        "mcm"
      ],
      "execution_count": 33,
      "outputs": [
        {
          "output_type": "execute_result",
          "data": {
            "text/plain": [
              "array([[532,   0,   5,   0,   0,   0],\n",
              "       [  0, 451,  39,   0,   0,   1],\n",
              "       [  0,  35, 497,   0,   0,   0],\n",
              "       [  0,   0,   0, 488,   2,   6],\n",
              "       [  0,   0,   0,   3, 390,  27],\n",
              "       [  0,   0,   0,  21,   1, 449]])"
            ]
          },
          "metadata": {
            "tags": []
          },
          "execution_count": 33
        }
      ]
    }
  ]
}